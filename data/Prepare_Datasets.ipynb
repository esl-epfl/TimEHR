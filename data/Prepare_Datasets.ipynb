{
 "cells": [
  {
   "cell_type": "markdown",
   "metadata": {},
   "source": [
    "# Libraries"
   ]
  },
  {
   "cell_type": "code",
   "execution_count": 40,
   "metadata": {},
   "outputs": [
    {
     "name": "stdout",
     "output_type": "stream",
     "text": [
      "The autoreload extension is already loaded. To reload it, use:\n",
      "  %reload_ext autoreload\n"
     ]
    }
   ],
   "source": [
    "# activate line execution\n",
    "from IPython.core.interactiveshell import InteractiveShell\n",
    "InteractiveShell.ast_node_interactivity = \"all\"\n",
    "\n",
    "%load_ext autoreload\n",
    "%autoreload 2\n"
   ]
  },
  {
   "cell_type": "code",
   "execution_count": 41,
   "metadata": {},
   "outputs": [],
   "source": [
    "\n",
    "# general\n",
    "import numpy as np\n",
    "import pandas as pd\n",
    "\n",
    "\n",
    "# import custom libraries\n",
    "import sys\n",
    "import os\n",
    "import tqdm\n",
    "import pickle\n",
    "import yaml"
   ]
  },
  {
   "cell_type": "code",
   "execution_count": 42,
   "metadata": {},
   "outputs": [],
   "source": [
    "\n",
    "# plotly\n",
    "import plotly.express as px  # (version 4.7.0 or higher)\n",
    "import plotly.graph_objects as go\n",
    "from plotly.subplots import make_subplots\n",
    "import matplotlib.pyplot as plt\n"
   ]
  },
  {
   "cell_type": "code",
   "execution_count": 43,
   "metadata": {},
   "outputs": [],
   "source": [
    "from sklearn.model_selection import train_test_split\n",
    "from sklearn.model_selection import KFold\n",
    "\n",
    "from sklearn.preprocessing import OneHotEncoder"
   ]
  },
  {
   "cell_type": "code",
   "execution_count": 44,
   "metadata": {},
   "outputs": [],
   "source": [
    "import torch\n",
    "from torch.utils.data import Dataset, DataLoader\n",
    "import torchvision.transforms as transforms"
   ]
  },
  {
   "cell_type": "markdown",
   "metadata": {},
   "source": [
    "# Header\n",
    "\n",
    "* Specify the dataset\n",
    "* Make sure there is a data config in `configs/data/{DATASET}.yaml`\n",
    "    * it must contain `name`, `path_raw`."
   ]
  },
  {
   "cell_type": "code",
   "execution_count": 61,
   "metadata": {},
   "outputs": [
    {
     "name": "stdout",
     "output_type": "stream",
     "text": [
      "DATASET: sim-l0.2-d16\n",
      "PATH_RAW: .././data/raw\n",
      "PATH_PROCESSED: .././data/processed/sim-l0.2-d16\n",
      "GRAN: 1\n",
      "IMG_SIZE: 64\n",
      "N_SPLIT: 1\n",
      "SEED: 42\n"
     ]
    }
   ],
   "source": [
    "list_datasets = ['p12','p19','mimic','sim-l0.2-d16']\n",
    "\n",
    "DATASET = 'sim-l0.2-d16'\n",
    "\n",
    "config_data = yaml.safe_load(open(f'../configs/data/{DATASET}.yaml'))\n",
    "\n",
    "PATH_RAW = config_data['path_raw']\n",
    "if not os.path.isabs(PATH_RAW):\n",
    "    PATH_RAW = '../' + PATH_RAW\n",
    "\n",
    "\n",
    "if 'path_processed' not in config_data:\n",
    "    PATH_PROCESSED = PATH_RAW + f'processed/{DATASET}/'\n",
    "    config_data['path_processed'] = PATH_PROCESSED\n",
    "else:\n",
    "    PATH_PROCESSED = config_data['path_processed']\n",
    "    \n",
    "if not os.path.isabs(PATH_PROCESSED):\n",
    "    PATH_PROCESSED = '../' + PATH_PROCESSED\n",
    "# create path_processed if it does not exist\n",
    "if not os.path.exists(PATH_PROCESSED):    \n",
    "    os.makedirs(PATH_PROCESSED)\n",
    "\n",
    "# with open(f'../configs/data/{DATASET}.yaml', 'w') as file:\n",
    "#     documents = yaml.dump(config_data, file)\n",
    "\n",
    "\n",
    "# if paths are relative, add prefix '../'\n",
    "\n",
    "\n",
    "\n",
    "# This will shuffle the order of clinical time series in the image\n",
    "SUFFLE_VARS = True\n",
    "\n",
    "\n",
    "# for TimEHR format\n",
    "GRAN = config_data['granularity'] # granularity of the image (in hours)\n",
    "IMG_SIZE = config_data['img_size'] # granularity of the image\n",
    "N_SPLIT = config_data['n_split'] # number of splits for the cross-validation\n",
    "SEED = config_data['seed'] # seed for the random number generator\n",
    "\n",
    "print(f\"DATASET: {DATASET}\")\n",
    "print(f\"PATH_RAW: {PATH_RAW}\")\n",
    "print(f\"PATH_PROCESSED: {PATH_PROCESSED}\")\n",
    "print(f\"GRAN: {GRAN}\")\n",
    "print(f\"IMG_SIZE: {IMG_SIZE}\")\n",
    "print(f\"N_SPLIT: {N_SPLIT}\")\n",
    "print(f\"SEED: {SEED}\")"
   ]
  },
  {
   "cell_type": "markdown",
   "metadata": {},
   "source": [
    "# Processed Format"
   ]
  },
  {
   "cell_type": "code",
   "execution_count": 62,
   "metadata": {},
   "outputs": [
    {
     "name": "stdout",
     "output_type": "stream",
     "text": [
      "# Distribution of maximum time:\n",
      "count    80000.0\n",
      "mean        15.0\n",
      "std          0.0\n",
      "min         15.0\n",
      "25%         15.0\n",
      "50%         15.0\n",
      "75%         15.0\n",
      "max         15.0\n",
      "Name: timepoint, dtype: float64\n"
     ]
    }
   ],
   "source": [
    "\n",
    "if DATASET=='p12':\n",
    "    print('### Handling P12 dataset')\n",
    "    df = pd.read_csv(PATH_RAW+f'/{DATASET}.csv', index_col=None)\n",
    "    \n",
    "    print('# Number of patients:',df.RecordID.nunique())\n",
    "\n",
    "    # convert time to hours\n",
    "    df['Time'] = df['Time'].apply(lambda x:       int(x.split(':')[0]) + int(x.split(':')[1])/60      )\n",
    "\n",
    "    # rename column\n",
    "    df.rename(columns={'In-hospital_death':'outcome','RecordID':'id','Time':'timepoint'}, inplace=True)\n",
    "    \n",
    "    print('# Prevelence of in-hospital mortality: ', df.outcome.mean())\n",
    "\n",
    "    # columns handling\n",
    "    all_cols = df.columns\n",
    "\n",
    "    cols_id = ['id','timepoint']\n",
    "    cols_outcome = ['outcome']\n",
    "    cols_demo = ['Age','Gender','Height','ICUType','Weight']\n",
    "    demo_types = ['continuous','binary','continuous','categorical','continuous']\n",
    "    cols_vital = ['HR','NIDiasABP', 'NIMAP', 'NISysABP','RespRate', 'Temp','DiasABP','MAP','SysABP', 'GCS']\n",
    "    cols_lab = [ 'BUN', 'Creatinine', 'Glucose', 'HCO3', 'HCT', 'K', 'Mg','Na', 'Platelets','Urine', 'WBC','FiO2', 'PaCO2', 'PaO2', 'SaO2', 'pH', 'ALP', 'ALT',\n",
    "        'AST', 'Albumin', 'Bilirubin', 'Lactate', 'Cholesterol', 'TroponinI',\n",
    "        'TroponinT']\n",
    "    # cols_ignore = ['MechVent','Hospital'] # will be ignored\n",
    "\n",
    "\n",
    "    # some demo vars are -1 which means missing\n",
    "    df[cols_demo] = df[cols_demo].replace(-1,np.nan)\n",
    "\n",
    "    # median impuation for missing values\n",
    "    df[cols_demo] = df[cols_demo].fillna(df[cols_demo].median())\n",
    "    \n",
    "\n",
    "\n",
    "    \n",
    "elif DATASET in ['p19']:\n",
    "    print('### Handling P19 dataset')\n",
    "\n",
    "\n",
    "    # data from hispital A and B\n",
    "    df_A = pd.read_csv(PATH_RAW+'/df_A.csv')#.merge(df_filenames_A,on='id')\n",
    "    df_A['Hospital']=0\n",
    "\n",
    "    df_B = pd.read_csv(PATH_RAW+'/df_B.csv')#.merge(df_filenames_B,on='id')\n",
    "    df_B['Hospital']=1\n",
    "\n",
    "    # combine two datasets into one\n",
    "    df_B['id']=df_B['id']+len(df_A['id'].unique())\n",
    "    df=pd.concat([df_A,df_B])\n",
    "\n",
    "    print('# Number of patients:',df.id.nunique())\n",
    "    \n",
    "    pos_ids = df[df.SepsisLabel==1].id.unique()    \n",
    "\n",
    "    print('# Prevelence of sepsis:',len(pos_ids)/df.id.nunique())\n",
    "    # IMPORTANT\n",
    "    # we shift the label 6 hours before. This is because the label at each row indicates sepsis for the next 6 hours\n",
    "    df['SepsisLabel'] = df.groupby('id')['SepsisLabel'].shift(6, fill_value=0).astype(int)\n",
    "\n",
    "    # we remove the rows with label 1. Our goal is to predict sepsis patients, not the detection of onset of sepsis   \n",
    "    df = df[df.SepsisLabel!=1]\n",
    "\n",
    "    # if patient is septic, we set the label to 1 across all rows\n",
    "    df.loc[df.id.isin(pos_ids),'SepsisLabel'] = 1\n",
    "    df.loc[~df.id.isin(pos_ids),'SepsisLabel'] = 0\n",
    "    \n",
    "\n",
    "\n",
    "    # rename column\n",
    "    df.rename(columns={'SepsisLabel':'outcome','ICULOS':'timepoint'}, inplace=True)\n",
    "\n",
    "\n",
    "    print('# Distribution of LOS: brefore removing patients with LOS>64')\n",
    "    print('# df.shape:',df.shape)\n",
    "    print(df.groupby('id')['timepoint'].max().describe())\n",
    "    # df['Time'].hist(bins=100)\n",
    "    \n",
    "    # we only keep first 64 hours\n",
    "    df = df[df.timepoint<=63]\n",
    "\n",
    "    print('# Distribution of LOS: after removing patients with LOS>64')\n",
    "    print('# df.shape:',df.shape)\n",
    "    print(df.groupby('id')['timepoint'].max().describe())\n",
    "    # df['timepoint'].hist(bins=100)\n",
    "\n",
    "    \n",
    "    # columns handling\n",
    "    all_cols = df.columns\n",
    "\n",
    "    cols_id = ['id','timepoint']\n",
    "    cols_outcome = ['outcome']\n",
    "    cols_demo = ['Age','Gender','HospAdmTime']\n",
    "    demo_types = ['continuous','binary','continuous']\n",
    "    cols_vital = [ 'HR', 'O2Sat', 'Temp', 'SBP', 'MAP', 'DBP', 'Resp'] \n",
    "    cols_lab = [ \n",
    "        'BUN','Creatinine', 'Glucose',  'HCO3', 'Potassium','Magnesium',\n",
    "        'Hct','Platelets','WBC',\n",
    "        'FiO2', 'PaCO2','pH','SaO2',        \n",
    "         'Alkalinephos','AST', 'Bilirubin_total','Bilirubin_direct',\n",
    "         'Lactate',  'TroponinI',\n",
    "        'Hgb', 'Chloride', \n",
    "          'Phosphate', 'Calcium',    'PTT',   'Fibrinogen' ]\n",
    "    # cols_ignore = ['EtCO2','BaseExcess','Unit1', 'Unit2','Hospital'] # will be ignored\n",
    "\n",
    "elif DATASET in ['mimic']:\n",
    "\n",
    "    df = pd.read_csv(PATH_RAW+'/df_mimic.csv', index_col=None)\n",
    "\n",
    "    # rename column\n",
    "    df.rename(columns={'Label':'outcome','RecordID':'id','Time':'timepoint'}, inplace=True)\n",
    "    # columns handling\n",
    "    all_cols = df.columns\n",
    " \n",
    "    cols_id = ['id','timepoint']\n",
    "    cols_outcome = ['outcome']\n",
    "    cols_demo = ['Age','Height','Weight']\n",
    "    demo_types = ['continuous','continuous','continuous']\n",
    "    cols_vital = ['heartrate', 'sysbp', 'diasbp', 'meanbp',\n",
    "        'resprate', 'tempc', 'spo2']\n",
    "    cols_lab = [ 'glucose_chart',  'endotrachflag', 'bg_so2', 'bg_po2', 'bg_pco2',\n",
    "        'bg_pao2fio2ratio', 'bg_ph', 'bg_baseexcess', 'bg_bicarbonate',\n",
    "        'bg_totalco2', 'bg_hematocrit', 'bg_hemoglobin', 'bg_carboxyhemoglobin',\n",
    "        'bg_methemoglobin', 'bg_chloride', 'bg_calcium', 'bg_temperature',\n",
    "        'bg_potassium', 'bg_sodium', 'bg_lactate', 'bg_glucose', 'aniongap',\n",
    "        'albumin', 'bands', 'bicarbonate', 'bilirubin', 'creatinine',\n",
    "        'chloride', 'glucose', 'hematocrit', 'hemoglobin', 'lactate',\n",
    "        'platelet', 'potassium', 'ptt', 'inr', 'pt', 'sodium', 'bun', 'wbc',\n",
    "        'urineoutput']\n",
    "    # cols_ignore = []\n",
    "\n",
    "elif 'sim' in DATASET:\n",
    "    \n",
    "    df = pd.read_csv(PATH_RAW+f'/{DATASET}.csv')\n",
    "\n",
    "    if '16' in DATASET:\n",
    "        seq_len = 16\n",
    "    elif '32' in DATASET:\n",
    "        seq_len = 32\n",
    "    elif '64' in DATASET:\n",
    "        seq_len = 64\n",
    "    elif '128' in DATASET:\n",
    "        seq_len = 128\n",
    "    # seq_len = 128 if '128' in DATASET else 64\n",
    "\n",
    "    \n",
    "\n",
    "    # MODE 1: disjoint\n",
    "\n",
    "    a = len(df)//seq_len*seq_len\n",
    "    df = df.iloc[:a]\n",
    "    # simplify above\n",
    "\n",
    "    var_names = df.columns.tolist()\n",
    "\n",
    "    df['timepoint'] =  np.tile(np.arange(seq_len),len(df)//seq_len)\n",
    "    df['id'] = np.repeat(np.arange(len(df)//seq_len),seq_len)\n",
    "    \n",
    "    \n",
    "\n",
    "\n",
    "    # continue\n",
    "    \n",
    "    # set age randomly\n",
    "    df['Age'] = np.random.randint(20,80,len(df))  # dummy    \n",
    "    df['outcome'] = 0\n",
    "    all_cols = df.columns\n",
    "\n",
    "    cols_id = ['id','timepoint']\n",
    "    cols_outcome = ['outcome'] # dummy\n",
    "    cols_demo = ['Age'] # dummy\n",
    "    demo_types = ['continuous'] # dummy\n",
    "    cols_vital = var_names\n",
    "    cols_lab = []\n",
    "    cols_ignore = []\n",
    "\n",
    "\n",
    "\n",
    "\n",
    "print('# Distribution of maximum time:')\n",
    "print(df.groupby('id')['timepoint'].max().describe())"
   ]
  },
  {
   "cell_type": "code",
   "execution_count": 63,
   "metadata": {},
   "outputs": [
    {
     "name": "stdout",
     "output_type": "stream",
     "text": [
      "remaining_cols:  []\n"
     ]
    }
   ],
   "source": [
    "remaining_cols = list(set(all_cols) - set(cols_id) - set(cols_outcome) - set(cols_demo) - set(cols_vital) - set(cols_lab) )\n",
    "\n",
    "\n",
    "print(\"remaining_cols: \", remaining_cols)\n"
   ]
  },
  {
   "cell_type": "code",
   "execution_count": 64,
   "metadata": {},
   "outputs": [
    {
     "data": {
      "text/plain": [
       "['var_0',\n",
       " 'var_1',\n",
       " 'var_2',\n",
       " 'var_3',\n",
       " 'var_4',\n",
       " 'var_5',\n",
       " 'var_6',\n",
       " 'var_7',\n",
       " 'var_8',\n",
       " 'var_9',\n",
       " 'var_10',\n",
       " 'var_11',\n",
       " 'var_12',\n",
       " 'var_13',\n",
       " 'var_14',\n",
       " 'var_15']"
      ]
     },
     "execution_count": 64,
     "metadata": {},
     "output_type": "execute_result"
    },
    {
     "data": {
      "text/plain": [
       "['var_0',\n",
       " 'var_1',\n",
       " 'var_5',\n",
       " 'var_14',\n",
       " 'var_13',\n",
       " 'var_11',\n",
       " 'var_8',\n",
       " 'var_9',\n",
       " 'var_2',\n",
       " 'var_15',\n",
       " 'var_4',\n",
       " 'var_7',\n",
       " 'var_10',\n",
       " 'var_12',\n",
       " 'var_3',\n",
       " 'var_6']"
      ]
     },
     "execution_count": 64,
     "metadata": {},
     "output_type": "execute_result"
    },
    {
     "data": {
      "text/plain": [
       "{'Age': 0}"
      ]
     },
     "execution_count": 64,
     "metadata": {},
     "output_type": "execute_result"
    },
    {
     "name": "stdout",
     "output_type": "stream",
     "text": [
      "number of state variables (vital+lab):  16\n",
      "number of demographic variables:  1\n"
     ]
    }
   ],
   "source": [
    "state_vars = cols_vital+cols_lab\n",
    "state_vars\n",
    "if SUFFLE_VARS:\n",
    "    np.random.seed(SEED)\n",
    "    np.random.shuffle(state_vars)\n",
    "\n",
    "state_vars\n",
    "demo_vars = cols_demo\n",
    "\n",
    "dict_map_states = {label:i for i,label in enumerate(state_vars)}\n",
    "\n",
    "dict_map_demos = {k:i for i,k in enumerate(cols_demo)}\n",
    "dict_map_demos\n",
    "\n",
    "\n",
    "print(\"number of state variables (vital+lab): \", len(state_vars))\n",
    "print(\"number of demographic variables: \", len(demo_vars))\n",
    "\n",
    "config_data['ts_vars'] = state_vars\n",
    "config_data['static_vars'] = demo_vars\n",
    "\n",
    "config_data['n_ts'] = len(state_vars)\n",
    "config_data['n_static'] = len(demo_vars)\n",
    "config_data['static_types'] = demo_types\n",
    "\n",
    "\n",
    "\n",
    "# d_conditional is the number of dimensions after transforming static data\n",
    "d_conditional = 1 # for outcome\n",
    "\n",
    "for var,type in zip(demo_vars,demo_types):\n",
    "    if type=='binary':\n",
    "        d_conditional += 1\n",
    "    elif type=='categorical':\n",
    "        d_conditional += len(df[var].unique())\n",
    "    elif type=='continuous':\n",
    "        d_conditional += 1\n",
    "\n",
    "config_data['d_conditional'] = d_conditional\n"
   ]
  },
  {
   "cell_type": "code",
   "execution_count": 65,
   "metadata": {},
   "outputs": [
    {
     "data": {
      "text/plain": [
       "{'granularity': 1,\n",
       " 'img_size': 64,\n",
       " 'n_split': 1,\n",
       " 'name': 'sim',\n",
       " 'path_processed': './data/processed/sim-l0.2-d16',\n",
       " 'path_raw': './data/raw',\n",
       " 'seed': 42,\n",
       " 'ts_vars': ['var_0',\n",
       "  'var_1',\n",
       "  'var_5',\n",
       "  'var_14',\n",
       "  'var_13',\n",
       "  'var_11',\n",
       "  'var_8',\n",
       "  'var_9',\n",
       "  'var_2',\n",
       "  'var_15',\n",
       "  'var_4',\n",
       "  'var_7',\n",
       "  'var_10',\n",
       "  'var_12',\n",
       "  'var_3',\n",
       "  'var_6'],\n",
       " 'static_vars': ['Age'],\n",
       " 'n_ts': 16,\n",
       " 'n_static': 1,\n",
       " 'static_types': ['continuous'],\n",
       " 'd_conditional': 2}"
      ]
     },
     "execution_count": 65,
     "metadata": {},
     "output_type": "execute_result"
    }
   ],
   "source": [
    "config_data"
   ]
  },
  {
   "cell_type": "code",
   "execution_count": 66,
   "metadata": {},
   "outputs": [
    {
     "data": {
      "text/plain": [
       "((1280000, 18), (80000, 3))"
      ]
     },
     "execution_count": 66,
     "metadata": {},
     "output_type": "execute_result"
    },
    {
     "data": {
      "text/html": [
       "<div>\n",
       "<style scoped>\n",
       "    .dataframe tbody tr th:only-of-type {\n",
       "        vertical-align: middle;\n",
       "    }\n",
       "\n",
       "    .dataframe tbody tr th {\n",
       "        vertical-align: top;\n",
       "    }\n",
       "\n",
       "    .dataframe thead th {\n",
       "        text-align: right;\n",
       "    }\n",
       "</style>\n",
       "<table border=\"1\" class=\"dataframe\">\n",
       "  <thead>\n",
       "    <tr style=\"text-align: right;\">\n",
       "      <th></th>\n",
       "      <th>id</th>\n",
       "      <th>timepoint</th>\n",
       "      <th>var_0</th>\n",
       "      <th>var_1</th>\n",
       "      <th>var_5</th>\n",
       "      <th>var_14</th>\n",
       "      <th>var_13</th>\n",
       "      <th>var_11</th>\n",
       "      <th>var_8</th>\n",
       "      <th>var_9</th>\n",
       "      <th>var_2</th>\n",
       "      <th>var_15</th>\n",
       "      <th>var_4</th>\n",
       "      <th>var_7</th>\n",
       "      <th>var_10</th>\n",
       "      <th>var_12</th>\n",
       "      <th>var_3</th>\n",
       "      <th>var_6</th>\n",
       "    </tr>\n",
       "  </thead>\n",
       "  <tbody>\n",
       "    <tr>\n",
       "      <th>0</th>\n",
       "      <td>0</td>\n",
       "      <td>0</td>\n",
       "      <td>NaN</td>\n",
       "      <td>NaN</td>\n",
       "      <td>NaN</td>\n",
       "      <td>NaN</td>\n",
       "      <td>NaN</td>\n",
       "      <td>NaN</td>\n",
       "      <td>NaN</td>\n",
       "      <td>-0.780745</td>\n",
       "      <td>-0.096466</td>\n",
       "      <td>NaN</td>\n",
       "      <td>NaN</td>\n",
       "      <td>NaN</td>\n",
       "      <td>NaN</td>\n",
       "      <td>NaN</td>\n",
       "      <td>NaN</td>\n",
       "      <td>NaN</td>\n",
       "    </tr>\n",
       "    <tr>\n",
       "      <th>1</th>\n",
       "      <td>0</td>\n",
       "      <td>1</td>\n",
       "      <td>NaN</td>\n",
       "      <td>0.494321</td>\n",
       "      <td>NaN</td>\n",
       "      <td>0.490799</td>\n",
       "      <td>NaN</td>\n",
       "      <td>NaN</td>\n",
       "      <td>NaN</td>\n",
       "      <td>NaN</td>\n",
       "      <td>NaN</td>\n",
       "      <td>NaN</td>\n",
       "      <td>NaN</td>\n",
       "      <td>NaN</td>\n",
       "      <td>NaN</td>\n",
       "      <td>NaN</td>\n",
       "      <td>NaN</td>\n",
       "      <td>NaN</td>\n",
       "    </tr>\n",
       "    <tr>\n",
       "      <th>2</th>\n",
       "      <td>0</td>\n",
       "      <td>2</td>\n",
       "      <td>NaN</td>\n",
       "      <td>NaN</td>\n",
       "      <td>NaN</td>\n",
       "      <td>NaN</td>\n",
       "      <td>NaN</td>\n",
       "      <td>NaN</td>\n",
       "      <td>NaN</td>\n",
       "      <td>NaN</td>\n",
       "      <td>NaN</td>\n",
       "      <td>-0.10319</td>\n",
       "      <td>NaN</td>\n",
       "      <td>NaN</td>\n",
       "      <td>NaN</td>\n",
       "      <td>NaN</td>\n",
       "      <td>NaN</td>\n",
       "      <td>NaN</td>\n",
       "    </tr>\n",
       "    <tr>\n",
       "      <th>3</th>\n",
       "      <td>0</td>\n",
       "      <td>3</td>\n",
       "      <td>NaN</td>\n",
       "      <td>NaN</td>\n",
       "      <td>NaN</td>\n",
       "      <td>NaN</td>\n",
       "      <td>0.310968</td>\n",
       "      <td>0.783479</td>\n",
       "      <td>NaN</td>\n",
       "      <td>NaN</td>\n",
       "      <td>NaN</td>\n",
       "      <td>NaN</td>\n",
       "      <td>NaN</td>\n",
       "      <td>NaN</td>\n",
       "      <td>NaN</td>\n",
       "      <td>NaN</td>\n",
       "      <td>NaN</td>\n",
       "      <td>-0.311633</td>\n",
       "    </tr>\n",
       "    <tr>\n",
       "      <th>4</th>\n",
       "      <td>0</td>\n",
       "      <td>4</td>\n",
       "      <td>NaN</td>\n",
       "      <td>NaN</td>\n",
       "      <td>1.051831</td>\n",
       "      <td>NaN</td>\n",
       "      <td>NaN</td>\n",
       "      <td>NaN</td>\n",
       "      <td>NaN</td>\n",
       "      <td>NaN</td>\n",
       "      <td>-1.302450</td>\n",
       "      <td>NaN</td>\n",
       "      <td>NaN</td>\n",
       "      <td>NaN</td>\n",
       "      <td>NaN</td>\n",
       "      <td>NaN</td>\n",
       "      <td>NaN</td>\n",
       "      <td>NaN</td>\n",
       "    </tr>\n",
       "  </tbody>\n",
       "</table>\n",
       "</div>"
      ],
      "text/plain": [
       "   id  timepoint  var_0     var_1     var_5    var_14    var_13    var_11  \\\n",
       "0   0          0    NaN       NaN       NaN       NaN       NaN       NaN   \n",
       "1   0          1    NaN  0.494321       NaN  0.490799       NaN       NaN   \n",
       "2   0          2    NaN       NaN       NaN       NaN       NaN       NaN   \n",
       "3   0          3    NaN       NaN       NaN       NaN  0.310968  0.783479   \n",
       "4   0          4    NaN       NaN  1.051831       NaN       NaN       NaN   \n",
       "\n",
       "   var_8     var_9     var_2   var_15  var_4  var_7  var_10  var_12  var_3  \\\n",
       "0    NaN -0.780745 -0.096466      NaN    NaN    NaN     NaN     NaN    NaN   \n",
       "1    NaN       NaN       NaN      NaN    NaN    NaN     NaN     NaN    NaN   \n",
       "2    NaN       NaN       NaN -0.10319    NaN    NaN     NaN     NaN    NaN   \n",
       "3    NaN       NaN       NaN      NaN    NaN    NaN     NaN     NaN    NaN   \n",
       "4    NaN       NaN -1.302450      NaN    NaN    NaN     NaN     NaN    NaN   \n",
       "\n",
       "      var_6  \n",
       "0       NaN  \n",
       "1       NaN  \n",
       "2       NaN  \n",
       "3 -0.311633  \n",
       "4       NaN  "
      ]
     },
     "execution_count": 66,
     "metadata": {},
     "output_type": "execute_result"
    },
    {
     "data": {
      "text/html": [
       "<div>\n",
       "<style scoped>\n",
       "    .dataframe tbody tr th:only-of-type {\n",
       "        vertical-align: middle;\n",
       "    }\n",
       "\n",
       "    .dataframe tbody tr th {\n",
       "        vertical-align: top;\n",
       "    }\n",
       "\n",
       "    .dataframe thead th {\n",
       "        text-align: right;\n",
       "    }\n",
       "</style>\n",
       "<table border=\"1\" class=\"dataframe\">\n",
       "  <thead>\n",
       "    <tr style=\"text-align: right;\">\n",
       "      <th></th>\n",
       "      <th>id</th>\n",
       "      <th>Age</th>\n",
       "      <th>outcome</th>\n",
       "    </tr>\n",
       "  </thead>\n",
       "  <tbody>\n",
       "    <tr>\n",
       "      <th>0</th>\n",
       "      <td>0</td>\n",
       "      <td>34</td>\n",
       "      <td>0</td>\n",
       "    </tr>\n",
       "    <tr>\n",
       "      <th>16</th>\n",
       "      <td>1</td>\n",
       "      <td>34</td>\n",
       "      <td>0</td>\n",
       "    </tr>\n",
       "    <tr>\n",
       "      <th>32</th>\n",
       "      <td>2</td>\n",
       "      <td>78</td>\n",
       "      <td>0</td>\n",
       "    </tr>\n",
       "    <tr>\n",
       "      <th>48</th>\n",
       "      <td>3</td>\n",
       "      <td>78</td>\n",
       "      <td>0</td>\n",
       "    </tr>\n",
       "    <tr>\n",
       "      <th>64</th>\n",
       "      <td>4</td>\n",
       "      <td>52</td>\n",
       "      <td>0</td>\n",
       "    </tr>\n",
       "  </tbody>\n",
       "</table>\n",
       "</div>"
      ],
      "text/plain": [
       "    id  Age  outcome\n",
       "0    0   34        0\n",
       "16   1   34        0\n",
       "32   2   78        0\n",
       "48   3   78        0\n",
       "64   4   52        0"
      ]
     },
     "execution_count": 66,
     "metadata": {},
     "output_type": "execute_result"
    }
   ],
   "source": [
    "# split df to df_ts and df_static\n",
    "\n",
    "df['id'] = df['id'].astype(int)\n",
    "df['outcome'] = df['outcome'].astype(int)\n",
    "\n",
    "df_ts = df[['id','timepoint']+state_vars].copy()\n",
    "df_static = df[['id']+cols_demo+cols_outcome].drop_duplicates(subset='id').copy()\n",
    "\n",
    "df_ts.shape, df_static.shape\n",
    "\n",
    "df_ts.head()\n",
    "df_static.head()"
   ]
  },
  {
   "cell_type": "code",
   "execution_count": 67,
   "metadata": {},
   "outputs": [
    {
     "data": {
      "text/plain": [
       "id           0.000000\n",
       "timepoint    0.000000\n",
       "var_0        4.551259\n",
       "var_1        4.550256\n",
       "var_5        4.551263\n",
       "var_14       4.547860\n",
       "var_13       4.550299\n",
       "var_11       4.549253\n",
       "var_8        4.550130\n",
       "var_9        4.548468\n",
       "var_2        4.550786\n",
       "var_15       4.549588\n",
       "var_4        4.550590\n",
       "var_7        4.547504\n",
       "var_10       4.550894\n",
       "var_12       4.549006\n",
       "var_3        4.549913\n",
       "var_6        4.547674\n",
       "dtype: float64"
      ]
     },
     "execution_count": 67,
     "metadata": {},
     "output_type": "execute_result"
    },
    {
     "data": {
      "text/plain": [
       "id         0.0\n",
       "Age        0.0\n",
       "outcome    0.0\n",
       "dtype: float64"
      ]
     },
     "execution_count": 67,
     "metadata": {},
     "output_type": "execute_result"
    },
    {
     "name": "stdout",
     "output_type": "stream",
     "text": [
      "overall missingness rate(%):  72.79474392361112\n"
     ]
    },
    {
     "data": {
      "application/vnd.plotly.v1+json": {
       "config": {
        "plotlyServerURL": "https://plot.ly"
       },
       "data": [
        {
         "alignmentgroup": "True",
         "hovertemplate": "Variable=%{x}<br>Missing rate (%)=%{y}<extra></extra>",
         "legendgroup": "",
         "marker": {
          "color": "#636efa",
          "pattern": {
           "shape": ""
          }
         },
         "name": "",
         "offsetgroup": "",
         "orientation": "v",
         "showlegend": false,
         "textposition": "auto",
         "type": "bar",
         "x": [
          "var_5",
          "var_0",
          "var_10",
          "var_2",
          "var_4",
          "var_13",
          "var_1",
          "var_8",
          "var_3",
          "var_15",
          "var_11",
          "var_12",
          "var_9",
          "var_14",
          "var_6",
          "var_7"
         ],
         "xaxis": "x",
         "y": [
          81.92273437499999,
          81.92265625,
          81.91609375,
          81.914140625,
          81.91062500000001,
          81.905390625,
          81.904609375,
          81.90234375,
          81.8984375,
          81.892578125,
          81.88656250000001,
          81.882109375,
          81.872421875,
          81.861484375,
          81.858125,
          81.855078125
         ],
         "yaxis": "y"
        }
       ],
       "layout": {
        "barmode": "relative",
        "legend": {
         "tracegroupgap": 0
        },
        "template": {
         "data": {
          "bar": [
           {
            "error_x": {
             "color": "#2a3f5f"
            },
            "error_y": {
             "color": "#2a3f5f"
            },
            "marker": {
             "line": {
              "color": "#E5ECF6",
              "width": 0.5
             },
             "pattern": {
              "fillmode": "overlay",
              "size": 10,
              "solidity": 0.2
             }
            },
            "type": "bar"
           }
          ],
          "barpolar": [
           {
            "marker": {
             "line": {
              "color": "#E5ECF6",
              "width": 0.5
             },
             "pattern": {
              "fillmode": "overlay",
              "size": 10,
              "solidity": 0.2
             }
            },
            "type": "barpolar"
           }
          ],
          "carpet": [
           {
            "aaxis": {
             "endlinecolor": "#2a3f5f",
             "gridcolor": "white",
             "linecolor": "white",
             "minorgridcolor": "white",
             "startlinecolor": "#2a3f5f"
            },
            "baxis": {
             "endlinecolor": "#2a3f5f",
             "gridcolor": "white",
             "linecolor": "white",
             "minorgridcolor": "white",
             "startlinecolor": "#2a3f5f"
            },
            "type": "carpet"
           }
          ],
          "choropleth": [
           {
            "colorbar": {
             "outlinewidth": 0,
             "ticks": ""
            },
            "type": "choropleth"
           }
          ],
          "contour": [
           {
            "colorbar": {
             "outlinewidth": 0,
             "ticks": ""
            },
            "colorscale": [
             [
              0,
              "#0d0887"
             ],
             [
              0.1111111111111111,
              "#46039f"
             ],
             [
              0.2222222222222222,
              "#7201a8"
             ],
             [
              0.3333333333333333,
              "#9c179e"
             ],
             [
              0.4444444444444444,
              "#bd3786"
             ],
             [
              0.5555555555555556,
              "#d8576b"
             ],
             [
              0.6666666666666666,
              "#ed7953"
             ],
             [
              0.7777777777777778,
              "#fb9f3a"
             ],
             [
              0.8888888888888888,
              "#fdca26"
             ],
             [
              1,
              "#f0f921"
             ]
            ],
            "type": "contour"
           }
          ],
          "contourcarpet": [
           {
            "colorbar": {
             "outlinewidth": 0,
             "ticks": ""
            },
            "type": "contourcarpet"
           }
          ],
          "heatmap": [
           {
            "colorbar": {
             "outlinewidth": 0,
             "ticks": ""
            },
            "colorscale": [
             [
              0,
              "#0d0887"
             ],
             [
              0.1111111111111111,
              "#46039f"
             ],
             [
              0.2222222222222222,
              "#7201a8"
             ],
             [
              0.3333333333333333,
              "#9c179e"
             ],
             [
              0.4444444444444444,
              "#bd3786"
             ],
             [
              0.5555555555555556,
              "#d8576b"
             ],
             [
              0.6666666666666666,
              "#ed7953"
             ],
             [
              0.7777777777777778,
              "#fb9f3a"
             ],
             [
              0.8888888888888888,
              "#fdca26"
             ],
             [
              1,
              "#f0f921"
             ]
            ],
            "type": "heatmap"
           }
          ],
          "heatmapgl": [
           {
            "colorbar": {
             "outlinewidth": 0,
             "ticks": ""
            },
            "colorscale": [
             [
              0,
              "#0d0887"
             ],
             [
              0.1111111111111111,
              "#46039f"
             ],
             [
              0.2222222222222222,
              "#7201a8"
             ],
             [
              0.3333333333333333,
              "#9c179e"
             ],
             [
              0.4444444444444444,
              "#bd3786"
             ],
             [
              0.5555555555555556,
              "#d8576b"
             ],
             [
              0.6666666666666666,
              "#ed7953"
             ],
             [
              0.7777777777777778,
              "#fb9f3a"
             ],
             [
              0.8888888888888888,
              "#fdca26"
             ],
             [
              1,
              "#f0f921"
             ]
            ],
            "type": "heatmapgl"
           }
          ],
          "histogram": [
           {
            "marker": {
             "pattern": {
              "fillmode": "overlay",
              "size": 10,
              "solidity": 0.2
             }
            },
            "type": "histogram"
           }
          ],
          "histogram2d": [
           {
            "colorbar": {
             "outlinewidth": 0,
             "ticks": ""
            },
            "colorscale": [
             [
              0,
              "#0d0887"
             ],
             [
              0.1111111111111111,
              "#46039f"
             ],
             [
              0.2222222222222222,
              "#7201a8"
             ],
             [
              0.3333333333333333,
              "#9c179e"
             ],
             [
              0.4444444444444444,
              "#bd3786"
             ],
             [
              0.5555555555555556,
              "#d8576b"
             ],
             [
              0.6666666666666666,
              "#ed7953"
             ],
             [
              0.7777777777777778,
              "#fb9f3a"
             ],
             [
              0.8888888888888888,
              "#fdca26"
             ],
             [
              1,
              "#f0f921"
             ]
            ],
            "type": "histogram2d"
           }
          ],
          "histogram2dcontour": [
           {
            "colorbar": {
             "outlinewidth": 0,
             "ticks": ""
            },
            "colorscale": [
             [
              0,
              "#0d0887"
             ],
             [
              0.1111111111111111,
              "#46039f"
             ],
             [
              0.2222222222222222,
              "#7201a8"
             ],
             [
              0.3333333333333333,
              "#9c179e"
             ],
             [
              0.4444444444444444,
              "#bd3786"
             ],
             [
              0.5555555555555556,
              "#d8576b"
             ],
             [
              0.6666666666666666,
              "#ed7953"
             ],
             [
              0.7777777777777778,
              "#fb9f3a"
             ],
             [
              0.8888888888888888,
              "#fdca26"
             ],
             [
              1,
              "#f0f921"
             ]
            ],
            "type": "histogram2dcontour"
           }
          ],
          "mesh3d": [
           {
            "colorbar": {
             "outlinewidth": 0,
             "ticks": ""
            },
            "type": "mesh3d"
           }
          ],
          "parcoords": [
           {
            "line": {
             "colorbar": {
              "outlinewidth": 0,
              "ticks": ""
             }
            },
            "type": "parcoords"
           }
          ],
          "pie": [
           {
            "automargin": true,
            "type": "pie"
           }
          ],
          "scatter": [
           {
            "fillpattern": {
             "fillmode": "overlay",
             "size": 10,
             "solidity": 0.2
            },
            "type": "scatter"
           }
          ],
          "scatter3d": [
           {
            "line": {
             "colorbar": {
              "outlinewidth": 0,
              "ticks": ""
             }
            },
            "marker": {
             "colorbar": {
              "outlinewidth": 0,
              "ticks": ""
             }
            },
            "type": "scatter3d"
           }
          ],
          "scattercarpet": [
           {
            "marker": {
             "colorbar": {
              "outlinewidth": 0,
              "ticks": ""
             }
            },
            "type": "scattercarpet"
           }
          ],
          "scattergeo": [
           {
            "marker": {
             "colorbar": {
              "outlinewidth": 0,
              "ticks": ""
             }
            },
            "type": "scattergeo"
           }
          ],
          "scattergl": [
           {
            "marker": {
             "colorbar": {
              "outlinewidth": 0,
              "ticks": ""
             }
            },
            "type": "scattergl"
           }
          ],
          "scattermapbox": [
           {
            "marker": {
             "colorbar": {
              "outlinewidth": 0,
              "ticks": ""
             }
            },
            "type": "scattermapbox"
           }
          ],
          "scatterpolar": [
           {
            "marker": {
             "colorbar": {
              "outlinewidth": 0,
              "ticks": ""
             }
            },
            "type": "scatterpolar"
           }
          ],
          "scatterpolargl": [
           {
            "marker": {
             "colorbar": {
              "outlinewidth": 0,
              "ticks": ""
             }
            },
            "type": "scatterpolargl"
           }
          ],
          "scatterternary": [
           {
            "marker": {
             "colorbar": {
              "outlinewidth": 0,
              "ticks": ""
             }
            },
            "type": "scatterternary"
           }
          ],
          "surface": [
           {
            "colorbar": {
             "outlinewidth": 0,
             "ticks": ""
            },
            "colorscale": [
             [
              0,
              "#0d0887"
             ],
             [
              0.1111111111111111,
              "#46039f"
             ],
             [
              0.2222222222222222,
              "#7201a8"
             ],
             [
              0.3333333333333333,
              "#9c179e"
             ],
             [
              0.4444444444444444,
              "#bd3786"
             ],
             [
              0.5555555555555556,
              "#d8576b"
             ],
             [
              0.6666666666666666,
              "#ed7953"
             ],
             [
              0.7777777777777778,
              "#fb9f3a"
             ],
             [
              0.8888888888888888,
              "#fdca26"
             ],
             [
              1,
              "#f0f921"
             ]
            ],
            "type": "surface"
           }
          ],
          "table": [
           {
            "cells": {
             "fill": {
              "color": "#EBF0F8"
             },
             "line": {
              "color": "white"
             }
            },
            "header": {
             "fill": {
              "color": "#C8D4E3"
             },
             "line": {
              "color": "white"
             }
            },
            "type": "table"
           }
          ]
         },
         "layout": {
          "annotationdefaults": {
           "arrowcolor": "#2a3f5f",
           "arrowhead": 0,
           "arrowwidth": 1
          },
          "autotypenumbers": "strict",
          "coloraxis": {
           "colorbar": {
            "outlinewidth": 0,
            "ticks": ""
           }
          },
          "colorscale": {
           "diverging": [
            [
             0,
             "#8e0152"
            ],
            [
             0.1,
             "#c51b7d"
            ],
            [
             0.2,
             "#de77ae"
            ],
            [
             0.3,
             "#f1b6da"
            ],
            [
             0.4,
             "#fde0ef"
            ],
            [
             0.5,
             "#f7f7f7"
            ],
            [
             0.6,
             "#e6f5d0"
            ],
            [
             0.7,
             "#b8e186"
            ],
            [
             0.8,
             "#7fbc41"
            ],
            [
             0.9,
             "#4d9221"
            ],
            [
             1,
             "#276419"
            ]
           ],
           "sequential": [
            [
             0,
             "#0d0887"
            ],
            [
             0.1111111111111111,
             "#46039f"
            ],
            [
             0.2222222222222222,
             "#7201a8"
            ],
            [
             0.3333333333333333,
             "#9c179e"
            ],
            [
             0.4444444444444444,
             "#bd3786"
            ],
            [
             0.5555555555555556,
             "#d8576b"
            ],
            [
             0.6666666666666666,
             "#ed7953"
            ],
            [
             0.7777777777777778,
             "#fb9f3a"
            ],
            [
             0.8888888888888888,
             "#fdca26"
            ],
            [
             1,
             "#f0f921"
            ]
           ],
           "sequentialminus": [
            [
             0,
             "#0d0887"
            ],
            [
             0.1111111111111111,
             "#46039f"
            ],
            [
             0.2222222222222222,
             "#7201a8"
            ],
            [
             0.3333333333333333,
             "#9c179e"
            ],
            [
             0.4444444444444444,
             "#bd3786"
            ],
            [
             0.5555555555555556,
             "#d8576b"
            ],
            [
             0.6666666666666666,
             "#ed7953"
            ],
            [
             0.7777777777777778,
             "#fb9f3a"
            ],
            [
             0.8888888888888888,
             "#fdca26"
            ],
            [
             1,
             "#f0f921"
            ]
           ]
          },
          "colorway": [
           "#636efa",
           "#EF553B",
           "#00cc96",
           "#ab63fa",
           "#FFA15A",
           "#19d3f3",
           "#FF6692",
           "#B6E880",
           "#FF97FF",
           "#FECB52"
          ],
          "font": {
           "color": "#2a3f5f"
          },
          "geo": {
           "bgcolor": "white",
           "lakecolor": "white",
           "landcolor": "#E5ECF6",
           "showlakes": true,
           "showland": true,
           "subunitcolor": "white"
          },
          "hoverlabel": {
           "align": "left"
          },
          "hovermode": "closest",
          "mapbox": {
           "style": "light"
          },
          "paper_bgcolor": "white",
          "plot_bgcolor": "#E5ECF6",
          "polar": {
           "angularaxis": {
            "gridcolor": "white",
            "linecolor": "white",
            "ticks": ""
           },
           "bgcolor": "#E5ECF6",
           "radialaxis": {
            "gridcolor": "white",
            "linecolor": "white",
            "ticks": ""
           }
          },
          "scene": {
           "xaxis": {
            "backgroundcolor": "#E5ECF6",
            "gridcolor": "white",
            "gridwidth": 2,
            "linecolor": "white",
            "showbackground": true,
            "ticks": "",
            "zerolinecolor": "white"
           },
           "yaxis": {
            "backgroundcolor": "#E5ECF6",
            "gridcolor": "white",
            "gridwidth": 2,
            "linecolor": "white",
            "showbackground": true,
            "ticks": "",
            "zerolinecolor": "white"
           },
           "zaxis": {
            "backgroundcolor": "#E5ECF6",
            "gridcolor": "white",
            "gridwidth": 2,
            "linecolor": "white",
            "showbackground": true,
            "ticks": "",
            "zerolinecolor": "white"
           }
          },
          "shapedefaults": {
           "line": {
            "color": "#2a3f5f"
           }
          },
          "ternary": {
           "aaxis": {
            "gridcolor": "white",
            "linecolor": "white",
            "ticks": ""
           },
           "baxis": {
            "gridcolor": "white",
            "linecolor": "white",
            "ticks": ""
           },
           "bgcolor": "#E5ECF6",
           "caxis": {
            "gridcolor": "white",
            "linecolor": "white",
            "ticks": ""
           }
          },
          "title": {
           "x": 0.05
          },
          "xaxis": {
           "automargin": true,
           "gridcolor": "white",
           "linecolor": "white",
           "ticks": "",
           "title": {
            "standoff": 15
           },
           "zerolinecolor": "white",
           "zerolinewidth": 2
          },
          "yaxis": {
           "automargin": true,
           "gridcolor": "white",
           "linecolor": "white",
           "ticks": "",
           "title": {
            "standoff": 15
           },
           "zerolinecolor": "white",
           "zerolinewidth": 2
          }
         }
        },
        "title": {
         "text": "Missing rate for each variable"
        },
        "xaxis": {
         "anchor": "y",
         "domain": [
          0,
          1
         ],
         "title": {
          "text": "Variable"
         }
        },
        "yaxis": {
         "anchor": "x",
         "domain": [
          0,
          1
         ],
         "title": {
          "text": "Missing rate (%)"
         }
        }
       }
      },
      "text/html": [
       "<div>                            <div id=\"0fd2baf2-c2f1-4293-9190-41c269bd05ed\" class=\"plotly-graph-div\" style=\"height:525px; width:100%;\"></div>            <script type=\"text/javascript\">                require([\"plotly\"], function(Plotly) {                    window.PLOTLYENV=window.PLOTLYENV || {};                                    if (document.getElementById(\"0fd2baf2-c2f1-4293-9190-41c269bd05ed\")) {                    Plotly.newPlot(                        \"0fd2baf2-c2f1-4293-9190-41c269bd05ed\",                        [{\"alignmentgroup\":\"True\",\"hovertemplate\":\"Variable=%{x}\\u003cbr\\u003eMissing rate (%)=%{y}\\u003cextra\\u003e\\u003c\\u002fextra\\u003e\",\"legendgroup\":\"\",\"marker\":{\"color\":\"#636efa\",\"pattern\":{\"shape\":\"\"}},\"name\":\"\",\"offsetgroup\":\"\",\"orientation\":\"v\",\"showlegend\":false,\"textposition\":\"auto\",\"x\":[\"var_5\",\"var_0\",\"var_10\",\"var_2\",\"var_4\",\"var_13\",\"var_1\",\"var_8\",\"var_3\",\"var_15\",\"var_11\",\"var_12\",\"var_9\",\"var_14\",\"var_6\",\"var_7\"],\"xaxis\":\"x\",\"y\":[81.92273437499999,81.92265625,81.91609375,81.914140625,81.91062500000001,81.905390625,81.904609375,81.90234375,81.8984375,81.892578125,81.88656250000001,81.882109375,81.872421875,81.861484375,81.858125,81.855078125],\"yaxis\":\"y\",\"type\":\"bar\"}],                        {\"template\":{\"data\":{\"histogram2dcontour\":[{\"type\":\"histogram2dcontour\",\"colorbar\":{\"outlinewidth\":0,\"ticks\":\"\"},\"colorscale\":[[0.0,\"#0d0887\"],[0.1111111111111111,\"#46039f\"],[0.2222222222222222,\"#7201a8\"],[0.3333333333333333,\"#9c179e\"],[0.4444444444444444,\"#bd3786\"],[0.5555555555555556,\"#d8576b\"],[0.6666666666666666,\"#ed7953\"],[0.7777777777777778,\"#fb9f3a\"],[0.8888888888888888,\"#fdca26\"],[1.0,\"#f0f921\"]]}],\"choropleth\":[{\"type\":\"choropleth\",\"colorbar\":{\"outlinewidth\":0,\"ticks\":\"\"}}],\"histogram2d\":[{\"type\":\"histogram2d\",\"colorbar\":{\"outlinewidth\":0,\"ticks\":\"\"},\"colorscale\":[[0.0,\"#0d0887\"],[0.1111111111111111,\"#46039f\"],[0.2222222222222222,\"#7201a8\"],[0.3333333333333333,\"#9c179e\"],[0.4444444444444444,\"#bd3786\"],[0.5555555555555556,\"#d8576b\"],[0.6666666666666666,\"#ed7953\"],[0.7777777777777778,\"#fb9f3a\"],[0.8888888888888888,\"#fdca26\"],[1.0,\"#f0f921\"]]}],\"heatmap\":[{\"type\":\"heatmap\",\"colorbar\":{\"outlinewidth\":0,\"ticks\":\"\"},\"colorscale\":[[0.0,\"#0d0887\"],[0.1111111111111111,\"#46039f\"],[0.2222222222222222,\"#7201a8\"],[0.3333333333333333,\"#9c179e\"],[0.4444444444444444,\"#bd3786\"],[0.5555555555555556,\"#d8576b\"],[0.6666666666666666,\"#ed7953\"],[0.7777777777777778,\"#fb9f3a\"],[0.8888888888888888,\"#fdca26\"],[1.0,\"#f0f921\"]]}],\"heatmapgl\":[{\"type\":\"heatmapgl\",\"colorbar\":{\"outlinewidth\":0,\"ticks\":\"\"},\"colorscale\":[[0.0,\"#0d0887\"],[0.1111111111111111,\"#46039f\"],[0.2222222222222222,\"#7201a8\"],[0.3333333333333333,\"#9c179e\"],[0.4444444444444444,\"#bd3786\"],[0.5555555555555556,\"#d8576b\"],[0.6666666666666666,\"#ed7953\"],[0.7777777777777778,\"#fb9f3a\"],[0.8888888888888888,\"#fdca26\"],[1.0,\"#f0f921\"]]}],\"contourcarpet\":[{\"type\":\"contourcarpet\",\"colorbar\":{\"outlinewidth\":0,\"ticks\":\"\"}}],\"contour\":[{\"type\":\"contour\",\"colorbar\":{\"outlinewidth\":0,\"ticks\":\"\"},\"colorscale\":[[0.0,\"#0d0887\"],[0.1111111111111111,\"#46039f\"],[0.2222222222222222,\"#7201a8\"],[0.3333333333333333,\"#9c179e\"],[0.4444444444444444,\"#bd3786\"],[0.5555555555555556,\"#d8576b\"],[0.6666666666666666,\"#ed7953\"],[0.7777777777777778,\"#fb9f3a\"],[0.8888888888888888,\"#fdca26\"],[1.0,\"#f0f921\"]]}],\"surface\":[{\"type\":\"surface\",\"colorbar\":{\"outlinewidth\":0,\"ticks\":\"\"},\"colorscale\":[[0.0,\"#0d0887\"],[0.1111111111111111,\"#46039f\"],[0.2222222222222222,\"#7201a8\"],[0.3333333333333333,\"#9c179e\"],[0.4444444444444444,\"#bd3786\"],[0.5555555555555556,\"#d8576b\"],[0.6666666666666666,\"#ed7953\"],[0.7777777777777778,\"#fb9f3a\"],[0.8888888888888888,\"#fdca26\"],[1.0,\"#f0f921\"]]}],\"mesh3d\":[{\"type\":\"mesh3d\",\"colorbar\":{\"outlinewidth\":0,\"ticks\":\"\"}}],\"scatter\":[{\"fillpattern\":{\"fillmode\":\"overlay\",\"size\":10,\"solidity\":0.2},\"type\":\"scatter\"}],\"parcoords\":[{\"type\":\"parcoords\",\"line\":{\"colorbar\":{\"outlinewidth\":0,\"ticks\":\"\"}}}],\"scatterpolargl\":[{\"type\":\"scatterpolargl\",\"marker\":{\"colorbar\":{\"outlinewidth\":0,\"ticks\":\"\"}}}],\"bar\":[{\"error_x\":{\"color\":\"#2a3f5f\"},\"error_y\":{\"color\":\"#2a3f5f\"},\"marker\":{\"line\":{\"color\":\"#E5ECF6\",\"width\":0.5},\"pattern\":{\"fillmode\":\"overlay\",\"size\":10,\"solidity\":0.2}},\"type\":\"bar\"}],\"scattergeo\":[{\"type\":\"scattergeo\",\"marker\":{\"colorbar\":{\"outlinewidth\":0,\"ticks\":\"\"}}}],\"scatterpolar\":[{\"type\":\"scatterpolar\",\"marker\":{\"colorbar\":{\"outlinewidth\":0,\"ticks\":\"\"}}}],\"histogram\":[{\"marker\":{\"pattern\":{\"fillmode\":\"overlay\",\"size\":10,\"solidity\":0.2}},\"type\":\"histogram\"}],\"scattergl\":[{\"type\":\"scattergl\",\"marker\":{\"colorbar\":{\"outlinewidth\":0,\"ticks\":\"\"}}}],\"scatter3d\":[{\"type\":\"scatter3d\",\"line\":{\"colorbar\":{\"outlinewidth\":0,\"ticks\":\"\"}},\"marker\":{\"colorbar\":{\"outlinewidth\":0,\"ticks\":\"\"}}}],\"scattermapbox\":[{\"type\":\"scattermapbox\",\"marker\":{\"colorbar\":{\"outlinewidth\":0,\"ticks\":\"\"}}}],\"scatterternary\":[{\"type\":\"scatterternary\",\"marker\":{\"colorbar\":{\"outlinewidth\":0,\"ticks\":\"\"}}}],\"scattercarpet\":[{\"type\":\"scattercarpet\",\"marker\":{\"colorbar\":{\"outlinewidth\":0,\"ticks\":\"\"}}}],\"carpet\":[{\"aaxis\":{\"endlinecolor\":\"#2a3f5f\",\"gridcolor\":\"white\",\"linecolor\":\"white\",\"minorgridcolor\":\"white\",\"startlinecolor\":\"#2a3f5f\"},\"baxis\":{\"endlinecolor\":\"#2a3f5f\",\"gridcolor\":\"white\",\"linecolor\":\"white\",\"minorgridcolor\":\"white\",\"startlinecolor\":\"#2a3f5f\"},\"type\":\"carpet\"}],\"table\":[{\"cells\":{\"fill\":{\"color\":\"#EBF0F8\"},\"line\":{\"color\":\"white\"}},\"header\":{\"fill\":{\"color\":\"#C8D4E3\"},\"line\":{\"color\":\"white\"}},\"type\":\"table\"}],\"barpolar\":[{\"marker\":{\"line\":{\"color\":\"#E5ECF6\",\"width\":0.5},\"pattern\":{\"fillmode\":\"overlay\",\"size\":10,\"solidity\":0.2}},\"type\":\"barpolar\"}],\"pie\":[{\"automargin\":true,\"type\":\"pie\"}]},\"layout\":{\"autotypenumbers\":\"strict\",\"colorway\":[\"#636efa\",\"#EF553B\",\"#00cc96\",\"#ab63fa\",\"#FFA15A\",\"#19d3f3\",\"#FF6692\",\"#B6E880\",\"#FF97FF\",\"#FECB52\"],\"font\":{\"color\":\"#2a3f5f\"},\"hovermode\":\"closest\",\"hoverlabel\":{\"align\":\"left\"},\"paper_bgcolor\":\"white\",\"plot_bgcolor\":\"#E5ECF6\",\"polar\":{\"bgcolor\":\"#E5ECF6\",\"angularaxis\":{\"gridcolor\":\"white\",\"linecolor\":\"white\",\"ticks\":\"\"},\"radialaxis\":{\"gridcolor\":\"white\",\"linecolor\":\"white\",\"ticks\":\"\"}},\"ternary\":{\"bgcolor\":\"#E5ECF6\",\"aaxis\":{\"gridcolor\":\"white\",\"linecolor\":\"white\",\"ticks\":\"\"},\"baxis\":{\"gridcolor\":\"white\",\"linecolor\":\"white\",\"ticks\":\"\"},\"caxis\":{\"gridcolor\":\"white\",\"linecolor\":\"white\",\"ticks\":\"\"}},\"coloraxis\":{\"colorbar\":{\"outlinewidth\":0,\"ticks\":\"\"}},\"colorscale\":{\"sequential\":[[0.0,\"#0d0887\"],[0.1111111111111111,\"#46039f\"],[0.2222222222222222,\"#7201a8\"],[0.3333333333333333,\"#9c179e\"],[0.4444444444444444,\"#bd3786\"],[0.5555555555555556,\"#d8576b\"],[0.6666666666666666,\"#ed7953\"],[0.7777777777777778,\"#fb9f3a\"],[0.8888888888888888,\"#fdca26\"],[1.0,\"#f0f921\"]],\"sequentialminus\":[[0.0,\"#0d0887\"],[0.1111111111111111,\"#46039f\"],[0.2222222222222222,\"#7201a8\"],[0.3333333333333333,\"#9c179e\"],[0.4444444444444444,\"#bd3786\"],[0.5555555555555556,\"#d8576b\"],[0.6666666666666666,\"#ed7953\"],[0.7777777777777778,\"#fb9f3a\"],[0.8888888888888888,\"#fdca26\"],[1.0,\"#f0f921\"]],\"diverging\":[[0,\"#8e0152\"],[0.1,\"#c51b7d\"],[0.2,\"#de77ae\"],[0.3,\"#f1b6da\"],[0.4,\"#fde0ef\"],[0.5,\"#f7f7f7\"],[0.6,\"#e6f5d0\"],[0.7,\"#b8e186\"],[0.8,\"#7fbc41\"],[0.9,\"#4d9221\"],[1,\"#276419\"]]},\"xaxis\":{\"gridcolor\":\"white\",\"linecolor\":\"white\",\"ticks\":\"\",\"title\":{\"standoff\":15},\"zerolinecolor\":\"white\",\"automargin\":true,\"zerolinewidth\":2},\"yaxis\":{\"gridcolor\":\"white\",\"linecolor\":\"white\",\"ticks\":\"\",\"title\":{\"standoff\":15},\"zerolinecolor\":\"white\",\"automargin\":true,\"zerolinewidth\":2},\"scene\":{\"xaxis\":{\"backgroundcolor\":\"#E5ECF6\",\"gridcolor\":\"white\",\"linecolor\":\"white\",\"showbackground\":true,\"ticks\":\"\",\"zerolinecolor\":\"white\",\"gridwidth\":2},\"yaxis\":{\"backgroundcolor\":\"#E5ECF6\",\"gridcolor\":\"white\",\"linecolor\":\"white\",\"showbackground\":true,\"ticks\":\"\",\"zerolinecolor\":\"white\",\"gridwidth\":2},\"zaxis\":{\"backgroundcolor\":\"#E5ECF6\",\"gridcolor\":\"white\",\"linecolor\":\"white\",\"showbackground\":true,\"ticks\":\"\",\"zerolinecolor\":\"white\",\"gridwidth\":2}},\"shapedefaults\":{\"line\":{\"color\":\"#2a3f5f\"}},\"annotationdefaults\":{\"arrowcolor\":\"#2a3f5f\",\"arrowhead\":0,\"arrowwidth\":1},\"geo\":{\"bgcolor\":\"white\",\"landcolor\":\"#E5ECF6\",\"subunitcolor\":\"white\",\"showland\":true,\"showlakes\":true,\"lakecolor\":\"white\"},\"title\":{\"x\":0.05},\"mapbox\":{\"style\":\"light\"}}},\"xaxis\":{\"anchor\":\"y\",\"domain\":[0.0,1.0],\"title\":{\"text\":\"Variable\"}},\"yaxis\":{\"anchor\":\"x\",\"domain\":[0.0,1.0],\"title\":{\"text\":\"Missing rate (%)\"}},\"legend\":{\"tracegroupgap\":0},\"title\":{\"text\":\"Missing rate for each variable\"},\"barmode\":\"relative\"},                        {\"responsive\": true}                    ).then(function(){\n",
       "                            \n",
       "var gd = document.getElementById('0fd2baf2-c2f1-4293-9190-41c269bd05ed');\n",
       "var x = new MutationObserver(function (mutations, observer) {{\n",
       "        var display = window.getComputedStyle(gd).display;\n",
       "        if (!display || display === 'none') {{\n",
       "            console.log([gd, 'removed!']);\n",
       "            Plotly.purge(gd);\n",
       "            observer.disconnect();\n",
       "        }}\n",
       "}});\n",
       "\n",
       "// Listen for the removal of the full notebook cells\n",
       "var notebookContainer = gd.closest('#notebook-container');\n",
       "if (notebookContainer) {{\n",
       "    x.observe(notebookContainer, {childList: true});\n",
       "}}\n",
       "\n",
       "// Listen for the clearing of the current output cell\n",
       "var outputEl = gd.closest('.output');\n",
       "if (outputEl) {{\n",
       "    x.observe(outputEl, {childList: true});\n",
       "}}\n",
       "\n",
       "                        })                };                });            </script>        </div>"
      ]
     },
     "metadata": {},
     "output_type": "display_data"
    }
   ],
   "source": [
    "# check for missing rate\n",
    "\n",
    "df_ts.isnull().sum()/(df_ts.shape[0]*df_ts.shape[1])*100\n",
    "\n",
    "df_static.isnull().sum()/(df_static.shape[0]*df_static.shape[1])*100\n",
    "\n",
    "print(\"overall missingness rate(%): \", df_ts.isnull().sum().sum()/(df_ts.shape[0]*df_ts.shape[1])*100)\n",
    "\n",
    "# bar plot of missing rate for each variable using plotly\n",
    "\n",
    "missing_rate = df_ts.isnull().mean().sort_values(ascending=False)\n",
    "missing_rate = missing_rate[missing_rate>0]\n",
    "\n",
    "fig = px.bar(x=missing_rate.index, y=missing_rate.values*100, labels={'x':'Variable','y':'Missing rate (%)'}, title='Missing rate for each variable')\n",
    "fig.show()"
   ]
  },
  {
   "cell_type": "code",
   "execution_count": 68,
   "metadata": {},
   "outputs": [
    {
     "data": {
      "text/plain": [
       "array([ 0,  1,  2,  3,  4,  5,  6,  7,  8,  9, 10, 11, 12, 13, 14, 15,  0,\n",
       "        1,  2,  3,  4,  5,  6,  7,  8,  9, 10, 11, 12, 13])"
      ]
     },
     "execution_count": 68,
     "metadata": {},
     "output_type": "execute_result"
    },
    {
     "data": {
      "text/plain": [
       "array([ 0.,  1.,  2.,  3.,  4.,  5.,  6.,  7.,  8.,  9., 10., 11., 12.,\n",
       "       13., 14., 15.,  0.,  1.,  2.,  3.,  4.,  5.,  6.,  7.,  8.,  9.,\n",
       "       10., 11., 12., 13.])"
      ]
     },
     "execution_count": 68,
     "metadata": {},
     "output_type": "execute_result"
    },
    {
     "data": {
      "text/plain": [
       "(1280000, 18)"
      ]
     },
     "execution_count": 68,
     "metadata": {},
     "output_type": "execute_result"
    },
    {
     "data": {
      "text/html": [
       "<div>\n",
       "<style scoped>\n",
       "    .dataframe tbody tr th:only-of-type {\n",
       "        vertical-align: middle;\n",
       "    }\n",
       "\n",
       "    .dataframe tbody tr th {\n",
       "        vertical-align: top;\n",
       "    }\n",
       "\n",
       "    .dataframe thead th {\n",
       "        text-align: right;\n",
       "    }\n",
       "</style>\n",
       "<table border=\"1\" class=\"dataframe\">\n",
       "  <thead>\n",
       "    <tr style=\"text-align: right;\">\n",
       "      <th></th>\n",
       "      <th>id</th>\n",
       "      <th>timepoint</th>\n",
       "      <th>var_0</th>\n",
       "      <th>var_1</th>\n",
       "      <th>var_5</th>\n",
       "      <th>var_14</th>\n",
       "      <th>var_13</th>\n",
       "      <th>var_11</th>\n",
       "      <th>var_8</th>\n",
       "      <th>var_9</th>\n",
       "      <th>var_2</th>\n",
       "      <th>var_15</th>\n",
       "      <th>var_4</th>\n",
       "      <th>var_7</th>\n",
       "      <th>var_10</th>\n",
       "      <th>var_12</th>\n",
       "      <th>var_3</th>\n",
       "      <th>var_6</th>\n",
       "    </tr>\n",
       "  </thead>\n",
       "  <tbody>\n",
       "    <tr>\n",
       "      <th>0</th>\n",
       "      <td>0</td>\n",
       "      <td>0.0</td>\n",
       "      <td>NaN</td>\n",
       "      <td>NaN</td>\n",
       "      <td>NaN</td>\n",
       "      <td>NaN</td>\n",
       "      <td>NaN</td>\n",
       "      <td>NaN</td>\n",
       "      <td>NaN</td>\n",
       "      <td>-0.780745</td>\n",
       "      <td>-0.096466</td>\n",
       "      <td>NaN</td>\n",
       "      <td>NaN</td>\n",
       "      <td>NaN</td>\n",
       "      <td>NaN</td>\n",
       "      <td>NaN</td>\n",
       "      <td>NaN</td>\n",
       "      <td>NaN</td>\n",
       "    </tr>\n",
       "    <tr>\n",
       "      <th>1</th>\n",
       "      <td>0</td>\n",
       "      <td>1.0</td>\n",
       "      <td>NaN</td>\n",
       "      <td>0.494321</td>\n",
       "      <td>NaN</td>\n",
       "      <td>0.490799</td>\n",
       "      <td>NaN</td>\n",
       "      <td>NaN</td>\n",
       "      <td>NaN</td>\n",
       "      <td>NaN</td>\n",
       "      <td>NaN</td>\n",
       "      <td>NaN</td>\n",
       "      <td>NaN</td>\n",
       "      <td>NaN</td>\n",
       "      <td>NaN</td>\n",
       "      <td>NaN</td>\n",
       "      <td>NaN</td>\n",
       "      <td>NaN</td>\n",
       "    </tr>\n",
       "    <tr>\n",
       "      <th>2</th>\n",
       "      <td>0</td>\n",
       "      <td>2.0</td>\n",
       "      <td>NaN</td>\n",
       "      <td>NaN</td>\n",
       "      <td>NaN</td>\n",
       "      <td>NaN</td>\n",
       "      <td>NaN</td>\n",
       "      <td>NaN</td>\n",
       "      <td>NaN</td>\n",
       "      <td>NaN</td>\n",
       "      <td>NaN</td>\n",
       "      <td>-0.10319</td>\n",
       "      <td>NaN</td>\n",
       "      <td>NaN</td>\n",
       "      <td>NaN</td>\n",
       "      <td>NaN</td>\n",
       "      <td>NaN</td>\n",
       "      <td>NaN</td>\n",
       "    </tr>\n",
       "    <tr>\n",
       "      <th>3</th>\n",
       "      <td>0</td>\n",
       "      <td>3.0</td>\n",
       "      <td>NaN</td>\n",
       "      <td>NaN</td>\n",
       "      <td>NaN</td>\n",
       "      <td>NaN</td>\n",
       "      <td>0.310968</td>\n",
       "      <td>0.783479</td>\n",
       "      <td>NaN</td>\n",
       "      <td>NaN</td>\n",
       "      <td>NaN</td>\n",
       "      <td>NaN</td>\n",
       "      <td>NaN</td>\n",
       "      <td>NaN</td>\n",
       "      <td>NaN</td>\n",
       "      <td>NaN</td>\n",
       "      <td>NaN</td>\n",
       "      <td>-0.311633</td>\n",
       "    </tr>\n",
       "    <tr>\n",
       "      <th>4</th>\n",
       "      <td>0</td>\n",
       "      <td>4.0</td>\n",
       "      <td>NaN</td>\n",
       "      <td>NaN</td>\n",
       "      <td>1.051831</td>\n",
       "      <td>NaN</td>\n",
       "      <td>NaN</td>\n",
       "      <td>NaN</td>\n",
       "      <td>NaN</td>\n",
       "      <td>NaN</td>\n",
       "      <td>-1.302450</td>\n",
       "      <td>NaN</td>\n",
       "      <td>NaN</td>\n",
       "      <td>NaN</td>\n",
       "      <td>NaN</td>\n",
       "      <td>NaN</td>\n",
       "      <td>NaN</td>\n",
       "      <td>NaN</td>\n",
       "    </tr>\n",
       "    <tr>\n",
       "      <th>5</th>\n",
       "      <td>0</td>\n",
       "      <td>5.0</td>\n",
       "      <td>1.233772</td>\n",
       "      <td>NaN</td>\n",
       "      <td>NaN</td>\n",
       "      <td>NaN</td>\n",
       "      <td>NaN</td>\n",
       "      <td>NaN</td>\n",
       "      <td>NaN</td>\n",
       "      <td>NaN</td>\n",
       "      <td>NaN</td>\n",
       "      <td>NaN</td>\n",
       "      <td>NaN</td>\n",
       "      <td>NaN</td>\n",
       "      <td>NaN</td>\n",
       "      <td>NaN</td>\n",
       "      <td>NaN</td>\n",
       "      <td>NaN</td>\n",
       "    </tr>\n",
       "    <tr>\n",
       "      <th>6</th>\n",
       "      <td>0</td>\n",
       "      <td>6.0</td>\n",
       "      <td>NaN</td>\n",
       "      <td>NaN</td>\n",
       "      <td>NaN</td>\n",
       "      <td>NaN</td>\n",
       "      <td>NaN</td>\n",
       "      <td>NaN</td>\n",
       "      <td>NaN</td>\n",
       "      <td>NaN</td>\n",
       "      <td>NaN</td>\n",
       "      <td>NaN</td>\n",
       "      <td>-0.301797</td>\n",
       "      <td>NaN</td>\n",
       "      <td>NaN</td>\n",
       "      <td>NaN</td>\n",
       "      <td>NaN</td>\n",
       "      <td>NaN</td>\n",
       "    </tr>\n",
       "    <tr>\n",
       "      <th>7</th>\n",
       "      <td>0</td>\n",
       "      <td>7.0</td>\n",
       "      <td>0.959366</td>\n",
       "      <td>-0.394294</td>\n",
       "      <td>NaN</td>\n",
       "      <td>NaN</td>\n",
       "      <td>0.789552</td>\n",
       "      <td>NaN</td>\n",
       "      <td>NaN</td>\n",
       "      <td>NaN</td>\n",
       "      <td>NaN</td>\n",
       "      <td>NaN</td>\n",
       "      <td>-0.146784</td>\n",
       "      <td>-0.608877</td>\n",
       "      <td>-0.583001</td>\n",
       "      <td>NaN</td>\n",
       "      <td>NaN</td>\n",
       "      <td>NaN</td>\n",
       "    </tr>\n",
       "    <tr>\n",
       "      <th>8</th>\n",
       "      <td>0</td>\n",
       "      <td>8.0</td>\n",
       "      <td>NaN</td>\n",
       "      <td>NaN</td>\n",
       "      <td>NaN</td>\n",
       "      <td>0.153533</td>\n",
       "      <td>0.843296</td>\n",
       "      <td>NaN</td>\n",
       "      <td>NaN</td>\n",
       "      <td>NaN</td>\n",
       "      <td>NaN</td>\n",
       "      <td>NaN</td>\n",
       "      <td>0.075665</td>\n",
       "      <td>NaN</td>\n",
       "      <td>NaN</td>\n",
       "      <td>NaN</td>\n",
       "      <td>NaN</td>\n",
       "      <td>NaN</td>\n",
       "    </tr>\n",
       "    <tr>\n",
       "      <th>9</th>\n",
       "      <td>0</td>\n",
       "      <td>9.0</td>\n",
       "      <td>NaN</td>\n",
       "      <td>-0.615673</td>\n",
       "      <td>NaN</td>\n",
       "      <td>NaN</td>\n",
       "      <td>NaN</td>\n",
       "      <td>NaN</td>\n",
       "      <td>NaN</td>\n",
       "      <td>NaN</td>\n",
       "      <td>NaN</td>\n",
       "      <td>NaN</td>\n",
       "      <td>NaN</td>\n",
       "      <td>NaN</td>\n",
       "      <td>NaN</td>\n",
       "      <td>NaN</td>\n",
       "      <td>NaN</td>\n",
       "      <td>NaN</td>\n",
       "    </tr>\n",
       "  </tbody>\n",
       "</table>\n",
       "</div>"
      ],
      "text/plain": [
       "   id  timepoint     var_0     var_1     var_5    var_14    var_13    var_11  \\\n",
       "0   0        0.0       NaN       NaN       NaN       NaN       NaN       NaN   \n",
       "1   0        1.0       NaN  0.494321       NaN  0.490799       NaN       NaN   \n",
       "2   0        2.0       NaN       NaN       NaN       NaN       NaN       NaN   \n",
       "3   0        3.0       NaN       NaN       NaN       NaN  0.310968  0.783479   \n",
       "4   0        4.0       NaN       NaN  1.051831       NaN       NaN       NaN   \n",
       "5   0        5.0  1.233772       NaN       NaN       NaN       NaN       NaN   \n",
       "6   0        6.0       NaN       NaN       NaN       NaN       NaN       NaN   \n",
       "7   0        7.0  0.959366 -0.394294       NaN       NaN  0.789552       NaN   \n",
       "8   0        8.0       NaN       NaN       NaN  0.153533  0.843296       NaN   \n",
       "9   0        9.0       NaN -0.615673       NaN       NaN       NaN       NaN   \n",
       "\n",
       "   var_8     var_9     var_2   var_15     var_4     var_7    var_10  var_12  \\\n",
       "0    NaN -0.780745 -0.096466      NaN       NaN       NaN       NaN     NaN   \n",
       "1    NaN       NaN       NaN      NaN       NaN       NaN       NaN     NaN   \n",
       "2    NaN       NaN       NaN -0.10319       NaN       NaN       NaN     NaN   \n",
       "3    NaN       NaN       NaN      NaN       NaN       NaN       NaN     NaN   \n",
       "4    NaN       NaN -1.302450      NaN       NaN       NaN       NaN     NaN   \n",
       "5    NaN       NaN       NaN      NaN       NaN       NaN       NaN     NaN   \n",
       "6    NaN       NaN       NaN      NaN -0.301797       NaN       NaN     NaN   \n",
       "7    NaN       NaN       NaN      NaN -0.146784 -0.608877 -0.583001     NaN   \n",
       "8    NaN       NaN       NaN      NaN  0.075665       NaN       NaN     NaN   \n",
       "9    NaN       NaN       NaN      NaN       NaN       NaN       NaN     NaN   \n",
       "\n",
       "   var_3     var_6  \n",
       "0    NaN       NaN  \n",
       "1    NaN       NaN  \n",
       "2    NaN       NaN  \n",
       "3    NaN -0.311633  \n",
       "4    NaN       NaN  \n",
       "5    NaN       NaN  \n",
       "6    NaN       NaN  \n",
       "7    NaN       NaN  \n",
       "8    NaN       NaN  \n",
       "9    NaN       NaN  "
      ]
     },
     "execution_count": 68,
     "metadata": {},
     "output_type": "execute_result"
    }
   ],
   "source": [
    "\n",
    "\n",
    "df_ts.iloc[:30].timepoint.values\n",
    "df_ts['timepoint'] = df_ts['timepoint'].apply(lambda x: round(x/GRAN,0)*GRAN)\n",
    "df_ts.iloc[:30].timepoint.values\n",
    "df_ts.shape\n",
    "df_ts.head(10)"
   ]
  },
  {
   "cell_type": "code",
   "execution_count": 69,
   "metadata": {},
   "outputs": [
    {
     "data": {
      "text/plain": [
       "(1280000, 18)"
      ]
     },
     "execution_count": 69,
     "metadata": {},
     "output_type": "execute_result"
    },
    {
     "data": {
      "text/plain": [
       "(1227834, 18)"
      ]
     },
     "execution_count": 69,
     "metadata": {},
     "output_type": "execute_result"
    }
   ],
   "source": [
    "# drop rows if all time series variables are missing\n",
    "df_ts.shape\n",
    "\n",
    "df_ts = df_ts.dropna(subset=state_vars, how='all')\n",
    "\n",
    "df_ts.shape"
   ]
  },
  {
   "cell_type": "code",
   "execution_count": 70,
   "metadata": {},
   "outputs": [
    {
     "data": {
      "text/html": [
       "<div>\n",
       "<style scoped>\n",
       "    .dataframe tbody tr th:only-of-type {\n",
       "        vertical-align: middle;\n",
       "    }\n",
       "\n",
       "    .dataframe tbody tr th {\n",
       "        vertical-align: top;\n",
       "    }\n",
       "\n",
       "    .dataframe thead th {\n",
       "        text-align: right;\n",
       "    }\n",
       "</style>\n",
       "<table border=\"1\" class=\"dataframe\">\n",
       "  <thead>\n",
       "    <tr style=\"text-align: right;\">\n",
       "      <th></th>\n",
       "      <th>id</th>\n",
       "      <th>timepoint</th>\n",
       "      <th>var_0</th>\n",
       "      <th>var_1</th>\n",
       "      <th>var_5</th>\n",
       "      <th>var_14</th>\n",
       "      <th>var_13</th>\n",
       "      <th>var_11</th>\n",
       "      <th>var_8</th>\n",
       "      <th>var_9</th>\n",
       "      <th>var_2</th>\n",
       "      <th>var_15</th>\n",
       "      <th>var_4</th>\n",
       "      <th>var_7</th>\n",
       "      <th>var_10</th>\n",
       "      <th>var_12</th>\n",
       "      <th>var_3</th>\n",
       "      <th>var_6</th>\n",
       "    </tr>\n",
       "  </thead>\n",
       "  <tbody>\n",
       "    <tr>\n",
       "      <th>0</th>\n",
       "      <td>0</td>\n",
       "      <td>0.0</td>\n",
       "      <td>NaN</td>\n",
       "      <td>NaN</td>\n",
       "      <td>NaN</td>\n",
       "      <td>NaN</td>\n",
       "      <td>NaN</td>\n",
       "      <td>NaN</td>\n",
       "      <td>NaN</td>\n",
       "      <td>-0.780745</td>\n",
       "      <td>-0.096466</td>\n",
       "      <td>NaN</td>\n",
       "      <td>NaN</td>\n",
       "      <td>NaN</td>\n",
       "      <td>NaN</td>\n",
       "      <td>NaN</td>\n",
       "      <td>NaN</td>\n",
       "      <td>NaN</td>\n",
       "    </tr>\n",
       "    <tr>\n",
       "      <th>1</th>\n",
       "      <td>0</td>\n",
       "      <td>1.0</td>\n",
       "      <td>NaN</td>\n",
       "      <td>0.494321</td>\n",
       "      <td>NaN</td>\n",
       "      <td>0.490799</td>\n",
       "      <td>NaN</td>\n",
       "      <td>NaN</td>\n",
       "      <td>NaN</td>\n",
       "      <td>NaN</td>\n",
       "      <td>NaN</td>\n",
       "      <td>NaN</td>\n",
       "      <td>NaN</td>\n",
       "      <td>NaN</td>\n",
       "      <td>NaN</td>\n",
       "      <td>NaN</td>\n",
       "      <td>NaN</td>\n",
       "      <td>NaN</td>\n",
       "    </tr>\n",
       "    <tr>\n",
       "      <th>2</th>\n",
       "      <td>0</td>\n",
       "      <td>2.0</td>\n",
       "      <td>NaN</td>\n",
       "      <td>NaN</td>\n",
       "      <td>NaN</td>\n",
       "      <td>NaN</td>\n",
       "      <td>NaN</td>\n",
       "      <td>NaN</td>\n",
       "      <td>NaN</td>\n",
       "      <td>NaN</td>\n",
       "      <td>NaN</td>\n",
       "      <td>-0.10319</td>\n",
       "      <td>NaN</td>\n",
       "      <td>NaN</td>\n",
       "      <td>NaN</td>\n",
       "      <td>NaN</td>\n",
       "      <td>NaN</td>\n",
       "      <td>NaN</td>\n",
       "    </tr>\n",
       "    <tr>\n",
       "      <th>3</th>\n",
       "      <td>0</td>\n",
       "      <td>3.0</td>\n",
       "      <td>NaN</td>\n",
       "      <td>NaN</td>\n",
       "      <td>NaN</td>\n",
       "      <td>NaN</td>\n",
       "      <td>0.310968</td>\n",
       "      <td>0.783479</td>\n",
       "      <td>NaN</td>\n",
       "      <td>NaN</td>\n",
       "      <td>NaN</td>\n",
       "      <td>NaN</td>\n",
       "      <td>NaN</td>\n",
       "      <td>NaN</td>\n",
       "      <td>NaN</td>\n",
       "      <td>NaN</td>\n",
       "      <td>NaN</td>\n",
       "      <td>-0.311633</td>\n",
       "    </tr>\n",
       "    <tr>\n",
       "      <th>4</th>\n",
       "      <td>0</td>\n",
       "      <td>4.0</td>\n",
       "      <td>NaN</td>\n",
       "      <td>NaN</td>\n",
       "      <td>1.051831</td>\n",
       "      <td>NaN</td>\n",
       "      <td>NaN</td>\n",
       "      <td>NaN</td>\n",
       "      <td>NaN</td>\n",
       "      <td>NaN</td>\n",
       "      <td>-1.302450</td>\n",
       "      <td>NaN</td>\n",
       "      <td>NaN</td>\n",
       "      <td>NaN</td>\n",
       "      <td>NaN</td>\n",
       "      <td>NaN</td>\n",
       "      <td>NaN</td>\n",
       "      <td>NaN</td>\n",
       "    </tr>\n",
       "    <tr>\n",
       "      <th>5</th>\n",
       "      <td>0</td>\n",
       "      <td>5.0</td>\n",
       "      <td>1.233772</td>\n",
       "      <td>NaN</td>\n",
       "      <td>NaN</td>\n",
       "      <td>NaN</td>\n",
       "      <td>NaN</td>\n",
       "      <td>NaN</td>\n",
       "      <td>NaN</td>\n",
       "      <td>NaN</td>\n",
       "      <td>NaN</td>\n",
       "      <td>NaN</td>\n",
       "      <td>NaN</td>\n",
       "      <td>NaN</td>\n",
       "      <td>NaN</td>\n",
       "      <td>NaN</td>\n",
       "      <td>NaN</td>\n",
       "      <td>NaN</td>\n",
       "    </tr>\n",
       "    <tr>\n",
       "      <th>6</th>\n",
       "      <td>0</td>\n",
       "      <td>6.0</td>\n",
       "      <td>NaN</td>\n",
       "      <td>NaN</td>\n",
       "      <td>NaN</td>\n",
       "      <td>NaN</td>\n",
       "      <td>NaN</td>\n",
       "      <td>NaN</td>\n",
       "      <td>NaN</td>\n",
       "      <td>NaN</td>\n",
       "      <td>NaN</td>\n",
       "      <td>NaN</td>\n",
       "      <td>-0.301797</td>\n",
       "      <td>NaN</td>\n",
       "      <td>NaN</td>\n",
       "      <td>NaN</td>\n",
       "      <td>NaN</td>\n",
       "      <td>NaN</td>\n",
       "    </tr>\n",
       "    <tr>\n",
       "      <th>7</th>\n",
       "      <td>0</td>\n",
       "      <td>7.0</td>\n",
       "      <td>0.959366</td>\n",
       "      <td>-0.394294</td>\n",
       "      <td>NaN</td>\n",
       "      <td>NaN</td>\n",
       "      <td>0.789552</td>\n",
       "      <td>NaN</td>\n",
       "      <td>NaN</td>\n",
       "      <td>NaN</td>\n",
       "      <td>NaN</td>\n",
       "      <td>NaN</td>\n",
       "      <td>-0.146784</td>\n",
       "      <td>-0.608877</td>\n",
       "      <td>-0.583001</td>\n",
       "      <td>NaN</td>\n",
       "      <td>NaN</td>\n",
       "      <td>NaN</td>\n",
       "    </tr>\n",
       "    <tr>\n",
       "      <th>8</th>\n",
       "      <td>0</td>\n",
       "      <td>8.0</td>\n",
       "      <td>NaN</td>\n",
       "      <td>NaN</td>\n",
       "      <td>NaN</td>\n",
       "      <td>0.153533</td>\n",
       "      <td>0.843296</td>\n",
       "      <td>NaN</td>\n",
       "      <td>NaN</td>\n",
       "      <td>NaN</td>\n",
       "      <td>NaN</td>\n",
       "      <td>NaN</td>\n",
       "      <td>0.075665</td>\n",
       "      <td>NaN</td>\n",
       "      <td>NaN</td>\n",
       "      <td>NaN</td>\n",
       "      <td>NaN</td>\n",
       "      <td>NaN</td>\n",
       "    </tr>\n",
       "    <tr>\n",
       "      <th>9</th>\n",
       "      <td>0</td>\n",
       "      <td>9.0</td>\n",
       "      <td>NaN</td>\n",
       "      <td>-0.615673</td>\n",
       "      <td>NaN</td>\n",
       "      <td>NaN</td>\n",
       "      <td>NaN</td>\n",
       "      <td>NaN</td>\n",
       "      <td>NaN</td>\n",
       "      <td>NaN</td>\n",
       "      <td>NaN</td>\n",
       "      <td>NaN</td>\n",
       "      <td>NaN</td>\n",
       "      <td>NaN</td>\n",
       "      <td>NaN</td>\n",
       "      <td>NaN</td>\n",
       "      <td>NaN</td>\n",
       "      <td>NaN</td>\n",
       "    </tr>\n",
       "  </tbody>\n",
       "</table>\n",
       "</div>"
      ],
      "text/plain": [
       "   id  timepoint     var_0     var_1     var_5    var_14    var_13    var_11  \\\n",
       "0   0        0.0       NaN       NaN       NaN       NaN       NaN       NaN   \n",
       "1   0        1.0       NaN  0.494321       NaN  0.490799       NaN       NaN   \n",
       "2   0        2.0       NaN       NaN       NaN       NaN       NaN       NaN   \n",
       "3   0        3.0       NaN       NaN       NaN       NaN  0.310968  0.783479   \n",
       "4   0        4.0       NaN       NaN  1.051831       NaN       NaN       NaN   \n",
       "5   0        5.0  1.233772       NaN       NaN       NaN       NaN       NaN   \n",
       "6   0        6.0       NaN       NaN       NaN       NaN       NaN       NaN   \n",
       "7   0        7.0  0.959366 -0.394294       NaN       NaN  0.789552       NaN   \n",
       "8   0        8.0       NaN       NaN       NaN  0.153533  0.843296       NaN   \n",
       "9   0        9.0       NaN -0.615673       NaN       NaN       NaN       NaN   \n",
       "\n",
       "   var_8     var_9     var_2   var_15     var_4     var_7    var_10  var_12  \\\n",
       "0    NaN -0.780745 -0.096466      NaN       NaN       NaN       NaN     NaN   \n",
       "1    NaN       NaN       NaN      NaN       NaN       NaN       NaN     NaN   \n",
       "2    NaN       NaN       NaN -0.10319       NaN       NaN       NaN     NaN   \n",
       "3    NaN       NaN       NaN      NaN       NaN       NaN       NaN     NaN   \n",
       "4    NaN       NaN -1.302450      NaN       NaN       NaN       NaN     NaN   \n",
       "5    NaN       NaN       NaN      NaN       NaN       NaN       NaN     NaN   \n",
       "6    NaN       NaN       NaN      NaN -0.301797       NaN       NaN     NaN   \n",
       "7    NaN       NaN       NaN      NaN -0.146784 -0.608877 -0.583001     NaN   \n",
       "8    NaN       NaN       NaN      NaN  0.075665       NaN       NaN     NaN   \n",
       "9    NaN       NaN       NaN      NaN       NaN       NaN       NaN     NaN   \n",
       "\n",
       "   var_3     var_6  \n",
       "0    NaN       NaN  \n",
       "1    NaN       NaN  \n",
       "2    NaN       NaN  \n",
       "3    NaN -0.311633  \n",
       "4    NaN       NaN  \n",
       "5    NaN       NaN  \n",
       "6    NaN       NaN  \n",
       "7    NaN       NaN  \n",
       "8    NaN       NaN  \n",
       "9    NaN       NaN  "
      ]
     },
     "execution_count": 70,
     "metadata": {},
     "output_type": "execute_result"
    },
    {
     "data": {
      "text/html": [
       "<div>\n",
       "<style scoped>\n",
       "    .dataframe tbody tr th:only-of-type {\n",
       "        vertical-align: middle;\n",
       "    }\n",
       "\n",
       "    .dataframe tbody tr th {\n",
       "        vertical-align: top;\n",
       "    }\n",
       "\n",
       "    .dataframe thead th {\n",
       "        text-align: right;\n",
       "    }\n",
       "</style>\n",
       "<table border=\"1\" class=\"dataframe\">\n",
       "  <thead>\n",
       "    <tr style=\"text-align: right;\">\n",
       "      <th></th>\n",
       "      <th>id</th>\n",
       "      <th>timepoint</th>\n",
       "      <th>var_0</th>\n",
       "      <th>var_1</th>\n",
       "      <th>var_5</th>\n",
       "      <th>var_14</th>\n",
       "      <th>var_13</th>\n",
       "      <th>var_11</th>\n",
       "      <th>var_8</th>\n",
       "      <th>var_9</th>\n",
       "      <th>var_2</th>\n",
       "      <th>var_15</th>\n",
       "      <th>var_4</th>\n",
       "      <th>var_7</th>\n",
       "      <th>var_10</th>\n",
       "      <th>var_12</th>\n",
       "      <th>var_3</th>\n",
       "      <th>var_6</th>\n",
       "    </tr>\n",
       "  </thead>\n",
       "  <tbody>\n",
       "    <tr>\n",
       "      <th>count</th>\n",
       "      <td>1.227834e+06</td>\n",
       "      <td>1.227834e+06</td>\n",
       "      <td>231390.000000</td>\n",
       "      <td>231621.000000</td>\n",
       "      <td>231389.000000</td>\n",
       "      <td>232173.000000</td>\n",
       "      <td>231611.000000</td>\n",
       "      <td>231852.000000</td>\n",
       "      <td>231650.000000</td>\n",
       "      <td>232033.000000</td>\n",
       "      <td>231499.000000</td>\n",
       "      <td>231775.000000</td>\n",
       "      <td>231544.000000</td>\n",
       "      <td>232255.000000</td>\n",
       "      <td>231474.000000</td>\n",
       "      <td>231909.000000</td>\n",
       "      <td>231700.000000</td>\n",
       "      <td>232216.000000</td>\n",
       "    </tr>\n",
       "    <tr>\n",
       "      <th>mean</th>\n",
       "      <td>4.000732e+04</td>\n",
       "      <td>7.500475e+00</td>\n",
       "      <td>-0.015187</td>\n",
       "      <td>-0.017222</td>\n",
       "      <td>0.035061</td>\n",
       "      <td>-0.043886</td>\n",
       "      <td>0.008604</td>\n",
       "      <td>0.055468</td>\n",
       "      <td>-0.008211</td>\n",
       "      <td>0.001242</td>\n",
       "      <td>-0.018512</td>\n",
       "      <td>-0.011218</td>\n",
       "      <td>0.031083</td>\n",
       "      <td>-0.050407</td>\n",
       "      <td>-0.005399</td>\n",
       "      <td>0.021048</td>\n",
       "      <td>-0.046571</td>\n",
       "      <td>-0.030446</td>\n",
       "    </tr>\n",
       "    <tr>\n",
       "      <th>std</th>\n",
       "      <td>2.309213e+04</td>\n",
       "      <td>4.609212e+00</td>\n",
       "      <td>0.749741</td>\n",
       "      <td>0.732390</td>\n",
       "      <td>0.741079</td>\n",
       "      <td>0.743572</td>\n",
       "      <td>0.733360</td>\n",
       "      <td>0.743177</td>\n",
       "      <td>0.735287</td>\n",
       "      <td>0.730968</td>\n",
       "      <td>0.733343</td>\n",
       "      <td>0.734502</td>\n",
       "      <td>0.733157</td>\n",
       "      <td>0.736608</td>\n",
       "      <td>0.739358</td>\n",
       "      <td>0.740837</td>\n",
       "      <td>0.739811</td>\n",
       "      <td>0.729508</td>\n",
       "    </tr>\n",
       "    <tr>\n",
       "      <th>min</th>\n",
       "      <td>0.000000e+00</td>\n",
       "      <td>0.000000e+00</td>\n",
       "      <td>-1.736923</td>\n",
       "      <td>-1.779179</td>\n",
       "      <td>-1.755152</td>\n",
       "      <td>-1.714266</td>\n",
       "      <td>-1.774301</td>\n",
       "      <td>-1.768571</td>\n",
       "      <td>-1.777276</td>\n",
       "      <td>-1.745607</td>\n",
       "      <td>-1.777968</td>\n",
       "      <td>-1.764577</td>\n",
       "      <td>-1.744733</td>\n",
       "      <td>-1.795676</td>\n",
       "      <td>-1.750635</td>\n",
       "      <td>-1.753927</td>\n",
       "      <td>-1.735067</td>\n",
       "      <td>-1.701975</td>\n",
       "    </tr>\n",
       "    <tr>\n",
       "      <th>25%</th>\n",
       "      <td>2.001700e+04</td>\n",
       "      <td>4.000000e+00</td>\n",
       "      <td>-0.639186</td>\n",
       "      <td>-0.619614</td>\n",
       "      <td>-0.580553</td>\n",
       "      <td>-0.661490</td>\n",
       "      <td>-0.598702</td>\n",
       "      <td>-0.571402</td>\n",
       "      <td>-0.614008</td>\n",
       "      <td>-0.600517</td>\n",
       "      <td>-0.618896</td>\n",
       "      <td>-0.619944</td>\n",
       "      <td>-0.575165</td>\n",
       "      <td>-0.655900</td>\n",
       "      <td>-0.616967</td>\n",
       "      <td>-0.594932</td>\n",
       "      <td>-0.655964</td>\n",
       "      <td>-0.630065</td>\n",
       "    </tr>\n",
       "    <tr>\n",
       "      <th>50%</th>\n",
       "      <td>4.000500e+04</td>\n",
       "      <td>8.000000e+00</td>\n",
       "      <td>-0.038214</td>\n",
       "      <td>-0.030675</td>\n",
       "      <td>0.063518</td>\n",
       "      <td>-0.082464</td>\n",
       "      <td>0.021441</td>\n",
       "      <td>0.104841</td>\n",
       "      <td>-0.021087</td>\n",
       "      <td>0.004834</td>\n",
       "      <td>-0.033886</td>\n",
       "      <td>-0.014167</td>\n",
       "      <td>0.057242</td>\n",
       "      <td>-0.092147</td>\n",
       "      <td>-0.011963</td>\n",
       "      <td>0.037220</td>\n",
       "      <td>-0.080117</td>\n",
       "      <td>-0.050746</td>\n",
       "    </tr>\n",
       "    <tr>\n",
       "      <th>75%</th>\n",
       "      <td>6.000300e+04</td>\n",
       "      <td>1.100000e+01</td>\n",
       "      <td>0.613889</td>\n",
       "      <td>0.587145</td>\n",
       "      <td>0.646482</td>\n",
       "      <td>0.579039</td>\n",
       "      <td>0.613071</td>\n",
       "      <td>0.671659</td>\n",
       "      <td>0.601325</td>\n",
       "      <td>0.602116</td>\n",
       "      <td>0.585539</td>\n",
       "      <td>0.596451</td>\n",
       "      <td>0.633298</td>\n",
       "      <td>0.564856</td>\n",
       "      <td>0.608353</td>\n",
       "      <td>0.636939</td>\n",
       "      <td>0.567923</td>\n",
       "      <td>0.572396</td>\n",
       "    </tr>\n",
       "    <tr>\n",
       "      <th>max</th>\n",
       "      <td>7.999900e+04</td>\n",
       "      <td>1.500000e+01</td>\n",
       "      <td>1.758088</td>\n",
       "      <td>1.764395</td>\n",
       "      <td>1.817640</td>\n",
       "      <td>1.767312</td>\n",
       "      <td>1.833486</td>\n",
       "      <td>1.846879</td>\n",
       "      <td>1.783085</td>\n",
       "      <td>1.739687</td>\n",
       "      <td>1.747777</td>\n",
       "      <td>1.835095</td>\n",
       "      <td>1.729576</td>\n",
       "      <td>1.778792</td>\n",
       "      <td>1.742141</td>\n",
       "      <td>1.798726</td>\n",
       "      <td>1.796575</td>\n",
       "      <td>1.760113</td>\n",
       "    </tr>\n",
       "  </tbody>\n",
       "</table>\n",
       "</div>"
      ],
      "text/plain": [
       "                 id     timepoint          var_0          var_1  \\\n",
       "count  1.227834e+06  1.227834e+06  231390.000000  231621.000000   \n",
       "mean   4.000732e+04  7.500475e+00      -0.015187      -0.017222   \n",
       "std    2.309213e+04  4.609212e+00       0.749741       0.732390   \n",
       "min    0.000000e+00  0.000000e+00      -1.736923      -1.779179   \n",
       "25%    2.001700e+04  4.000000e+00      -0.639186      -0.619614   \n",
       "50%    4.000500e+04  8.000000e+00      -0.038214      -0.030675   \n",
       "75%    6.000300e+04  1.100000e+01       0.613889       0.587145   \n",
       "max    7.999900e+04  1.500000e+01       1.758088       1.764395   \n",
       "\n",
       "               var_5         var_14         var_13         var_11  \\\n",
       "count  231389.000000  232173.000000  231611.000000  231852.000000   \n",
       "mean        0.035061      -0.043886       0.008604       0.055468   \n",
       "std         0.741079       0.743572       0.733360       0.743177   \n",
       "min        -1.755152      -1.714266      -1.774301      -1.768571   \n",
       "25%        -0.580553      -0.661490      -0.598702      -0.571402   \n",
       "50%         0.063518      -0.082464       0.021441       0.104841   \n",
       "75%         0.646482       0.579039       0.613071       0.671659   \n",
       "max         1.817640       1.767312       1.833486       1.846879   \n",
       "\n",
       "               var_8          var_9          var_2         var_15  \\\n",
       "count  231650.000000  232033.000000  231499.000000  231775.000000   \n",
       "mean       -0.008211       0.001242      -0.018512      -0.011218   \n",
       "std         0.735287       0.730968       0.733343       0.734502   \n",
       "min        -1.777276      -1.745607      -1.777968      -1.764577   \n",
       "25%        -0.614008      -0.600517      -0.618896      -0.619944   \n",
       "50%        -0.021087       0.004834      -0.033886      -0.014167   \n",
       "75%         0.601325       0.602116       0.585539       0.596451   \n",
       "max         1.783085       1.739687       1.747777       1.835095   \n",
       "\n",
       "               var_4          var_7         var_10         var_12  \\\n",
       "count  231544.000000  232255.000000  231474.000000  231909.000000   \n",
       "mean        0.031083      -0.050407      -0.005399       0.021048   \n",
       "std         0.733157       0.736608       0.739358       0.740837   \n",
       "min        -1.744733      -1.795676      -1.750635      -1.753927   \n",
       "25%        -0.575165      -0.655900      -0.616967      -0.594932   \n",
       "50%         0.057242      -0.092147      -0.011963       0.037220   \n",
       "75%         0.633298       0.564856       0.608353       0.636939   \n",
       "max         1.729576       1.778792       1.742141       1.798726   \n",
       "\n",
       "               var_3          var_6  \n",
       "count  231700.000000  232216.000000  \n",
       "mean       -0.046571      -0.030446  \n",
       "std         0.739811       0.729508  \n",
       "min        -1.735067      -1.701975  \n",
       "25%        -0.655964      -0.630065  \n",
       "50%        -0.080117      -0.050746  \n",
       "75%         0.567923       0.572396  \n",
       "max         1.796575       1.760113  "
      ]
     },
     "execution_count": 70,
     "metadata": {},
     "output_type": "execute_result"
    }
   ],
   "source": [
    "df_ts.head(10)\n",
    "\n",
    "df_ts.describe()\n",
    "\n",
    "# You can see that in P12 we might have multiple measurements for the same time point.\n"
   ]
  },
  {
   "cell_type": "markdown",
   "metadata": {},
   "source": [
    "## Aggregate\n",
    "\n",
    "if multiple observation then ffill and keep last\n",
    "\n",
    "It is only used for P12 dataset. Time granularity for other datasets is already 1 hour."
   ]
  },
  {
   "cell_type": "code",
   "execution_count": 71,
   "metadata": {},
   "outputs": [
    {
     "name": "stdout",
     "output_type": "stream",
     "text": [
      "no aggregation needed\n"
     ]
    }
   ],
   "source": [
    "# is aggregation needed?\n",
    "\n",
    "a1 = df_ts.groupby('id').size().values\n",
    "a2 = df_ts.groupby('id')['timepoint'].nunique().values\n",
    "\n",
    "if (a1-a2).sum()>0:\n",
    "    print('df.shape before aggregation:',df_ts.shape)\n",
    "    # forwardfill for each group\n",
    "\n",
    "    df_ts[state_vars] = df_ts[['id','timepoint']+state_vars].groupby(['id','timepoint']).fillna(method='ffill')\n",
    "\n",
    "    # keep last for each group\n",
    "    df_ts = df_ts[['id','timepoint']+state_vars].groupby(['id','timepoint']).last().reset_index()\n",
    "    print('df.shape after aggregation:',df_ts.shape)\n",
    "else:\n",
    "    print('no aggregation needed')"
   ]
  },
  {
   "cell_type": "code",
   "execution_count": 72,
   "metadata": {},
   "outputs": [
    {
     "data": {
      "text/plain": [
       "(80000, 3)"
      ]
     },
     "execution_count": 72,
     "metadata": {},
     "output_type": "execute_result"
    },
    {
     "data": {
      "text/plain": [
       "(80000, 3)"
      ]
     },
     "execution_count": 72,
     "metadata": {},
     "output_type": "execute_result"
    }
   ],
   "source": [
    "df_static.shape\n",
    "\n",
    "# forwardfill for each group\n",
    "df_static[cols_demo+cols_outcome] = df_static[['id']+cols_demo+cols_outcome].groupby(['id']).fillna(method='ffill')\n",
    "\n",
    "# keep last for each group\n",
    "df_static = df_static[['id']+cols_demo+cols_outcome].groupby(['id']).last().reset_index()\n",
    "\n",
    "df_static.shape"
   ]
  },
  {
   "cell_type": "code",
   "execution_count": 73,
   "metadata": {},
   "outputs": [
    {
     "data": {
      "text/plain": [
       "(80000, 80000)"
      ]
     },
     "execution_count": 73,
     "metadata": {},
     "output_type": "execute_result"
    }
   ],
   "source": [
    "df_ts.id.nunique(), df_static.id.nunique()"
   ]
  },
  {
   "cell_type": "code",
   "execution_count": 74,
   "metadata": {},
   "outputs": [
    {
     "data": {
      "text/plain": [
       "count    1.227834e+06\n",
       "mean     7.500475e+00\n",
       "std      4.609212e+00\n",
       "min      0.000000e+00\n",
       "25%      4.000000e+00\n",
       "50%      8.000000e+00\n",
       "75%      1.100000e+01\n",
       "max      1.500000e+01\n",
       "Name: timepoint, dtype: float64"
      ]
     },
     "execution_count": 74,
     "metadata": {},
     "output_type": "execute_result"
    }
   ],
   "source": [
    "df_ts.timepoint.describe()"
   ]
  },
  {
   "cell_type": "markdown",
   "metadata": {},
   "source": [
    "## K-fold\n",
    "\n",
    "this will write df_ts and df_static for each split."
   ]
  },
  {
   "cell_type": "code",
   "execution_count": 75,
   "metadata": {},
   "outputs": [
    {
     "data": {
      "text/plain": [
       "array([47044, 44295, 74783, 70975, 46645])"
      ]
     },
     "execution_count": 75,
     "metadata": {},
     "output_type": "execute_result"
    },
    {
     "data": {
      "text/html": [
       "<div>\n",
       "<style scoped>\n",
       "    .dataframe tbody tr th:only-of-type {\n",
       "        vertical-align: middle;\n",
       "    }\n",
       "\n",
       "    .dataframe tbody tr th {\n",
       "        vertical-align: top;\n",
       "    }\n",
       "\n",
       "    .dataframe thead th {\n",
       "        text-align: right;\n",
       "    }\n",
       "</style>\n",
       "<table border=\"1\" class=\"dataframe\">\n",
       "  <thead>\n",
       "    <tr style=\"text-align: right;\">\n",
       "      <th></th>\n",
       "      <th>id</th>\n",
       "      <th>Age</th>\n",
       "      <th>outcome</th>\n",
       "    </tr>\n",
       "  </thead>\n",
       "  <tbody>\n",
       "    <tr>\n",
       "      <th>0</th>\n",
       "      <td>0</td>\n",
       "      <td>34</td>\n",
       "      <td>0</td>\n",
       "    </tr>\n",
       "    <tr>\n",
       "      <th>1</th>\n",
       "      <td>1</td>\n",
       "      <td>34</td>\n",
       "      <td>0</td>\n",
       "    </tr>\n",
       "    <tr>\n",
       "      <th>2</th>\n",
       "      <td>2</td>\n",
       "      <td>78</td>\n",
       "      <td>0</td>\n",
       "    </tr>\n",
       "    <tr>\n",
       "      <th>3</th>\n",
       "      <td>3</td>\n",
       "      <td>78</td>\n",
       "      <td>0</td>\n",
       "    </tr>\n",
       "    <tr>\n",
       "      <th>4</th>\n",
       "      <td>4</td>\n",
       "      <td>52</td>\n",
       "      <td>0</td>\n",
       "    </tr>\n",
       "  </tbody>\n",
       "</table>\n",
       "</div>"
      ],
      "text/plain": [
       "   id  Age  outcome\n",
       "0   0   34        0\n",
       "1   1   34        0\n",
       "2   2   78        0\n",
       "3   3   78        0\n",
       "4   4   52        0"
      ]
     },
     "execution_count": 75,
     "metadata": {},
     "output_type": "execute_result"
    },
    {
     "data": {
      "text/plain": [
       "array([    0, 16000, 32000, 48000, 64000, 80000])"
      ]
     },
     "execution_count": 75,
     "metadata": {},
     "output_type": "execute_result"
    },
    {
     "data": {
      "text/plain": [
       "(0, 643078356)"
      ]
     },
     "execution_count": 75,
     "metadata": {},
     "output_type": "execute_result"
    },
    {
     "name": "stdout",
     "output_type": "stream",
     "text": [
      "saved to .././data/processed/sim-l0.2-d16/split0\n"
     ]
    }
   ],
   "source": [
    "\n",
    "# seed for numpy and dataframe sampling\n",
    "np.random.seed(SEED)\n",
    "\n",
    "\n",
    "# shuffle ids\n",
    "list_ids = df_static['id'].values.copy()\n",
    "np.random.shuffle(list_ids)\n",
    "list_ids[:5]\n",
    "\n",
    "df_static = df_static[df_static['id'].isin(list_ids)]\n",
    "df_static.head()\n",
    "\n",
    "\n",
    "\n",
    "split_list = np.linspace(0,len(df_static),5+1).astype(int)\n",
    "split_list\n",
    "\n",
    "\n",
    "\n",
    "\n",
    "for i_split in range(N_SPLIT):\n",
    "\n",
    "    path2save = PATH_PROCESSED+f'/split{i_split}'\n",
    "    os.makedirs(path2save , exist_ok=True)\n",
    "    \n",
    "    test_ids = list_ids[split_list[i_split]:split_list[i_split+1]]\n",
    "    i_split, sum(test_ids)\n",
    "    train_ids = list(set(list_ids)-set(test_ids))\n",
    "\n",
    "        \n",
    "    # save train ids\n",
    "    with open(path2save+'/train_ids.pkl', 'wb') as f:\n",
    "        pickle.dump(train_ids, f)\n",
    "\n",
    " \n",
    "\n",
    "    # save df_static and df_ts\n",
    "    df_static.to_csv(path2save+'/df_static.csv',index=False)\n",
    "    df_ts.to_csv(path2save+'/df_ts.csv',index=False)\n",
    "    \n",
    "    print('saved to', path2save)\n",
    "    \n",
    "\n",
    "\n",
    "\n",
    "# 163575645"
   ]
  },
  {
   "cell_type": "code",
   "execution_count": 76,
   "metadata": {},
   "outputs": [
    {
     "data": {
      "text/plain": [
       "'.././data/processed/sim-l0.2-d16'"
      ]
     },
     "execution_count": 76,
     "metadata": {},
     "output_type": "execute_result"
    }
   ],
   "source": [
    "PATH_PROCESSED"
   ]
  },
  {
   "cell_type": "markdown",
   "metadata": {},
   "source": [
    "## save config"
   ]
  },
  {
   "cell_type": "code",
   "execution_count": 77,
   "metadata": {},
   "outputs": [],
   "source": [
    "with open(f'../configs/data/{DATASET}.yaml', 'w') as file:\n",
    "    documents = yaml.dump(config_data, file)"
   ]
  },
  {
   "cell_type": "code",
   "execution_count": null,
   "metadata": {},
   "outputs": [],
   "source": []
  },
  {
   "cell_type": "markdown",
   "metadata": {},
   "source": [
    "# Create Dataset"
   ]
  },
  {
   "cell_type": "code",
   "execution_count": 51,
   "metadata": {},
   "outputs": [],
   "source": [
    "from omegaconf import OmegaConf\n",
    "\n",
    "DATASET = 'p12'\n",
    "SPLIT = 0\n",
    "\n",
    "# config_data = yaml.safe_load(open(f'../configs/data/{DATASET}.yaml'))\n",
    "\n",
    "config_data = OmegaConf.load(f'../configs/data/{DATASET}.yaml')"
   ]
  },
  {
   "cell_type": "code",
   "execution_count": 52,
   "metadata": {},
   "outputs": [
    {
     "data": {
      "text/plain": [
       "'/mlodata1/hokarami/tedam/TimEHR/data/processed/p12-real'"
      ]
     },
     "execution_count": 52,
     "metadata": {},
     "output_type": "execute_result"
    }
   ],
   "source": [
    "config_data.path_processed"
   ]
  },
  {
   "cell_type": "code",
   "execution_count": 58,
   "metadata": {},
   "outputs": [
    {
     "name": "stdout",
     "output_type": "stream",
     "text": [
      "Warning: ids are not the same in df_static and df_temporal\n",
      "Discarded 7 ids\n"
     ]
    },
    {
     "name": "stderr",
     "output_type": "stream",
     "text": [
      "/mlodata1/hokarami/Machine-Learning-Collection/ML/Pytorch/GANs/4. WGAN-GP/data/data_utils.py:325: SettingWithCopyWarning:\n",
      "\n",
      "\n",
      "A value is trying to be set on a copy of a slice from a DataFrame.\n",
      "Try using .loc[row_indexer,col_indexer] = value instead\n",
      "\n",
      "See the caveats in the documentation: https://pandas.pydata.org/pandas-docs/stable/user_guide/indexing.html#returning-a-view-versus-a-copy\n",
      "\n",
      "/mlodata1/hokarami/Machine-Learning-Collection/ML/Pytorch/GANs/4. WGAN-GP/data/data_utils.py:340: SettingWithCopyWarning:\n",
      "\n",
      "\n",
      "A value is trying to be set on a copy of a slice from a DataFrame.\n",
      "Try using .loc[row_indexer,col_indexer] = value instead\n",
      "\n",
      "See the caveats in the documentation: https://pandas.pydata.org/pandas-docs/stable/user_guide/indexing.html#returning-a-view-versus-a-copy\n",
      "\n",
      "/mlodata1/hokarami/Machine-Learning-Collection/ML/Pytorch/GANs/4. WGAN-GP/data/data_utils.py:335: SettingWithCopyWarning:\n",
      "\n",
      "\n",
      "A value is trying to be set on a copy of a slice from a DataFrame.\n",
      "Try using .loc[row_indexer,col_indexer] = value instead\n",
      "\n",
      "See the caveats in the documentation: https://pandas.pydata.org/pandas-docs/stable/user_guide/indexing.html#returning-a-view-versus-a-copy\n",
      "\n",
      "/mlodata1/hokarami/Machine-Learning-Collection/ML/Pytorch/GANs/4. WGAN-GP/data/data_utils.py:335: SettingWithCopyWarning:\n",
      "\n",
      "\n",
      "A value is trying to be set on a copy of a slice from a DataFrame.\n",
      "Try using .loc[row_indexer,col_indexer] = value instead\n",
      "\n",
      "See the caveats in the documentation: https://pandas.pydata.org/pandas-docs/stable/user_guide/indexing.html#returning-a-view-versus-a-copy\n",
      "\n",
      "/mlodata1/hokarami/Machine-Learning-Collection/ML/Pytorch/GANs/4. WGAN-GP/data/data_utils.py:335: SettingWithCopyWarning:\n",
      "\n",
      "\n",
      "A value is trying to be set on a copy of a slice from a DataFrame.\n",
      "Try using .loc[row_indexer,col_indexer] = value instead\n",
      "\n",
      "See the caveats in the documentation: https://pandas.pydata.org/pandas-docs/stable/user_guide/indexing.html#returning-a-view-versus-a-copy\n",
      "\n",
      "/mlodata1/hokarami/Machine-Learning-Collection/ML/Pytorch/GANs/4. WGAN-GP/data/data_utils.py:335: SettingWithCopyWarning:\n",
      "\n",
      "\n",
      "A value is trying to be set on a copy of a slice from a DataFrame.\n",
      "Try using .loc[row_indexer,col_indexer] = value instead\n",
      "\n",
      "See the caveats in the documentation: https://pandas.pydata.org/pandas-docs/stable/user_guide/indexing.html#returning-a-view-versus-a-copy\n",
      "\n",
      "preprocessing temporal data into images: 100%|██████████| 9593/9593 [00:33<00:00, 286.31it/s]\n"
     ]
    },
    {
     "name": "stdout",
     "output_type": "stream",
     "text": [
      "Warning: ids are not the same in df_static and df_temporal\n",
      "Discarded 6 ids\n"
     ]
    },
    {
     "name": "stderr",
     "output_type": "stream",
     "text": [
      "/mlodata1/hokarami/Machine-Learning-Collection/ML/Pytorch/GANs/4. WGAN-GP/data/data_utils.py:325: SettingWithCopyWarning:\n",
      "\n",
      "\n",
      "A value is trying to be set on a copy of a slice from a DataFrame.\n",
      "Try using .loc[row_indexer,col_indexer] = value instead\n",
      "\n",
      "See the caveats in the documentation: https://pandas.pydata.org/pandas-docs/stable/user_guide/indexing.html#returning-a-view-versus-a-copy\n",
      "\n",
      "/mlodata1/hokarami/Machine-Learning-Collection/ML/Pytorch/GANs/4. WGAN-GP/data/data_utils.py:340: SettingWithCopyWarning:\n",
      "\n",
      "\n",
      "A value is trying to be set on a copy of a slice from a DataFrame.\n",
      "Try using .loc[row_indexer,col_indexer] = value instead\n",
      "\n",
      "See the caveats in the documentation: https://pandas.pydata.org/pandas-docs/stable/user_guide/indexing.html#returning-a-view-versus-a-copy\n",
      "\n",
      "/mlodata1/hokarami/Machine-Learning-Collection/ML/Pytorch/GANs/4. WGAN-GP/data/data_utils.py:335: SettingWithCopyWarning:\n",
      "\n",
      "\n",
      "A value is trying to be set on a copy of a slice from a DataFrame.\n",
      "Try using .loc[row_indexer,col_indexer] = value instead\n",
      "\n",
      "See the caveats in the documentation: https://pandas.pydata.org/pandas-docs/stable/user_guide/indexing.html#returning-a-view-versus-a-copy\n",
      "\n",
      "/mlodata1/hokarami/Machine-Learning-Collection/ML/Pytorch/GANs/4. WGAN-GP/data/data_utils.py:335: SettingWithCopyWarning:\n",
      "\n",
      "\n",
      "A value is trying to be set on a copy of a slice from a DataFrame.\n",
      "Try using .loc[row_indexer,col_indexer] = value instead\n",
      "\n",
      "See the caveats in the documentation: https://pandas.pydata.org/pandas-docs/stable/user_guide/indexing.html#returning-a-view-versus-a-copy\n",
      "\n",
      "/mlodata1/hokarami/Machine-Learning-Collection/ML/Pytorch/GANs/4. WGAN-GP/data/data_utils.py:335: SettingWithCopyWarning:\n",
      "\n",
      "\n",
      "A value is trying to be set on a copy of a slice from a DataFrame.\n",
      "Try using .loc[row_indexer,col_indexer] = value instead\n",
      "\n",
      "See the caveats in the documentation: https://pandas.pydata.org/pandas-docs/stable/user_guide/indexing.html#returning-a-view-versus-a-copy\n",
      "\n",
      "/mlodata1/hokarami/Machine-Learning-Collection/ML/Pytorch/GANs/4. WGAN-GP/data/data_utils.py:335: SettingWithCopyWarning:\n",
      "\n",
      "\n",
      "A value is trying to be set on a copy of a slice from a DataFrame.\n",
      "Try using .loc[row_indexer,col_indexer] = value instead\n",
      "\n",
      "See the caveats in the documentation: https://pandas.pydata.org/pandas-docs/stable/user_guide/indexing.html#returning-a-view-versus-a-copy\n",
      "\n",
      "preprocessing temporal data into images: 100%|██████████| 2394/2394 [00:08<00:00, 290.83it/s]\n"
     ]
    }
   ],
   "source": [
    "from data_utils import get_datasets\n",
    "\n",
    "\n",
    "train_dataset, val_dataset = get_datasets(\n",
    "        config_data, split=SPLIT, preprocess=True\n",
    "    )"
   ]
  },
  {
   "cell_type": "markdown",
   "metadata": {},
   "source": [
    "## Visualize\n",
    "\n",
    "Let's visualize some examples of the dataset."
   ]
  },
  {
   "cell_type": "code",
   "execution_count": 56,
   "metadata": {},
   "outputs": [
    {
     "data": {
      "text/plain": [
       "(torch.Size([9, 1, 64, 64]), torch.Size([9, 1, 64, 64]))"
      ]
     },
     "execution_count": 56,
     "metadata": {},
     "output_type": "execute_result"
    },
    {
     "data": {
      "text/plain": [
       "torch.Size([9, 2, 64, 64])"
      ]
     },
     "execution_count": 56,
     "metadata": {},
     "output_type": "execute_result"
    }
   ],
   "source": [
    "\n",
    "masks = []\n",
    "values = []\n",
    "i=0\n",
    "\n",
    "# extract first 9 samples\n",
    "for x in train_dataset:\n",
    "    masks.append(x[0])\n",
    "    values.append(x[1])\n",
    "    i+=1\n",
    "    if i>8:\n",
    "        break\n",
    "\n",
    "masks = torch.stack(masks)\n",
    "values = torch.stack(values)\n",
    "\n",
    "\n",
    "# creating final image\n",
    "images = torch.cat([values,masks],dim=1)\n",
    "\n",
    "\n",
    "masks.shape, values.shape\n",
    "images.shape"
   ]
  },
  {
   "cell_type": "code",
   "execution_count": 57,
   "metadata": {},
   "outputs": [
    {
     "data": {
      "image/jpeg": "[encoded data removed]",
      "image/png": "[encoded data removed]",
      "text/plain": [
       "<PIL.Image.Image image mode=RGB size=882x780>"
      ]
     },
     "execution_count": 57,
     "metadata": {},
     "output_type": "execute_result"
    }
   ],
   "source": [
    "import sys\n",
    "sys.path.append('../')\n",
    "from Utils.utils import save_examples\n",
    "\n",
    "\n",
    "pil_image = save_examples(\n",
    "        images,\n",
    "        images,\n",
    "        n_ts=len(state_vars),\n",
    "        epoch_no=-1,\n",
    "    )\n",
    "\n",
    "\n",
    "# show PIL image, ignore the yellow grids\n",
    "pil_image\n"
   ]
  },
  {
   "cell_type": "code",
   "execution_count": null,
   "metadata": {},
   "outputs": [],
   "source": []
  }
 ],
 "metadata": {
  "kernelspec": {
   "display_name": "paper2022",
   "language": "python",
   "name": "python3"
  },
  "language_info": {
   "codemirror_mode": {
    "name": "ipython",
    "version": 3
   },
   "file_extension": ".py",
   "mimetype": "text/x-python",
   "name": "python",
   "nbconvert_exporter": "python",
   "pygments_lexer": "ipython3",
   "version": "3.8.5"
  },
  "orig_nbformat": 4,
  "vscode": {
   "interpreter": {
    "hash": "ca5b395ee1d8a1cd2783c3fccc5aaaf2f1d95e614c8b133e284cded792af89cd"
   }
  }
 },
 "nbformat": 4,
 "nbformat_minor": 2
}
