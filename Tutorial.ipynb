{
 "cells": [
  {
   "cell_type": "code",
   "execution_count": 1,
   "metadata": {},
   "outputs": [],
   "source": [
    "# activate line execution\n",
    "from IPython.core.interactiveshell import InteractiveShell\n",
    "InteractiveShell.ast_node_interactivity = \"all\"\n",
    "\n",
    "%load_ext autoreload\n",
    "%autoreload 2"
   ]
  },
  {
   "cell_type": "code",
   "execution_count": 2,
   "metadata": {},
   "outputs": [],
   "source": [
    "import pandas as pd\n",
    "import numpy as np\n",
    "import logging\n",
    "logging.basicConfig(level=logging.INFO)"
   ]
  },
  {
   "cell_type": "code",
   "execution_count": 3,
   "metadata": {},
   "outputs": [],
   "source": [
    "from MulticoreTSNE import MulticoreTSNE as TSNE\n",
    "import numpy as np\n",
    "import plotly.express as px\n",
    "import plotly.graph_objects as go\n",
    "from plotly.subplots import make_subplots"
   ]
  },
  {
   "cell_type": "code",
   "execution_count": 4,
   "metadata": {},
   "outputs": [
    {
     "data": {
      "text/plain": [
       "hydra.initialize()"
      ]
     },
     "execution_count": 4,
     "metadata": {},
     "output_type": "execute_result"
    },
    {
     "name": "stderr",
     "output_type": "stream",
     "text": [
      "/mlodata1/hokarami/Machine-Learning-Collection/ML/Pytorch/GANs/4. WGAN-GP/test2/lib/python3.8/site-packages/hydra/_internal/defaults_list.py:251: UserWarning: In 'config.yaml': Defaults list is missing `_self_`. See https://hydra.cc/docs/1.2/upgrades/1.0_to_1.1/default_composition_order for more information\n",
      "  warnings.warn(msg, UserWarning)\n"
     ]
    }
   ],
   "source": [
    "import os\n",
    "from hydra import initialize, initialize_config_module, initialize_config_dir, compose\n",
    "from omegaconf import OmegaConf\n",
    "\n",
    "initialize(version_base=None, config_path=\"configs\")\n",
    "cfg = compose(config_name=\"config.yaml\")"
   ]
  },
  {
   "cell_type": "code",
   "execution_count": 5,
   "metadata": {},
   "outputs": [
    {
     "data": {
      "text/plain": [
       "True"
      ]
     },
     "execution_count": 5,
     "metadata": {},
     "output_type": "execute_result"
    },
    {
     "name": "stderr",
     "output_type": "stream",
     "text": [
      "ERROR:wandb.jupyter:Failed to detect the name of this notebook, you can set it manually with the WANDB_NOTEBOOK_NAME environment variable to enable code saving.\n",
      "\u001b[34m\u001b[1mwandb\u001b[0m: Currently logged in as: \u001b[33mg-hojatkarami\u001b[0m (\u001b[33mhokarami\u001b[0m). Use \u001b[1m`wandb login --relogin`\u001b[0m to force relogin\n"
     ]
    },
    {
     "data": {
      "text/plain": [
       "True"
      ]
     },
     "execution_count": 5,
     "metadata": {},
     "output_type": "execute_result"
    }
   ],
   "source": [
    "from dotenv import load_dotenv\n",
    "import wandb\n",
    "import os\n",
    "\n",
    "load_dotenv()\n",
    "wandb.login(key=os.getenv(\"WANDB_KEY\"))\n",
    "\n",
    "api = wandb.Api()"
   ]
  },
  {
   "cell_type": "code",
   "execution_count": 6,
   "metadata": {},
   "outputs": [],
   "source": [
    "import torch\n",
    "import torch.nn as nn\n",
    "from torch.utils.data import DataLoader\n",
    "\n",
    "from tqdm import tqdm"
   ]
  },
  {
   "cell_type": "markdown",
   "metadata": {},
   "source": [
    "# Load Data"
   ]
  },
  {
   "cell_type": "code",
   "execution_count": 7,
   "metadata": {},
   "outputs": [
    {
     "data": {
      "text/plain": [
       "False"
      ]
     },
     "execution_count": 7,
     "metadata": {},
     "output_type": "execute_result"
    }
   ],
   "source": [
    "pd.options.mode.copy_on_write"
   ]
  },
  {
   "cell_type": "code",
   "execution_count": 8,
   "metadata": {},
   "outputs": [
    {
     "name": "stdout",
     "output_type": "stream",
     "text": [
      "Warning: ids are not the same in df_static and df_temporal\n",
      "Discarded 7 ids\n"
     ]
    },
    {
     "name": "stderr",
     "output_type": "stream",
     "text": [
      "preprocessing temporal data into images: 100%|██████████| 9593/9593 [00:25<00:00, 375.44it/s]\n",
      "/mlodata1/hokarami/Machine-Learning-Collection/ML/Pytorch/GANs/4. WGAN-GP/data/data_utils.py:70: UserWarning: Creating a tensor from a list of numpy.ndarrays is extremely slow. Please consider converting the list to a single numpy.ndarray with numpy.array() before converting to a tensor. (Triggered internally at ../torch/csrc/utils/tensor_new.cpp:275.)\n",
      "  torch.tensor([x[0] for x in temp]).unsqueeze(1).float()\n"
     ]
    },
    {
     "name": "stdout",
     "output_type": "stream",
     "text": [
      "Warning: ids are not the same in df_static and df_temporal\n",
      "Discarded 6 ids\n"
     ]
    },
    {
     "name": "stderr",
     "output_type": "stream",
     "text": [
      "preprocessing temporal data into images: 100%|██████████| 2394/2394 [00:06<00:00, 360.51it/s]\n"
     ]
    }
   ],
   "source": [
    "from data.data_utils import get_datasets\n",
    "\n",
    "train_dataset, val_dataset = get_datasets(\n",
    "        cfg.data, split=cfg.split, preprocess=True\n",
    "    )"
   ]
  },
  {
   "cell_type": "markdown",
   "metadata": {},
   "source": [
    "# Train/Load Model"
   ]
  },
  {
   "cell_type": "code",
   "execution_count": 9,
   "metadata": {},
   "outputs": [
    {
     "name": "stderr",
     "output_type": "stream",
     "text": [
      "/mlodata1/hokarami/Machine-Learning-Collection/ML/Pytorch/GANs/4. WGAN-GP/test2/lib/python3.8/site-packages/tqdm/auto.py:21: TqdmWarning: IProgress not found. Please update jupyter and ipywidgets. See https://ipywidgets.readthedocs.io/en/stable/user_install.html\n",
      "  from .autonotebook import tqdm as notebook_tqdm\n"
     ]
    },
    {
     "name": "stdout",
     "output_type": "stream",
     "text": [
      "[KeOps] Compiling cuda jit compiler engine ... \n",
      "[KeOps] Warning : There were warnings or errors :\n",
      "g++: error: WGAN-GP/test2/lib/python3.8/site-packages/keopscore: No such file or directory\n",
      "g++: error: /mlodata1/hokarami/Machine-Learning-Collection/ML/Pytorch/GANs/4.: No such file or directory\n",
      "g++: error: WGAN-GP/test2/lib/python3.8/site-packages/keopscore/binders/nvrtc/nvrtc_jit.cpp: No such file or directory\n",
      "\n",
      "OK\n",
      "[pyKeOps] Compiling nvrtc binder for python ... \n",
      "[KeOps] Warning : There were warnings or errors :\n",
      "/bin/sh: 1: /mlodata1/hokarami/Machine-Learning-Collection/ML/Pytorch/GANs/4.: not found\n",
      "g++: error: WGAN-GP/test2/lib/python3.8/site-packages/keopscore: No such file or directory\n",
      "g++: error: /mlodata1/hokarami/Machine-Learning-Collection/ML/Pytorch/GANs/4.: No such file or directory\n",
      "g++: error: WGAN-GP/test2/lib/python3.8/site-packages/pykeops/common/keops_io/pykeops_nvrtc.cpp: No such file or directory\n",
      "\n",
      "OK\n",
      "Generator has 1,304,964 trainable parameters\n",
      "Critic has 212,177 trainable parameters\n",
      "Generator has 54446273 parameters\n",
      "Discriminator has 39593 parameters\n"
     ]
    }
   ],
   "source": [
    "from Utils.models import TimEHR\n",
    "\n",
    "model = TimEHR(cfg)"
   ]
  },
  {
   "cell_type": "code",
   "execution_count": 22,
   "metadata": {},
   "outputs": [
    {
     "name": "stderr",
     "output_type": "stream",
     "text": [
      "INFO:root:Loading CWGAN from run: hokarami/CWGAN/234t1alr\n"
     ]
    },
    {
     "name": "stdout",
     "output_type": "stream",
     "text": [
      "CWGAN - run_path:  hokarami/CWGAN/234t1alr\n"
     ]
    },
    {
     "name": "stderr",
     "output_type": "stream",
     "text": [
      "INFO:root:Loading PIXGAN from run: hokarami/PIXGAN/9a0u31rl\n"
     ]
    },
    {
     "name": "stdout",
     "output_type": "stream",
     "text": [
      "last_epoch:  150\n",
      "PIXGAN - run_path:  hokarami/PIXGAN/9a0u31rl\n",
      "last_epoch:  150\n"
     ]
    }
   ],
   "source": [
    "# model.from_pretrained(path_cwgan='hokarami/CWGAN/uj5gf643',path_pix2pix='hokarami/PIXGAN/lorajx1i')\n",
    "model.from_pretrained(path_cwgan='hokarami/CWGAN/234t1alr',path_pix2pix='hokarami/PIXGAN/9a0u31rl')\n"
   ]
  },
  {
   "cell_type": "code",
   "execution_count": null,
   "metadata": {},
   "outputs": [],
   "source": [
    "model.train(train_dataset, val_dataset)"
   ]
  },
  {
   "cell_type": "code",
   "execution_count": 23,
   "metadata": {},
   "outputs": [
    {
     "data": {
      "text/plain": [
       "'hokarami/CWGAN/uj5gf643'"
      ]
     },
     "execution_count": 23,
     "metadata": {},
     "output_type": "execute_result"
    },
    {
     "data": {
      "text/plain": [
       "400"
      ]
     },
     "execution_count": 23,
     "metadata": {},
     "output_type": "execute_result"
    },
    {
     "data": {
      "text/plain": [
       "'hokarami/PIXGAN/9hec4rye'"
      ]
     },
     "execution_count": 23,
     "metadata": {},
     "output_type": "execute_result"
    },
    {
     "data": {
      "text/plain": [
       "150"
      ]
     },
     "execution_count": 23,
     "metadata": {},
     "output_type": "execute_result"
    },
    {
     "data": {
      "text/plain": [
       "{}"
      ]
     },
     "execution_count": 23,
     "metadata": {},
     "output_type": "execute_result"
    }
   ],
   "source": [
    "model.cwgan.run_path\n",
    "model.cwgan.epoch_no\n",
    "\n",
    "model.pix2pix.run_path\n",
    "model.pix2pix.epoch_no\n",
    "\n",
    "model.progress"
   ]
  },
  {
   "cell_type": "markdown",
   "metadata": {},
   "source": [
    "# Generation"
   ]
  },
  {
   "cell_type": "code",
   "execution_count": 23,
   "metadata": {},
   "outputs": [
    {
     "name": "stderr",
     "output_type": "stream",
     "text": [
      "INFO:root:Using static data from the training set (9593 samples)\n",
      "100%|██████████| 150/150 [00:00<00:00, 268.56it/s]\n",
      "100%|██████████| 150/150 [00:00<00:00, 269.69it/s]\n",
      "100%|██████████| 38/38 [00:00<00:00, 355.72it/s]\n"
     ]
    }
   ],
   "source": [
    "from Utils.utils import mat2df\n",
    "# get synthetic data\n",
    "fake_static, fake_data = model.generate(train_dataset, count=len(train_dataset), method='real')\n",
    "df_ts_fake, df_static_fake = mat2df(fake_data,fake_static, train_dataset.dynamic_processor, train_dataset.static_processor)\n",
    "\n",
    "# get train data\n",
    "train_static, train_data = model._get_data(train_dataset)\n",
    "df_ts_train, df_static_train = mat2df(train_data,train_static, train_dataset.dynamic_processor, train_dataset.static_processor)\n",
    "\n",
    "# get test data\n",
    "val_static, val_data = model._get_data(val_dataset)\n",
    "df_ts_test, df_static_test = mat2df(val_data,val_static,val_dataset.dynamic_processor,val_dataset.static_processor)"
   ]
  },
  {
   "cell_type": "code",
   "execution_count": 25,
   "metadata": {},
   "outputs": [
    {
     "data": {
      "text/plain": [
       "(9593, 2, 64, 64)"
      ]
     },
     "execution_count": 25,
     "metadata": {},
     "output_type": "execute_result"
    },
    {
     "data": {
      "text/plain": [
       "-3362.0"
      ]
     },
     "execution_count": 25,
     "metadata": {},
     "output_type": "execute_result"
    }
   ],
   "source": [
    "fake_data.shape\n",
    "\n",
    "fake_data[0,1,:,:].sum()"
   ]
  },
  {
   "cell_type": "code",
   "execution_count": 26,
   "metadata": {},
   "outputs": [
    {
     "data": {
      "text/html": [
       "<div>\n",
       "<style scoped>\n",
       "    .dataframe tbody tr th:only-of-type {\n",
       "        vertical-align: middle;\n",
       "    }\n",
       "\n",
       "    .dataframe tbody tr th {\n",
       "        vertical-align: top;\n",
       "    }\n",
       "\n",
       "    .dataframe thead th {\n",
       "        text-align: right;\n",
       "    }\n",
       "</style>\n",
       "<table border=\"1\" class=\"dataframe\">\n",
       "  <thead>\n",
       "    <tr style=\"text-align: right;\">\n",
       "      <th></th>\n",
       "      <th>ALP</th>\n",
       "      <th>HCO3</th>\n",
       "      <th>SaO2</th>\n",
       "      <th>FiO2</th>\n",
       "      <th>K</th>\n",
       "      <th>Albumin</th>\n",
       "      <th>Urine</th>\n",
       "      <th>Glucose</th>\n",
       "      <th>SysABP</th>\n",
       "      <th>Mg</th>\n",
       "      <th>...</th>\n",
       "      <th>pH</th>\n",
       "      <th>DiasABP</th>\n",
       "      <th>WBC</th>\n",
       "      <th>TroponinT</th>\n",
       "      <th>MAP</th>\n",
       "      <th>HCT</th>\n",
       "      <th>AST</th>\n",
       "      <th>timepoint</th>\n",
       "      <th>id</th>\n",
       "      <th>outcome</th>\n",
       "    </tr>\n",
       "  </thead>\n",
       "  <tbody>\n",
       "    <tr>\n",
       "      <th>0</th>\n",
       "      <td>NaN</td>\n",
       "      <td>NaN</td>\n",
       "      <td>NaN</td>\n",
       "      <td>NaN</td>\n",
       "      <td>NaN</td>\n",
       "      <td>NaN</td>\n",
       "      <td>NaN</td>\n",
       "      <td>NaN</td>\n",
       "      <td>NaN</td>\n",
       "      <td>NaN</td>\n",
       "      <td>...</td>\n",
       "      <td>7.259169</td>\n",
       "      <td>NaN</td>\n",
       "      <td>NaN</td>\n",
       "      <td>NaN</td>\n",
       "      <td>NaN</td>\n",
       "      <td>NaN</td>\n",
       "      <td>NaN</td>\n",
       "      <td>0</td>\n",
       "      <td>0</td>\n",
       "      <td>0</td>\n",
       "    </tr>\n",
       "    <tr>\n",
       "      <th>1</th>\n",
       "      <td>NaN</td>\n",
       "      <td>NaN</td>\n",
       "      <td>NaN</td>\n",
       "      <td>NaN</td>\n",
       "      <td>NaN</td>\n",
       "      <td>NaN</td>\n",
       "      <td>NaN</td>\n",
       "      <td>NaN</td>\n",
       "      <td>81.508691</td>\n",
       "      <td>NaN</td>\n",
       "      <td>...</td>\n",
       "      <td>NaN</td>\n",
       "      <td>56.546106</td>\n",
       "      <td>NaN</td>\n",
       "      <td>NaN</td>\n",
       "      <td>82.715740</td>\n",
       "      <td>NaN</td>\n",
       "      <td>NaN</td>\n",
       "      <td>1</td>\n",
       "      <td>0</td>\n",
       "      <td>0</td>\n",
       "    </tr>\n",
       "    <tr>\n",
       "      <th>2</th>\n",
       "      <td>NaN</td>\n",
       "      <td>17.843637</td>\n",
       "      <td>NaN</td>\n",
       "      <td>0.853452</td>\n",
       "      <td>4.173698</td>\n",
       "      <td>NaN</td>\n",
       "      <td>327.552482</td>\n",
       "      <td>106.033216</td>\n",
       "      <td>115.089550</td>\n",
       "      <td>2.767824</td>\n",
       "      <td>...</td>\n",
       "      <td>7.121957</td>\n",
       "      <td>54.238979</td>\n",
       "      <td>9.822447</td>\n",
       "      <td>NaN</td>\n",
       "      <td>70.102641</td>\n",
       "      <td>34.970562</td>\n",
       "      <td>23.551937</td>\n",
       "      <td>2</td>\n",
       "      <td>0</td>\n",
       "      <td>0</td>\n",
       "    </tr>\n",
       "    <tr>\n",
       "      <th>3</th>\n",
       "      <td>NaN</td>\n",
       "      <td>NaN</td>\n",
       "      <td>NaN</td>\n",
       "      <td>NaN</td>\n",
       "      <td>NaN</td>\n",
       "      <td>NaN</td>\n",
       "      <td>179.980154</td>\n",
       "      <td>NaN</td>\n",
       "      <td>99.554548</td>\n",
       "      <td>NaN</td>\n",
       "      <td>...</td>\n",
       "      <td>NaN</td>\n",
       "      <td>52.214107</td>\n",
       "      <td>NaN</td>\n",
       "      <td>NaN</td>\n",
       "      <td>70.909316</td>\n",
       "      <td>NaN</td>\n",
       "      <td>NaN</td>\n",
       "      <td>3</td>\n",
       "      <td>0</td>\n",
       "      <td>0</td>\n",
       "    </tr>\n",
       "    <tr>\n",
       "      <th>4</th>\n",
       "      <td>NaN</td>\n",
       "      <td>NaN</td>\n",
       "      <td>NaN</td>\n",
       "      <td>0.514076</td>\n",
       "      <td>NaN</td>\n",
       "      <td>NaN</td>\n",
       "      <td>320.432746</td>\n",
       "      <td>NaN</td>\n",
       "      <td>140.899188</td>\n",
       "      <td>NaN</td>\n",
       "      <td>...</td>\n",
       "      <td>NaN</td>\n",
       "      <td>47.589784</td>\n",
       "      <td>NaN</td>\n",
       "      <td>NaN</td>\n",
       "      <td>61.415696</td>\n",
       "      <td>NaN</td>\n",
       "      <td>NaN</td>\n",
       "      <td>4</td>\n",
       "      <td>0</td>\n",
       "      <td>0</td>\n",
       "    </tr>\n",
       "    <tr>\n",
       "      <th>...</th>\n",
       "      <td>...</td>\n",
       "      <td>...</td>\n",
       "      <td>...</td>\n",
       "      <td>...</td>\n",
       "      <td>...</td>\n",
       "      <td>...</td>\n",
       "      <td>...</td>\n",
       "      <td>...</td>\n",
       "      <td>...</td>\n",
       "      <td>...</td>\n",
       "      <td>...</td>\n",
       "      <td>...</td>\n",
       "      <td>...</td>\n",
       "      <td>...</td>\n",
       "      <td>...</td>\n",
       "      <td>...</td>\n",
       "      <td>...</td>\n",
       "      <td>...</td>\n",
       "      <td>...</td>\n",
       "      <td>...</td>\n",
       "      <td>...</td>\n",
       "    </tr>\n",
       "    <tr>\n",
       "      <th>448188</th>\n",
       "      <td>NaN</td>\n",
       "      <td>NaN</td>\n",
       "      <td>NaN</td>\n",
       "      <td>NaN</td>\n",
       "      <td>NaN</td>\n",
       "      <td>NaN</td>\n",
       "      <td>102.418993</td>\n",
       "      <td>NaN</td>\n",
       "      <td>NaN</td>\n",
       "      <td>NaN</td>\n",
       "      <td>...</td>\n",
       "      <td>7.223417</td>\n",
       "      <td>48.959154</td>\n",
       "      <td>NaN</td>\n",
       "      <td>NaN</td>\n",
       "      <td>85.523485</td>\n",
       "      <td>NaN</td>\n",
       "      <td>NaN</td>\n",
       "      <td>41</td>\n",
       "      <td>9592</td>\n",
       "      <td>0</td>\n",
       "    </tr>\n",
       "    <tr>\n",
       "      <th>448189</th>\n",
       "      <td>NaN</td>\n",
       "      <td>NaN</td>\n",
       "      <td>NaN</td>\n",
       "      <td>NaN</td>\n",
       "      <td>NaN</td>\n",
       "      <td>NaN</td>\n",
       "      <td>157.941182</td>\n",
       "      <td>NaN</td>\n",
       "      <td>134.170314</td>\n",
       "      <td>NaN</td>\n",
       "      <td>...</td>\n",
       "      <td>NaN</td>\n",
       "      <td>51.360481</td>\n",
       "      <td>NaN</td>\n",
       "      <td>NaN</td>\n",
       "      <td>95.399517</td>\n",
       "      <td>NaN</td>\n",
       "      <td>NaN</td>\n",
       "      <td>43</td>\n",
       "      <td>9592</td>\n",
       "      <td>0</td>\n",
       "    </tr>\n",
       "    <tr>\n",
       "      <th>448190</th>\n",
       "      <td>NaN</td>\n",
       "      <td>NaN</td>\n",
       "      <td>NaN</td>\n",
       "      <td>NaN</td>\n",
       "      <td>NaN</td>\n",
       "      <td>NaN</td>\n",
       "      <td>146.094165</td>\n",
       "      <td>NaN</td>\n",
       "      <td>115.050551</td>\n",
       "      <td>NaN</td>\n",
       "      <td>...</td>\n",
       "      <td>NaN</td>\n",
       "      <td>55.061882</td>\n",
       "      <td>NaN</td>\n",
       "      <td>NaN</td>\n",
       "      <td>92.671739</td>\n",
       "      <td>NaN</td>\n",
       "      <td>NaN</td>\n",
       "      <td>45</td>\n",
       "      <td>9592</td>\n",
       "      <td>0</td>\n",
       "    </tr>\n",
       "    <tr>\n",
       "      <th>448191</th>\n",
       "      <td>NaN</td>\n",
       "      <td>NaN</td>\n",
       "      <td>NaN</td>\n",
       "      <td>NaN</td>\n",
       "      <td>NaN</td>\n",
       "      <td>NaN</td>\n",
       "      <td>NaN</td>\n",
       "      <td>NaN</td>\n",
       "      <td>NaN</td>\n",
       "      <td>NaN</td>\n",
       "      <td>...</td>\n",
       "      <td>NaN</td>\n",
       "      <td>55.100964</td>\n",
       "      <td>NaN</td>\n",
       "      <td>NaN</td>\n",
       "      <td>NaN</td>\n",
       "      <td>NaN</td>\n",
       "      <td>NaN</td>\n",
       "      <td>46</td>\n",
       "      <td>9592</td>\n",
       "      <td>0</td>\n",
       "    </tr>\n",
       "    <tr>\n",
       "      <th>448192</th>\n",
       "      <td>NaN</td>\n",
       "      <td>NaN</td>\n",
       "      <td>NaN</td>\n",
       "      <td>NaN</td>\n",
       "      <td>NaN</td>\n",
       "      <td>NaN</td>\n",
       "      <td>37.591191</td>\n",
       "      <td>NaN</td>\n",
       "      <td>NaN</td>\n",
       "      <td>NaN</td>\n",
       "      <td>...</td>\n",
       "      <td>NaN</td>\n",
       "      <td>52.507341</td>\n",
       "      <td>NaN</td>\n",
       "      <td>NaN</td>\n",
       "      <td>84.837681</td>\n",
       "      <td>NaN</td>\n",
       "      <td>NaN</td>\n",
       "      <td>47</td>\n",
       "      <td>9592</td>\n",
       "      <td>0</td>\n",
       "    </tr>\n",
       "  </tbody>\n",
       "</table>\n",
       "<p>448193 rows × 38 columns</p>\n",
       "</div>"
      ],
      "text/plain": [
       "        ALP       HCO3  SaO2      FiO2         K  Albumin       Urine  \\\n",
       "0       NaN        NaN   NaN       NaN       NaN      NaN         NaN   \n",
       "1       NaN        NaN   NaN       NaN       NaN      NaN         NaN   \n",
       "2       NaN  17.843637   NaN  0.853452  4.173698      NaN  327.552482   \n",
       "3       NaN        NaN   NaN       NaN       NaN      NaN  179.980154   \n",
       "4       NaN        NaN   NaN  0.514076       NaN      NaN  320.432746   \n",
       "...     ...        ...   ...       ...       ...      ...         ...   \n",
       "448188  NaN        NaN   NaN       NaN       NaN      NaN  102.418993   \n",
       "448189  NaN        NaN   NaN       NaN       NaN      NaN  157.941182   \n",
       "448190  NaN        NaN   NaN       NaN       NaN      NaN  146.094165   \n",
       "448191  NaN        NaN   NaN       NaN       NaN      NaN         NaN   \n",
       "448192  NaN        NaN   NaN       NaN       NaN      NaN   37.591191   \n",
       "\n",
       "           Glucose      SysABP        Mg  ...        pH    DiasABP       WBC  \\\n",
       "0              NaN         NaN       NaN  ...  7.259169        NaN       NaN   \n",
       "1              NaN   81.508691       NaN  ...       NaN  56.546106       NaN   \n",
       "2       106.033216  115.089550  2.767824  ...  7.121957  54.238979  9.822447   \n",
       "3              NaN   99.554548       NaN  ...       NaN  52.214107       NaN   \n",
       "4              NaN  140.899188       NaN  ...       NaN  47.589784       NaN   \n",
       "...            ...         ...       ...  ...       ...        ...       ...   \n",
       "448188         NaN         NaN       NaN  ...  7.223417  48.959154       NaN   \n",
       "448189         NaN  134.170314       NaN  ...       NaN  51.360481       NaN   \n",
       "448190         NaN  115.050551       NaN  ...       NaN  55.061882       NaN   \n",
       "448191         NaN         NaN       NaN  ...       NaN  55.100964       NaN   \n",
       "448192         NaN         NaN       NaN  ...       NaN  52.507341       NaN   \n",
       "\n",
       "        TroponinT        MAP        HCT        AST  timepoint    id  outcome  \n",
       "0             NaN        NaN        NaN        NaN          0     0        0  \n",
       "1             NaN  82.715740        NaN        NaN          1     0        0  \n",
       "2             NaN  70.102641  34.970562  23.551937          2     0        0  \n",
       "3             NaN  70.909316        NaN        NaN          3     0        0  \n",
       "4             NaN  61.415696        NaN        NaN          4     0        0  \n",
       "...           ...        ...        ...        ...        ...   ...      ...  \n",
       "448188        NaN  85.523485        NaN        NaN         41  9592        0  \n",
       "448189        NaN  95.399517        NaN        NaN         43  9592        0  \n",
       "448190        NaN  92.671739        NaN        NaN         45  9592        0  \n",
       "448191        NaN        NaN        NaN        NaN         46  9592        0  \n",
       "448192        NaN  84.837681        NaN        NaN         47  9592        0  \n",
       "\n",
       "[448193 rows x 38 columns]"
      ]
     },
     "execution_count": 26,
     "metadata": {},
     "output_type": "execute_result"
    },
    {
     "data": {
      "text/html": [
       "<div>\n",
       "<style scoped>\n",
       "    .dataframe tbody tr th:only-of-type {\n",
       "        vertical-align: middle;\n",
       "    }\n",
       "\n",
       "    .dataframe tbody tr th {\n",
       "        vertical-align: top;\n",
       "    }\n",
       "\n",
       "    .dataframe thead th {\n",
       "        text-align: right;\n",
       "    }\n",
       "</style>\n",
       "<table border=\"1\" class=\"dataframe\">\n",
       "  <thead>\n",
       "    <tr style=\"text-align: right;\">\n",
       "      <th></th>\n",
       "      <th>ALP</th>\n",
       "      <th>HCO3</th>\n",
       "      <th>SaO2</th>\n",
       "      <th>FiO2</th>\n",
       "      <th>K</th>\n",
       "      <th>Albumin</th>\n",
       "      <th>Urine</th>\n",
       "      <th>Glucose</th>\n",
       "      <th>SysABP</th>\n",
       "      <th>Mg</th>\n",
       "      <th>...</th>\n",
       "      <th>pH</th>\n",
       "      <th>DiasABP</th>\n",
       "      <th>WBC</th>\n",
       "      <th>TroponinT</th>\n",
       "      <th>MAP</th>\n",
       "      <th>HCT</th>\n",
       "      <th>AST</th>\n",
       "      <th>timepoint</th>\n",
       "      <th>id</th>\n",
       "      <th>outcome</th>\n",
       "    </tr>\n",
       "  </thead>\n",
       "  <tbody>\n",
       "    <tr>\n",
       "      <th>0</th>\n",
       "      <td>NaN</td>\n",
       "      <td>NaN</td>\n",
       "      <td>NaN</td>\n",
       "      <td>1.0</td>\n",
       "      <td>NaN</td>\n",
       "      <td>NaN</td>\n",
       "      <td>0.000000</td>\n",
       "      <td>NaN</td>\n",
       "      <td>106.000000</td>\n",
       "      <td>NaN</td>\n",
       "      <td>...</td>\n",
       "      <td>7.45</td>\n",
       "      <td>68.999999</td>\n",
       "      <td>7.399999</td>\n",
       "      <td>NaN</td>\n",
       "      <td>81.000000</td>\n",
       "      <td>24.7</td>\n",
       "      <td>NaN</td>\n",
       "      <td>1</td>\n",
       "      <td>0</td>\n",
       "      <td>0</td>\n",
       "    </tr>\n",
       "    <tr>\n",
       "      <th>1</th>\n",
       "      <td>NaN</td>\n",
       "      <td>21.0</td>\n",
       "      <td>NaN</td>\n",
       "      <td>0.5</td>\n",
       "      <td>NaN</td>\n",
       "      <td>NaN</td>\n",
       "      <td>45.000000</td>\n",
       "      <td>NaN</td>\n",
       "      <td>105.000002</td>\n",
       "      <td>3.1</td>\n",
       "      <td>...</td>\n",
       "      <td>7.44</td>\n",
       "      <td>62.000001</td>\n",
       "      <td>NaN</td>\n",
       "      <td>NaN</td>\n",
       "      <td>75.999999</td>\n",
       "      <td>28.8</td>\n",
       "      <td>NaN</td>\n",
       "      <td>2</td>\n",
       "      <td>0</td>\n",
       "      <td>0</td>\n",
       "    </tr>\n",
       "    <tr>\n",
       "      <th>2</th>\n",
       "      <td>NaN</td>\n",
       "      <td>NaN</td>\n",
       "      <td>99.0</td>\n",
       "      <td>0.5</td>\n",
       "      <td>NaN</td>\n",
       "      <td>NaN</td>\n",
       "      <td>269.999997</td>\n",
       "      <td>NaN</td>\n",
       "      <td>99.000003</td>\n",
       "      <td>NaN</td>\n",
       "      <td>...</td>\n",
       "      <td>7.40</td>\n",
       "      <td>55.999999</td>\n",
       "      <td>NaN</td>\n",
       "      <td>NaN</td>\n",
       "      <td>70.999998</td>\n",
       "      <td>NaN</td>\n",
       "      <td>NaN</td>\n",
       "      <td>3</td>\n",
       "      <td>0</td>\n",
       "      <td>0</td>\n",
       "    </tr>\n",
       "    <tr>\n",
       "      <th>3</th>\n",
       "      <td>NaN</td>\n",
       "      <td>NaN</td>\n",
       "      <td>NaN</td>\n",
       "      <td>0.4</td>\n",
       "      <td>NaN</td>\n",
       "      <td>NaN</td>\n",
       "      <td>220.000009</td>\n",
       "      <td>NaN</td>\n",
       "      <td>99.000003</td>\n",
       "      <td>NaN</td>\n",
       "      <td>...</td>\n",
       "      <td>NaN</td>\n",
       "      <td>56.999999</td>\n",
       "      <td>NaN</td>\n",
       "      <td>NaN</td>\n",
       "      <td>69.999999</td>\n",
       "      <td>NaN</td>\n",
       "      <td>NaN</td>\n",
       "      <td>4</td>\n",
       "      <td>0</td>\n",
       "      <td>0</td>\n",
       "    </tr>\n",
       "    <tr>\n",
       "      <th>4</th>\n",
       "      <td>NaN</td>\n",
       "      <td>NaN</td>\n",
       "      <td>98.0</td>\n",
       "      <td>NaN</td>\n",
       "      <td>NaN</td>\n",
       "      <td>NaN</td>\n",
       "      <td>99.999993</td>\n",
       "      <td>NaN</td>\n",
       "      <td>80.000000</td>\n",
       "      <td>NaN</td>\n",
       "      <td>...</td>\n",
       "      <td>7.34</td>\n",
       "      <td>55.000001</td>\n",
       "      <td>NaN</td>\n",
       "      <td>NaN</td>\n",
       "      <td>72.000001</td>\n",
       "      <td>28.2</td>\n",
       "      <td>NaN</td>\n",
       "      <td>5</td>\n",
       "      <td>0</td>\n",
       "      <td>0</td>\n",
       "    </tr>\n",
       "    <tr>\n",
       "      <th>...</th>\n",
       "      <td>...</td>\n",
       "      <td>...</td>\n",
       "      <td>...</td>\n",
       "      <td>...</td>\n",
       "      <td>...</td>\n",
       "      <td>...</td>\n",
       "      <td>...</td>\n",
       "      <td>...</td>\n",
       "      <td>...</td>\n",
       "      <td>...</td>\n",
       "      <td>...</td>\n",
       "      <td>...</td>\n",
       "      <td>...</td>\n",
       "      <td>...</td>\n",
       "      <td>...</td>\n",
       "      <td>...</td>\n",
       "      <td>...</td>\n",
       "      <td>...</td>\n",
       "      <td>...</td>\n",
       "      <td>...</td>\n",
       "      <td>...</td>\n",
       "    </tr>\n",
       "    <tr>\n",
       "      <th>431756</th>\n",
       "      <td>NaN</td>\n",
       "      <td>NaN</td>\n",
       "      <td>NaN</td>\n",
       "      <td>NaN</td>\n",
       "      <td>NaN</td>\n",
       "      <td>NaN</td>\n",
       "      <td>NaN</td>\n",
       "      <td>NaN</td>\n",
       "      <td>93.000000</td>\n",
       "      <td>NaN</td>\n",
       "      <td>...</td>\n",
       "      <td>7.36</td>\n",
       "      <td>42.999999</td>\n",
       "      <td>NaN</td>\n",
       "      <td>NaN</td>\n",
       "      <td>57.999999</td>\n",
       "      <td>NaN</td>\n",
       "      <td>NaN</td>\n",
       "      <td>42</td>\n",
       "      <td>9592</td>\n",
       "      <td>0</td>\n",
       "    </tr>\n",
       "    <tr>\n",
       "      <th>431757</th>\n",
       "      <td>NaN</td>\n",
       "      <td>17.0</td>\n",
       "      <td>NaN</td>\n",
       "      <td>NaN</td>\n",
       "      <td>4.1</td>\n",
       "      <td>NaN</td>\n",
       "      <td>59.999999</td>\n",
       "      <td>112.000006</td>\n",
       "      <td>122.000000</td>\n",
       "      <td>2.0</td>\n",
       "      <td>...</td>\n",
       "      <td>NaN</td>\n",
       "      <td>50.999999</td>\n",
       "      <td>14.500001</td>\n",
       "      <td>NaN</td>\n",
       "      <td>72.000001</td>\n",
       "      <td>27.5</td>\n",
       "      <td>NaN</td>\n",
       "      <td>43</td>\n",
       "      <td>9592</td>\n",
       "      <td>0</td>\n",
       "    </tr>\n",
       "    <tr>\n",
       "      <th>431758</th>\n",
       "      <td>NaN</td>\n",
       "      <td>NaN</td>\n",
       "      <td>NaN</td>\n",
       "      <td>0.5</td>\n",
       "      <td>NaN</td>\n",
       "      <td>NaN</td>\n",
       "      <td>50.000005</td>\n",
       "      <td>NaN</td>\n",
       "      <td>147.000003</td>\n",
       "      <td>NaN</td>\n",
       "      <td>...</td>\n",
       "      <td>NaN</td>\n",
       "      <td>55.999999</td>\n",
       "      <td>NaN</td>\n",
       "      <td>NaN</td>\n",
       "      <td>84.999998</td>\n",
       "      <td>NaN</td>\n",
       "      <td>NaN</td>\n",
       "      <td>45</td>\n",
       "      <td>9592</td>\n",
       "      <td>0</td>\n",
       "    </tr>\n",
       "    <tr>\n",
       "      <th>431759</th>\n",
       "      <td>NaN</td>\n",
       "      <td>NaN</td>\n",
       "      <td>NaN</td>\n",
       "      <td>NaN</td>\n",
       "      <td>NaN</td>\n",
       "      <td>NaN</td>\n",
       "      <td>NaN</td>\n",
       "      <td>NaN</td>\n",
       "      <td>95.000001</td>\n",
       "      <td>NaN</td>\n",
       "      <td>...</td>\n",
       "      <td>NaN</td>\n",
       "      <td>56.999999</td>\n",
       "      <td>NaN</td>\n",
       "      <td>NaN</td>\n",
       "      <td>72.000001</td>\n",
       "      <td>NaN</td>\n",
       "      <td>NaN</td>\n",
       "      <td>46</td>\n",
       "      <td>9592</td>\n",
       "      <td>0</td>\n",
       "    </tr>\n",
       "    <tr>\n",
       "      <th>431760</th>\n",
       "      <td>NaN</td>\n",
       "      <td>NaN</td>\n",
       "      <td>NaN</td>\n",
       "      <td>NaN</td>\n",
       "      <td>NaN</td>\n",
       "      <td>NaN</td>\n",
       "      <td>30.000000</td>\n",
       "      <td>NaN</td>\n",
       "      <td>99.000003</td>\n",
       "      <td>NaN</td>\n",
       "      <td>...</td>\n",
       "      <td>NaN</td>\n",
       "      <td>47.000000</td>\n",
       "      <td>NaN</td>\n",
       "      <td>NaN</td>\n",
       "      <td>62.999999</td>\n",
       "      <td>NaN</td>\n",
       "      <td>NaN</td>\n",
       "      <td>47</td>\n",
       "      <td>9592</td>\n",
       "      <td>0</td>\n",
       "    </tr>\n",
       "  </tbody>\n",
       "</table>\n",
       "<p>431761 rows × 38 columns</p>\n",
       "</div>"
      ],
      "text/plain": [
       "        ALP  HCO3  SaO2  FiO2    K  Albumin       Urine     Glucose  \\\n",
       "0       NaN   NaN   NaN   1.0  NaN      NaN    0.000000         NaN   \n",
       "1       NaN  21.0   NaN   0.5  NaN      NaN   45.000000         NaN   \n",
       "2       NaN   NaN  99.0   0.5  NaN      NaN  269.999997         NaN   \n",
       "3       NaN   NaN   NaN   0.4  NaN      NaN  220.000009         NaN   \n",
       "4       NaN   NaN  98.0   NaN  NaN      NaN   99.999993         NaN   \n",
       "...     ...   ...   ...   ...  ...      ...         ...         ...   \n",
       "431756  NaN   NaN   NaN   NaN  NaN      NaN         NaN         NaN   \n",
       "431757  NaN  17.0   NaN   NaN  4.1      NaN   59.999999  112.000006   \n",
       "431758  NaN   NaN   NaN   0.5  NaN      NaN   50.000005         NaN   \n",
       "431759  NaN   NaN   NaN   NaN  NaN      NaN         NaN         NaN   \n",
       "431760  NaN   NaN   NaN   NaN  NaN      NaN   30.000000         NaN   \n",
       "\n",
       "            SysABP   Mg  ...    pH    DiasABP        WBC  TroponinT  \\\n",
       "0       106.000000  NaN  ...  7.45  68.999999   7.399999        NaN   \n",
       "1       105.000002  3.1  ...  7.44  62.000001        NaN        NaN   \n",
       "2        99.000003  NaN  ...  7.40  55.999999        NaN        NaN   \n",
       "3        99.000003  NaN  ...   NaN  56.999999        NaN        NaN   \n",
       "4        80.000000  NaN  ...  7.34  55.000001        NaN        NaN   \n",
       "...            ...  ...  ...   ...        ...        ...        ...   \n",
       "431756   93.000000  NaN  ...  7.36  42.999999        NaN        NaN   \n",
       "431757  122.000000  2.0  ...   NaN  50.999999  14.500001        NaN   \n",
       "431758  147.000003  NaN  ...   NaN  55.999999        NaN        NaN   \n",
       "431759   95.000001  NaN  ...   NaN  56.999999        NaN        NaN   \n",
       "431760   99.000003  NaN  ...   NaN  47.000000        NaN        NaN   \n",
       "\n",
       "              MAP   HCT  AST  timepoint    id  outcome  \n",
       "0       81.000000  24.7  NaN          1     0        0  \n",
       "1       75.999999  28.8  NaN          2     0        0  \n",
       "2       70.999998   NaN  NaN          3     0        0  \n",
       "3       69.999999   NaN  NaN          4     0        0  \n",
       "4       72.000001  28.2  NaN          5     0        0  \n",
       "...           ...   ...  ...        ...   ...      ...  \n",
       "431756  57.999999   NaN  NaN         42  9592        0  \n",
       "431757  72.000001  27.5  NaN         43  9592        0  \n",
       "431758  84.999998   NaN  NaN         45  9592        0  \n",
       "431759  72.000001   NaN  NaN         46  9592        0  \n",
       "431760  62.999999   NaN  NaN         47  9592        0  \n",
       "\n",
       "[431761 rows x 38 columns]"
      ]
     },
     "execution_count": 26,
     "metadata": {},
     "output_type": "execute_result"
    }
   ],
   "source": [
    "df_ts_fake\n",
    "\n",
    "df_ts_train"
   ]
  },
  {
   "cell_type": "markdown",
   "metadata": {},
   "source": [
    "# Evaluation"
   ]
  },
  {
   "cell_type": "code",
   "execution_count": 27,
   "metadata": {},
   "outputs": [],
   "source": [
    "from Utils.evaluation import evaluate\n",
    "\n",
    "inputs = {\n",
    "\n",
    "    # normalized data\n",
    "    'fake_static': fake_static,\n",
    "    'fake_data': fake_data,\n",
    "    'train_static': train_static,\n",
    "    'train_data': train_data,\n",
    "    'test_static': val_static,\n",
    "    'test_data': val_data,\n",
    "\n",
    "    # dataframes from normalized data\n",
    "    'df_ts_fake': df_ts_fake,\n",
    "    'df_static_fake': df_static_fake,\n",
    "    'df_ts_train': df_ts_train,\n",
    "    'df_static_train': df_static_train,\n",
    "    'df_ts_test': df_ts_test,\n",
    "    'df_static_test': df_static_test,\n",
    "\n",
    "    'state_vars': train_dataset.temporal_features,\n",
    "}"
   ]
  },
  {
   "cell_type": "code",
   "execution_count": 28,
   "metadata": {},
   "outputs": [
    {
     "data": {
      "text/plain": [
       "((9593, 2, 64, 64), (9593, 2, 64, 64), (2394, 2, 64, 64))"
      ]
     },
     "execution_count": 28,
     "metadata": {},
     "output_type": "execute_result"
    }
   ],
   "source": [
    "fake_data.shape, train_data.shape, val_data.shape"
   ]
  },
  {
   "cell_type": "code",
   "execution_count": 29,
   "metadata": {},
   "outputs": [
    {
     "name": "stderr",
     "output_type": "stream",
     "text": [
      "\u001b[34m\u001b[1mwandb\u001b[0m: \u001b[33mWARNING\u001b[0m Path ./Results/NOTEBOOK-p12-s0/TimEHR-Eval/wandb/ wasn't writable, using system temp directory.\n"
     ]
    },
    {
     "name": "stderr",
     "output_type": "stream",
     "text": [
      "wandb: WARNING Path ./Results/NOTEBOOK-p12-s0/TimEHR-Eval/wandb/ wasn't writable, using system temp directory\n"
     ]
    },
    {
     "data": {
      "text/html": [
       "Tracking run with wandb version 0.16.6"
      ],
      "text/plain": [
       "<IPython.core.display.HTML object>"
      ]
     },
     "metadata": {},
     "output_type": "display_data"
    },
    {
     "data": {
      "text/html": [
       "Run data is saved locally in <code>/tmp/wandb/run-20240423_113246-te79i84l</code>"
      ],
      "text/plain": [
       "<IPython.core.display.HTML object>"
      ]
     },
     "metadata": {},
     "output_type": "display_data"
    },
    {
     "data": {
      "text/html": [
       "Syncing run <strong><a href='https://wandb.ai/hokarami/TimEHR-Eval/runs/te79i84l' target=\"_blank\">NOTEBOOK-p12-s0</a></strong> to <a href='https://wandb.ai/hokarami/TimEHR-Eval' target=\"_blank\">Weights & Biases</a> (<a href='https://wandb.me/run' target=\"_blank\">docs</a>)<br/>"
      ],
      "text/plain": [
       "<IPython.core.display.HTML object>"
      ]
     },
     "metadata": {},
     "output_type": "display_data"
    },
    {
     "data": {
      "text/html": [
       " View project at <a href='https://wandb.ai/hokarami/TimEHR-Eval' target=\"_blank\">https://wandb.ai/hokarami/TimEHR-Eval</a>"
      ],
      "text/plain": [
       "<IPython.core.display.HTML object>"
      ]
     },
     "metadata": {},
     "output_type": "display_data"
    },
    {
     "data": {
      "text/html": [
       " View run at <a href='https://wandb.ai/hokarami/TimEHR-Eval/runs/te79i84l' target=\"_blank\">https://wandb.ai/hokarami/TimEHR-Eval/runs/te79i84l</a>"
      ],
      "text/plain": [
       "<IPython.core.display.HTML object>"
      ]
     },
     "metadata": {},
     "output_type": "display_data"
    },
    {
     "name": "stdout",
     "output_type": "stream",
     "text": [
      "[info] Preprocessing \n",
      "[info] Preprocessing \n",
      "[info] Preprocessing \n",
      "[info] Preprocessing \n",
      "\n",
      "[info] TRTR\n",
      "[LightGBM] [Info] Number of positive: 1376, number of negative: 8217\n",
      "[LightGBM] [Info] Auto-choosing col-wise multi-threading, the overhead of testing was 0.020874 seconds.\n",
      "You can set `force_col_wise=true` to remove the overhead.\n",
      "[LightGBM] [Info] Total Bins 28291\n",
      "[LightGBM] [Info] Number of data points in the train set: 9593, number of used features: 175\n",
      "[LightGBM] [Info] [binary:BoostFromScore]: pavg=0.143438 -> initscore=-1.787024\n",
      "[LightGBM] [Info] Start training from score -1.787024\n",
      "AUROC: 0.8316548363996352\n",
      "AUPRC: 0.4755285238145955\n",
      "F1: 0.41573033707865165\n",
      "\n",
      "[info] TSTR\n",
      "[LightGBM] [Info] Number of positive: 1376, number of negative: 8217\n",
      "[LightGBM] [Info] Auto-choosing col-wise multi-threading, the overhead of testing was 0.022916 seconds.\n",
      "You can set `force_col_wise=true` to remove the overhead.\n",
      "[LightGBM] [Info] Total Bins 41877\n",
      "[LightGBM] [Info] Number of data points in the train set: 9593, number of used features: 175\n",
      "[LightGBM] [Info] [binary:BoostFromScore]: pavg=0.143438 -> initscore=-1.787024\n",
      "[LightGBM] [Info] Start training from score -1.787024\n",
      "AUROC: 0.783331112259886\n",
      "AUPRC: 0.424779931935005\n",
      "F1: 0.43219404630650493\n",
      "{'TCD[Train-Synthetic]/stats.tc_corr': 0.021739174412555847, 'TCD[Train-Test]/stats.tc_corr': 0.010405730403164405}\n",
      "\n",
      "[info] resampling to 2394\n",
      "\n",
      "[info] computing synthcity metrics X_train and X_test\n",
      "\n",
      "[info] computing synthcity metrics X_train and X_syn\n"
     ]
    },
    {
     "data": {
      "text/html": [
       "<style>\n",
       "    table.wandb td:nth-child(1) { padding: 0 10px; text-align: left ; width: auto;} td:nth-child(2) {text-align: left ; width: 100%}\n",
       "    .wandb-row { display: flex; flex-direction: row; flex-wrap: wrap; justify-content: flex-start; width: 100% }\n",
       "    .wandb-col { display: flex; flex-direction: column; flex-basis: 100%; flex: 1; padding: 10px; }\n",
       "    </style>\n",
       "<div class=\"wandb-row\"><div class=\"wandb-col\"><h3>Run history:</h3><br/><table class=\"wandb\"><tr><td>Adv ACC/AA_test_syn</td><td>▁</td></tr><tr><td>Adv ACC/AA_train_syn</td><td>▁</td></tr><tr><td>Adv ACC/AA_train_test</td><td>▁</td></tr><tr><td>Adv ACC/NNAA</td><td>▁</td></tr><tr><td>MIA/JSD</td><td>▁</td></tr><tr><td>MIA/WD</td><td>▁</td></tr><tr><td>MIA/knn-auroc</td><td>▁</td></tr><tr><td>Synthcity[Train-Synthetic]/privacy.identifiability_score.score</td><td>▁</td></tr><tr><td>Synthcity[Train-Synthetic]/privacy.identifiability_score.score_OC</td><td>▁</td></tr><tr><td>Synthcity[Train-Synthetic]/stats.prdc.coverage</td><td>▁</td></tr><tr><td>Synthcity[Train-Synthetic]/stats.prdc.density</td><td>▁</td></tr><tr><td>Synthcity[Train-Synthetic]/stats.prdc.precision</td><td>▁</td></tr><tr><td>Synthcity[Train-Synthetic]/stats.prdc.recall</td><td>▁</td></tr><tr><td>Synthcity[Train-Test]/privacy.identifiability_score.score</td><td>▁</td></tr><tr><td>Synthcity[Train-Test]/privacy.identifiability_score.score_OC</td><td>▁</td></tr><tr><td>Synthcity[Train-Test]/stats.prdc.coverage</td><td>▁</td></tr><tr><td>Synthcity[Train-Test]/stats.prdc.density</td><td>▁</td></tr><tr><td>Synthcity[Train-Test]/stats.prdc.precision</td><td>▁</td></tr><tr><td>Synthcity[Train-Test]/stats.prdc.recall</td><td>▁</td></tr><tr><td>TCD[Train-Synthetic]/stats.tc_corr</td><td>▁</td></tr><tr><td>TCD[Train-Test]/stats.tc_corr</td><td>▁</td></tr><tr><td>TRTR/AUPRC</td><td>▁</td></tr><tr><td>TRTR/AUROC</td><td>▁</td></tr><tr><td>TRTR/F1</td><td>▁</td></tr><tr><td>TSTR/AUPRC</td><td>▁</td></tr><tr><td>TSTR/AUROC</td><td>▁</td></tr><tr><td>TSTR/F1</td><td>▁</td></tr></table><br/></div><div class=\"wandb-col\"><h3>Run summary:</h3><br/><table class=\"wandb\"><tr><td>Adv ACC/AA_test_syn</td><td>0.74123</td></tr><tr><td>Adv ACC/AA_train_syn</td><td>0.72431</td></tr><tr><td>Adv ACC/AA_train_test</td><td>0.52151</td></tr><tr><td>Adv ACC/NNAA</td><td>-0.01692</td></tr><tr><td>MIA/JSD</td><td>0.00151</td></tr><tr><td>MIA/WD</td><td>0.00251</td></tr><tr><td>MIA/knn-auroc</td><td>0.4902</td></tr><tr><td>Synthcity[Train-Synthetic]/privacy.identifiability_score.score</td><td>0.2736</td></tr><tr><td>Synthcity[Train-Synthetic]/privacy.identifiability_score.score_OC</td><td>0.3254</td></tr><tr><td>Synthcity[Train-Synthetic]/stats.prdc.coverage</td><td>0.77485</td></tr><tr><td>Synthcity[Train-Synthetic]/stats.prdc.density</td><td>0.59014</td></tr><tr><td>Synthcity[Train-Synthetic]/stats.prdc.precision</td><td>0.74353</td></tr><tr><td>Synthcity[Train-Synthetic]/stats.prdc.recall</td><td>0.67627</td></tr><tr><td>Synthcity[Train-Test]/privacy.identifiability_score.score</td><td>0.45238</td></tr><tr><td>Synthcity[Train-Test]/privacy.identifiability_score.score_OC</td><td>0.43066</td></tr><tr><td>Synthcity[Train-Test]/stats.prdc.coverage</td><td>0.95739</td></tr><tr><td>Synthcity[Train-Test]/stats.prdc.density</td><td>0.87602</td></tr><tr><td>Synthcity[Train-Test]/stats.prdc.precision</td><td>0.83124</td></tr><tr><td>Synthcity[Train-Test]/stats.prdc.recall</td><td>0.84921</td></tr><tr><td>TCD[Train-Synthetic]/stats.tc_corr</td><td>0.02174</td></tr><tr><td>TCD[Train-Test]/stats.tc_corr</td><td>0.01041</td></tr><tr><td>TRTR/AUPRC</td><td>0.47553</td></tr><tr><td>TRTR/AUROC</td><td>0.83165</td></tr><tr><td>TRTR/F1</td><td>0.41573</td></tr><tr><td>TSTR/AUPRC</td><td>0.42478</td></tr><tr><td>TSTR/AUROC</td><td>0.78333</td></tr><tr><td>TSTR/F1</td><td>0.43219</td></tr></table><br/></div></div>"
      ],
      "text/plain": [
       "<IPython.core.display.HTML object>"
      ]
     },
     "metadata": {},
     "output_type": "display_data"
    },
    {
     "data": {
      "text/html": [
       " View run <strong style=\"color:#cdcd00\">NOTEBOOK-p12-s0</strong> at: <a href='https://wandb.ai/hokarami/TimEHR-Eval/runs/te79i84l' target=\"_blank\">https://wandb.ai/hokarami/TimEHR-Eval/runs/te79i84l</a><br/> View project at: <a href='https://wandb.ai/hokarami/TimEHR-Eval' target=\"_blank\">https://wandb.ai/hokarami/TimEHR-Eval</a><br/>Synced 5 W&B file(s), 3 media file(s), 0 artifact file(s) and 0 other file(s)"
      ],
      "text/plain": [
       "<IPython.core.display.HTML object>"
      ]
     },
     "metadata": {},
     "output_type": "display_data"
    },
    {
     "data": {
      "text/html": [
       "Find logs at: <code>/tmp/wandb/run-20240423_113246-te79i84l/logs</code>"
      ],
      "text/plain": [
       "<IPython.core.display.HTML object>"
      ]
     },
     "metadata": {},
     "output_type": "display_data"
    }
   ],
   "source": [
    "wandb_task_name = f\"NOTEBOOK-{cfg.data.name}-s{cfg.split}\"\n",
    "\n",
    "evaluate(inputs, wandb_task_name)\n",
    "\n",
    "# You can now view the results in the wandb dashboard under USERNAME/TimEHR_Results\n",
    "# The results are also available locally in Results/{wandb_task_name}/wandb/{run_name}/"
   ]
  },
  {
   "cell_type": "code",
   "execution_count": null,
   "metadata": {},
   "outputs": [],
   "source": []
  }
 ],
 "metadata": {
  "kernelspec": {
   "display_name": "Python 3",
   "language": "python",
   "name": "python3"
  },
  "language_info": {
   "codemirror_mode": {
    "name": "ipython",
    "version": 3
   },
   "file_extension": ".py",
   "mimetype": "text/x-python",
   "name": "python",
   "nbconvert_exporter": "python",
   "pygments_lexer": "ipython3",
   "version": "3.8.5"
  }
 },
 "nbformat": 4,
 "nbformat_minor": 2
}
