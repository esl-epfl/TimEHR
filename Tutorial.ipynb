{
 "cells": [
  {
   "cell_type": "code",
   "execution_count": 1,
   "metadata": {},
   "outputs": [],
   "source": [
    "# activate line execution\n",
    "from IPython.core.interactiveshell import InteractiveShell\n",
    "InteractiveShell.ast_node_interactivity = \"all\"\n",
    "\n",
    "%load_ext autoreload\n",
    "%autoreload 2"
   ]
  },
  {
   "cell_type": "code",
   "execution_count": 2,
   "metadata": {},
   "outputs": [],
   "source": [
    "import pandas as pd\n",
    "import numpy as np\n",
    "import logging\n",
    "logging.basicConfig(level=logging.INFO)"
   ]
  },
  {
   "cell_type": "code",
   "execution_count": 3,
   "metadata": {},
   "outputs": [],
   "source": [
    "from MulticoreTSNE import MulticoreTSNE as TSNE\n",
    "import numpy as np\n",
    "import plotly.express as px\n",
    "import plotly.graph_objects as go\n",
    "from plotly.subplots import make_subplots"
   ]
  },
  {
   "cell_type": "code",
   "execution_count": 4,
   "metadata": {},
   "outputs": [
    {
     "data": {
      "text/plain": [
       "hydra.initialize()"
      ]
     },
     "execution_count": 4,
     "metadata": {},
     "output_type": "execute_result"
    },
    {
     "name": "stderr",
     "output_type": "stream",
     "text": [
      "/mlodata1/hokarami/Machine-Learning-Collection/ML/Pytorch/GANs/4. WGAN-GP/test2/lib/python3.8/site-packages/hydra/_internal/defaults_list.py:251: UserWarning: In 'config.yaml': Defaults list is missing `_self_`. See https://hydra.cc/docs/1.2/upgrades/1.0_to_1.1/default_composition_order for more information\n",
      "  warnings.warn(msg, UserWarning)\n"
     ]
    }
   ],
   "source": [
    "import os\n",
    "from hydra import initialize, initialize_config_module, initialize_config_dir, compose\n",
    "from omegaconf import OmegaConf\n",
    "\n",
    "initialize(version_base=None, config_path=\"configs\")\n",
    "cfg = compose(config_name=\"config.yaml\")"
   ]
  },
  {
   "cell_type": "code",
   "execution_count": 5,
   "metadata": {},
   "outputs": [
    {
     "data": {
      "text/plain": [
       "True"
      ]
     },
     "execution_count": 5,
     "metadata": {},
     "output_type": "execute_result"
    },
    {
     "name": "stderr",
     "output_type": "stream",
     "text": [
      "ERROR:wandb.jupyter:Failed to detect the name of this notebook, you can set it manually with the WANDB_NOTEBOOK_NAME environment variable to enable code saving.\n",
      "\u001b[34m\u001b[1mwandb\u001b[0m: Currently logged in as: \u001b[33mg-hojatkarami\u001b[0m (\u001b[33mhokarami\u001b[0m). Use \u001b[1m`wandb login --relogin`\u001b[0m to force relogin\n"
     ]
    },
    {
     "data": {
      "text/plain": [
       "True"
      ]
     },
     "execution_count": 5,
     "metadata": {},
     "output_type": "execute_result"
    }
   ],
   "source": [
    "from dotenv import load_dotenv\n",
    "import wandb\n",
    "import os\n",
    "\n",
    "load_dotenv()\n",
    "wandb.login(key=os.getenv(\"WANDB_KEY\"))\n",
    "\n",
    "api = wandb.Api()"
   ]
  },
  {
   "cell_type": "code",
   "execution_count": 6,
   "metadata": {},
   "outputs": [],
   "source": [
    "import torch\n",
    "import torch.nn as nn\n",
    "from torch.utils.data import DataLoader\n",
    "\n",
    "from tqdm import tqdm"
   ]
  },
  {
   "cell_type": "markdown",
   "metadata": {},
   "source": [
    "# Load Data"
   ]
  },
  {
   "cell_type": "code",
   "execution_count": 7,
   "metadata": {},
   "outputs": [
    {
     "name": "stdout",
     "output_type": "stream",
     "text": [
      "{'name': 'p12', 'static_variables': None, 'timeseries_variables': None, 'path_raw': '/mlodata1/hokarami/tedam/raw', 'path_processed': '/mlodata1/hokarami/tedam/TimEHR/data/processed/p12-real', 'path_train': '/mlodata1/hokarami/tedam/TimEHR/data/processed/p12-real/split{SPLIT}/train.pkl', 'path_eval': '/mlodata1/hokarami/tedam/TimEHR/data/processed/p12-real/split{SPLIT}/eval.pkl', 'img_size': 64, 'd_static': 9, 'd_ts': None, 'label': None}\n"
     ]
    }
   ],
   "source": [
    "from Utils.data import load_data, Physio3\n",
    "print(cfg.data)\n",
    "\n",
    "SPLIT=0\n",
    "path_train, path_val = cfg.data.path_train.format(SPLIT=1), cfg.data.path_eval.format(SPLIT=1)\n",
    "train_dataset, val_dataset, train_schema, val_schema = load_data(path_train, path_val, batch_size = cfg.bs)"
   ]
  },
  {
   "cell_type": "markdown",
   "metadata": {},
   "source": [
    "# Train/Load Model"
   ]
  },
  {
   "cell_type": "code",
   "execution_count": 8,
   "metadata": {},
   "outputs": [
    {
     "name": "stderr",
     "output_type": "stream",
     "text": [
      "/mlodata1/hokarami/Machine-Learning-Collection/ML/Pytorch/GANs/4. WGAN-GP/test2/lib/python3.8/site-packages/tqdm/auto.py:21: TqdmWarning: IProgress not found. Please update jupyter and ipywidgets. See https://ipywidgets.readthedocs.io/en/stable/user_install.html\n",
      "  from .autonotebook import tqdm as notebook_tqdm\n"
     ]
    },
    {
     "name": "stdout",
     "output_type": "stream",
     "text": [
      "[KeOps] Compiling cuda jit compiler engine ... \n",
      "[KeOps] Warning : There were warnings or errors :\n",
      "g++: error: WGAN-GP/test2/lib/python3.8/site-packages/keopscore: No such file or directory\n",
      "g++: error: /mlodata1/hokarami/Machine-Learning-Collection/ML/Pytorch/GANs/4.: No such file or directory\n",
      "g++: error: WGAN-GP/test2/lib/python3.8/site-packages/keopscore/binders/nvrtc/nvrtc_jit.cpp: No such file or directory\n",
      "\n",
      "OK\n",
      "[pyKeOps] Compiling nvrtc binder for python ... \n",
      "[KeOps] Warning : There were warnings or errors :\n",
      "/bin/sh: 1: /mlodata1/hokarami/Machine-Learning-Collection/ML/Pytorch/GANs/4.: not found\n",
      "g++: error: WGAN-GP/test2/lib/python3.8/site-packages/keopscore: No such file or directory\n",
      "g++: error: /mlodata1/hokarami/Machine-Learning-Collection/ML/Pytorch/GANs/4.: No such file or directory\n",
      "g++: error: WGAN-GP/test2/lib/python3.8/site-packages/pykeops/common/keops_io/pykeops_nvrtc.cpp: No such file or directory\n",
      "\n",
      "OK\n",
      "Generator has 1,304,964 trainable parameters\n",
      "Critic has 212,177 trainable parameters\n",
      "Generator has 54446273 parameters\n",
      "Discriminator has 39593 parameters\n"
     ]
    }
   ],
   "source": [
    "from Utils.models import TimEHR\n",
    "\n",
    "model = TimEHR(cfg)"
   ]
  },
  {
   "cell_type": "code",
   "execution_count": 9,
   "metadata": {},
   "outputs": [
    {
     "name": "stderr",
     "output_type": "stream",
     "text": [
      "INFO:root:Loading CWGAN from run: hokarami/CWGAN/uj5gf643\n"
     ]
    },
    {
     "name": "stdout",
     "output_type": "stream",
     "text": [
      "CWGAN - run_path:  hokarami/CWGAN/uj5gf643\n"
     ]
    },
    {
     "name": "stderr",
     "output_type": "stream",
     "text": [
      "INFO:root:Loading PIXGAN from run: hokarami/PIXGAN/9hec4rye\n"
     ]
    },
    {
     "name": "stdout",
     "output_type": "stream",
     "text": [
      "run is old\n",
      "last_epoch:  400\n",
      "PIXGAN - run_path:  hokarami/PIXGAN/9hec4rye\n",
      "last_epoch:  150\n"
     ]
    }
   ],
   "source": [
    "# model.from_pretrained(path_cwgan='hokarami/CWGAN/uj5gf643',path_pix2pix='hokarami/PIXGAN/lorajx1i')\n",
    "model.from_pretrained(path_cwgan='hokarami/CWGAN/uj5gf643',path_pix2pix='hokarami/PIXGAN/9hec4rye')\n"
   ]
  },
  {
   "cell_type": "code",
   "execution_count": 10,
   "metadata": {},
   "outputs": [
    {
     "data": {
      "text/plain": [
       "'hokarami/CWGAN/uj5gf643'"
      ]
     },
     "execution_count": 10,
     "metadata": {},
     "output_type": "execute_result"
    },
    {
     "data": {
      "text/plain": [
       "400"
      ]
     },
     "execution_count": 10,
     "metadata": {},
     "output_type": "execute_result"
    },
    {
     "data": {
      "text/plain": [
       "'hokarami/PIXGAN/9hec4rye'"
      ]
     },
     "execution_count": 10,
     "metadata": {},
     "output_type": "execute_result"
    },
    {
     "data": {
      "text/plain": [
       "150"
      ]
     },
     "execution_count": 10,
     "metadata": {},
     "output_type": "execute_result"
    },
    {
     "data": {
      "text/plain": [
       "{}"
      ]
     },
     "execution_count": 10,
     "metadata": {},
     "output_type": "execute_result"
    }
   ],
   "source": [
    "model.cwgan.run_path\n",
    "model.cwgan.epoch_no\n",
    "\n",
    "model.pix2pix.run_path\n",
    "model.pix2pix.epoch_no\n",
    "\n",
    "model.progress"
   ]
  },
  {
   "cell_type": "markdown",
   "metadata": {},
   "source": [
    "# Generation"
   ]
  },
  {
   "cell_type": "code",
   "execution_count": 11,
   "metadata": {},
   "outputs": [
    {
     "name": "stderr",
     "output_type": "stream",
     "text": [
      "INFO:root:Using static data from the training set (9589 samples)\n",
      "  0%|          | 0/150 [00:00<?, ?it/s]"
     ]
    },
    {
     "name": "stderr",
     "output_type": "stream",
     "text": [
      "100%|██████████| 150/150 [00:00<00:00, 194.08it/s]\n",
      "100%|██████████| 150/150 [00:00<00:00, 221.06it/s]\n",
      "100%|██████████| 38/38 [00:00<00:00, 277.81it/s]\n"
     ]
    }
   ],
   "source": [
    "from Utils.utils import mat2df\n",
    "# get synthetic data\n",
    "fake_static, fake_data = model.generate(train_dataset, train_schema, count=len(train_dataset), method='real')\n",
    "df_ts_fake, df_demo_fake = mat2df(fake_data,fake_static, train_schema)\n",
    "\n",
    "# get train data\n",
    "train_static, train_data = model._get_data(train_dataset)\n",
    "df_ts_train, df_demo_train = mat2df(train_data,train_static, train_schema)\n",
    "\n",
    "# get test data\n",
    "test_static, test_data = model._get_data(val_dataset)\n",
    "df_ts_test, df_demo_test = mat2df(test_data,test_static, val_schema)"
   ]
  },
  {
   "cell_type": "markdown",
   "metadata": {},
   "source": [
    "# Evaluation"
   ]
  },
  {
   "cell_type": "code",
   "execution_count": 31,
   "metadata": {},
   "outputs": [],
   "source": [
    "from Utils.evaluation import evaluate\n",
    "\n",
    "inputs = {\n",
    "\n",
    "    # normalized data\n",
    "    'fake_static': fake_static,\n",
    "    'fake_data': fake_data,\n",
    "    'train_static': train_static,\n",
    "    'train_data': train_data,\n",
    "    'test_static': test_static,\n",
    "    'test_data': test_data,\n",
    "\n",
    "    # dataframes from normalized data\n",
    "    'df_ts_fake': df_ts_fake,\n",
    "    'df_demo_fake': df_demo_fake,\n",
    "    'df_ts_train': df_ts_train,\n",
    "    'df_demo_train': df_demo_train,\n",
    "    'df_ts_test': df_ts_test,\n",
    "    'df_demo_test': df_demo_test,\n",
    "\n",
    "    'state_vars': train_schema.dynamic_processor['mean'].index.tolist(),\n",
    "}"
   ]
  },
  {
   "cell_type": "code",
   "execution_count": 32,
   "metadata": {},
   "outputs": [
    {
     "data": {
      "text/plain": [
       "((9589, 2, 64, 64), (9589, 2, 64, 64), (2398, 2, 64, 64))"
      ]
     },
     "execution_count": 32,
     "metadata": {},
     "output_type": "execute_result"
    }
   ],
   "source": [
    "fake_data.shape, train_data.shape, test_data.shape"
   ]
  },
  {
   "cell_type": "code",
   "execution_count": 34,
   "metadata": {},
   "outputs": [
    {
     "data": {
      "text/html": [
       "Tracking run with wandb version 0.16.6"
      ],
      "text/plain": [
       "<IPython.core.display.HTML object>"
      ]
     },
     "metadata": {},
     "output_type": "display_data"
    },
    {
     "data": {
      "text/html": [
       "Run data is saved locally in <code>/tmp/wandb/run-20240412_093440-hu3a3lnn</code>"
      ],
      "text/plain": [
       "<IPython.core.display.HTML object>"
      ]
     },
     "metadata": {},
     "output_type": "display_data"
    },
    {
     "data": {
      "text/html": [
       "Syncing run <strong><a href='https://wandb.ai/hokarami/TimEHR-Eval/runs/hu3a3lnn' target=\"_blank\">NOTEBOOK-p12-s0</a></strong> to <a href='https://wandb.ai/hokarami/TimEHR-Eval' target=\"_blank\">Weights & Biases</a> (<a href='https://wandb.me/run' target=\"_blank\">docs</a>)<br/>"
      ],
      "text/plain": [
       "<IPython.core.display.HTML object>"
      ]
     },
     "metadata": {},
     "output_type": "display_data"
    },
    {
     "data": {
      "text/html": [
       " View project at <a href='https://wandb.ai/hokarami/TimEHR-Eval' target=\"_blank\">https://wandb.ai/hokarami/TimEHR-Eval</a>"
      ],
      "text/plain": [
       "<IPython.core.display.HTML object>"
      ]
     },
     "metadata": {},
     "output_type": "display_data"
    },
    {
     "data": {
      "text/html": [
       " View run at <a href='https://wandb.ai/hokarami/TimEHR-Eval/runs/hu3a3lnn' target=\"_blank\">https://wandb.ai/hokarami/TimEHR-Eval/runs/hu3a3lnn</a>"
      ],
      "text/plain": [
       "<IPython.core.display.HTML object>"
      ]
     },
     "metadata": {},
     "output_type": "display_data"
    },
    {
     "name": "stdout",
     "output_type": "stream",
     "text": [
      "[info] Preprocessing \n",
      "[info] Preprocessing \n",
      "[info] Preprocessing \n",
      "[info] Preprocessing \n",
      "\n",
      "[info] TRTR\n",
      "[LightGBM] [Info] Number of positive: 1346, number of negative: 8243\n",
      "[LightGBM] [Info] Auto-choosing col-wise multi-threading, the overhead of testing was 0.014723 seconds.\n",
      "You can set `force_col_wise=true` to remove the overhead.\n",
      "[LightGBM] [Info] Total Bins 28499\n",
      "[LightGBM] [Info] Number of data points in the train set: 9589, number of used features: 175\n",
      "[LightGBM] [Info] [binary:BoostFromScore]: pavg=0.140369 -> initscore=-1.812227\n",
      "[LightGBM] [Info] Start training from score -1.812227\n",
      "AUROC: 0.8316599964371048\n",
      "AUPRC: 0.48931353244748893\n",
      "F1: 0.4992743105950654\n",
      "\n",
      "[info] TSTR\n",
      "[LightGBM] [Info] Number of positive: 1355, number of negative: 8234\n",
      "[LightGBM] [Info] Auto-choosing col-wise multi-threading, the overhead of testing was 0.011836 seconds.\n",
      "You can set `force_col_wise=true` to remove the overhead.\n",
      "[LightGBM] [Info] Total Bins 41447\n",
      "[LightGBM] [Info] Number of data points in the train set: 9589, number of used features: 175\n",
      "[LightGBM] [Info] [binary:BoostFromScore]: pavg=0.141308 -> initscore=-1.804470\n",
      "[LightGBM] [Info] Start training from score -1.804470\n",
      "AUROC: 0.7448572598071412\n",
      "AUPRC: 0.359730816492441\n",
      "F1: 0.3795620437956205\n",
      "{'TCD[Train-Synthetic]/stats.tc_corr': 0.027612377790659715, 'TCD[Train-Test]/stats.tc_corr': 0.010998865652512747}\n",
      "\n",
      "[info] resampling to 2398\n",
      "\n",
      "[info] computing synthcity metrics X_train and X_test\n",
      "\n",
      "[info] computing synthcity metrics X_train and X_syn\n"
     ]
    },
    {
     "data": {
      "text/html": [
       "<style>\n",
       "    table.wandb td:nth-child(1) { padding: 0 10px; text-align: left ; width: auto;} td:nth-child(2) {text-align: left ; width: 100%}\n",
       "    .wandb-row { display: flex; flex-direction: row; flex-wrap: wrap; justify-content: flex-start; width: 100% }\n",
       "    .wandb-col { display: flex; flex-direction: column; flex-basis: 100%; flex: 1; padding: 10px; }\n",
       "    </style>\n",
       "<div class=\"wandb-row\"><div class=\"wandb-col\"><h3>Run history:</h3><br/><table class=\"wandb\"><tr><td>Adv ACC/AA_test_syn</td><td>▁</td></tr><tr><td>Adv ACC/AA_train_syn</td><td>▁</td></tr><tr><td>Adv ACC/AA_train_test</td><td>▁</td></tr><tr><td>Adv ACC/NNAA</td><td>▁</td></tr><tr><td>MIA/JSD</td><td>▁</td></tr><tr><td>MIA/WD</td><td>▁</td></tr><tr><td>MIA/knn-auroc</td><td>▁</td></tr><tr><td>Synthcity[Train-Synthetic]/privacy.identifiability_score.score</td><td>▁</td></tr><tr><td>Synthcity[Train-Synthetic]/privacy.identifiability_score.score_OC</td><td>▁</td></tr><tr><td>Synthcity[Train-Synthetic]/stats.prdc.coverage</td><td>▁</td></tr><tr><td>Synthcity[Train-Synthetic]/stats.prdc.density</td><td>▁</td></tr><tr><td>Synthcity[Train-Synthetic]/stats.prdc.precision</td><td>▁</td></tr><tr><td>Synthcity[Train-Synthetic]/stats.prdc.recall</td><td>▁</td></tr><tr><td>Synthcity[Train-Test]/privacy.identifiability_score.score</td><td>▁</td></tr><tr><td>Synthcity[Train-Test]/privacy.identifiability_score.score_OC</td><td>▁</td></tr><tr><td>Synthcity[Train-Test]/stats.prdc.coverage</td><td>▁</td></tr><tr><td>Synthcity[Train-Test]/stats.prdc.density</td><td>▁</td></tr><tr><td>Synthcity[Train-Test]/stats.prdc.precision</td><td>▁</td></tr><tr><td>Synthcity[Train-Test]/stats.prdc.recall</td><td>▁</td></tr><tr><td>TCD[Train-Synthetic]/stats.tc_corr</td><td>▁</td></tr><tr><td>TCD[Train-Test]/stats.tc_corr</td><td>▁</td></tr><tr><td>TRTR/AUPRC</td><td>▁</td></tr><tr><td>TRTR/AUROC</td><td>▁</td></tr><tr><td>TRTR/F1</td><td>▁</td></tr><tr><td>TSTR/AUPRC</td><td>▁</td></tr><tr><td>TSTR/AUROC</td><td>▁</td></tr><tr><td>TSTR/F1</td><td>▁</td></tr></table><br/></div><div class=\"wandb-col\"><h3>Run summary:</h3><br/><table class=\"wandb\"><tr><td>Adv ACC/AA_test_syn</td><td>1.0</td></tr><tr><td>Adv ACC/AA_train_syn</td><td>0.99937</td></tr><tr><td>Adv ACC/AA_train_test</td><td>0.49666</td></tr><tr><td>Adv ACC/NNAA</td><td>-0.00063</td></tr><tr><td>MIA/JSD</td><td>0.00157</td></tr><tr><td>MIA/WD</td><td>0.00078</td></tr><tr><td>MIA/knn-auroc</td><td>0.49595</td></tr><tr><td>Synthcity[Train-Synthetic]/privacy.identifiability_score.score</td><td>0.00125</td></tr><tr><td>Synthcity[Train-Synthetic]/privacy.identifiability_score.score_OC</td><td>0.1397</td></tr><tr><td>Synthcity[Train-Synthetic]/stats.prdc.coverage</td><td>0.00292</td></tr><tr><td>Synthcity[Train-Synthetic]/stats.prdc.density</td><td>0.00158</td></tr><tr><td>Synthcity[Train-Synthetic]/stats.prdc.precision</td><td>0.00792</td></tr><tr><td>Synthcity[Train-Synthetic]/stats.prdc.recall</td><td>0.0</td></tr><tr><td>Synthcity[Train-Test]/privacy.identifiability_score.score</td><td>0.49666</td></tr><tr><td>Synthcity[Train-Test]/privacy.identifiability_score.score_OC</td><td>0.44204</td></tr><tr><td>Synthcity[Train-Test]/stats.prdc.coverage</td><td>0.96789</td></tr><tr><td>Synthcity[Train-Test]/stats.prdc.density</td><td>0.9809</td></tr><tr><td>Synthcity[Train-Test]/stats.prdc.precision</td><td>0.86614</td></tr><tr><td>Synthcity[Train-Test]/stats.prdc.recall</td><td>0.86364</td></tr><tr><td>TCD[Train-Synthetic]/stats.tc_corr</td><td>0.02761</td></tr><tr><td>TCD[Train-Test]/stats.tc_corr</td><td>0.011</td></tr><tr><td>TRTR/AUPRC</td><td>0.48931</td></tr><tr><td>TRTR/AUROC</td><td>0.83166</td></tr><tr><td>TRTR/F1</td><td>0.49927</td></tr><tr><td>TSTR/AUPRC</td><td>0.35973</td></tr><tr><td>TSTR/AUROC</td><td>0.74486</td></tr><tr><td>TSTR/F1</td><td>0.37956</td></tr></table><br/></div></div>"
      ],
      "text/plain": [
       "<IPython.core.display.HTML object>"
      ]
     },
     "metadata": {},
     "output_type": "display_data"
    },
    {
     "data": {
      "text/html": [
       " View run <strong style=\"color:#cdcd00\">NOTEBOOK-p12-s0</strong> at: <a href='https://wandb.ai/hokarami/TimEHR-Eval/runs/hu3a3lnn' target=\"_blank\">https://wandb.ai/hokarami/TimEHR-Eval/runs/hu3a3lnn</a><br/> View project at: <a href='https://wandb.ai/hokarami/TimEHR-Eval' target=\"_blank\">https://wandb.ai/hokarami/TimEHR-Eval</a><br/>Synced 5 W&B file(s), 3 media file(s), 0 artifact file(s) and 0 other file(s)"
      ],
      "text/plain": [
       "<IPython.core.display.HTML object>"
      ]
     },
     "metadata": {},
     "output_type": "display_data"
    },
    {
     "data": {
      "text/html": [
       "Find logs at: <code>/tmp/wandb/run-20240412_093440-hu3a3lnn/logs</code>"
      ],
      "text/plain": [
       "<IPython.core.display.HTML object>"
      ]
     },
     "metadata": {},
     "output_type": "display_data"
    }
   ],
   "source": [
    "wandb_task_name = f\"NOTEBOOK-{cfg.data.name}-s{cfg.split}\"\n",
    "\n",
    "evaluate(inputs, wandb_task_name)\n",
    "\n",
    "# You can now view the results in the wandb dashboard under USERNAME/TimEHR_Results\n",
    "# The results are also available locally in Results/{wandb_task_name}/wandb/{run_name}/"
   ]
  }
 ],
 "metadata": {
  "kernelspec": {
   "display_name": "Python 3",
   "language": "python",
   "name": "python3"
  },
  "language_info": {
   "codemirror_mode": {
    "name": "ipython",
    "version": 3
   },
   "file_extension": ".py",
   "mimetype": "text/x-python",
   "name": "python",
   "nbconvert_exporter": "python",
   "pygments_lexer": "ipython3",
   "version": "3.8.5"
  }
 },
 "nbformat": 4,
 "nbformat_minor": 2
}
